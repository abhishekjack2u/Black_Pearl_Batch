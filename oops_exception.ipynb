{
 "cells": [
  {
   "cell_type": "markdown",
   "id": "f528c447",
   "metadata": {},
   "source": [
    "# Encapsulation:\n",
    "\n",
    "It is the functionality of the object oriented programming language to keep public and private methods/variables in the class."
   ]
  },
  {
   "cell_type": "code",
   "execution_count": 7,
   "id": "7fe22e57",
   "metadata": {},
   "outputs": [
    {
     "data": {
      "text/plain": [
       "'Success'"
      ]
     },
     "execution_count": 7,
     "metadata": {},
     "output_type": "execute_result"
    }
   ],
   "source": [
    "class abc:\n",
    "    value=90   # value is the public variable\n",
    "    def perform(): #perform is the public method\n",
    "        return \"Success\"\n",
    "obj=abc\n",
    "obj.perform()"
   ]
  },
  {
   "cell_type": "code",
   "execution_count": 9,
   "id": "13535971",
   "metadata": {},
   "outputs": [],
   "source": [
    "class abc:\n",
    "    __value=90   # __value is the parivate variable\n",
    "    def __perform(): #__perform is the private method\n",
    "        return \"Success\"\n",
    "obj=abc\n",
    "#obj.perform() # This is throwing error because perform is the private method and we cannot use it using the object."
   ]
  },
  {
   "cell_type": "code",
   "execution_count": 20,
   "id": "0975e1c2",
   "metadata": {},
   "outputs": [],
   "source": [
    "'''\n",
    "Encapsulation can be defined as one of the fundamental of the oops. It describe the idea of wrapping data and the methods that\n",
    "work on data within the same unit.\n",
    "\n",
    "Public method: These are accessible universally.\n",
    "Private method: Exclusive to their class, these begin with two underscore.\n",
    "Public Variable: These are universally accessible.\n",
    "Private variable: Restricted to their class or through specific methods.\n",
    "'''\n",
    "class main:\n",
    "    def __init__(self):\n",
    "        self._a=\"Hello\"\n",
    "        self.__x=\"Success\"\n",
    "class derived(main):\n",
    "    def __init__(self):\n",
    "        main.__init__(self)\n",
    "        print(\"The value for a is :- \",self._a)\n",
    "        self._a=\"Bye\"\n",
    "        print(\"The updated value for a is :- \",self._a)\n",
    "        #print(\"The value for x is :- \",self.__x)   We cannot use the protected variable from one class to another class.\n",
    "obj_main=main()"
   ]
  },
  {
   "cell_type": "code",
   "execution_count": 21,
   "id": "4f016ad9",
   "metadata": {},
   "outputs": [
    {
     "name": "stdout",
     "output_type": "stream",
     "text": [
      "The value for a is :-  Hello\n",
      "The updated value for a is :-  Bye\n"
     ]
    }
   ],
   "source": [
    "obj_derive=derived()"
   ]
  },
  {
   "cell_type": "code",
   "execution_count": 40,
   "id": "a6f71dcc",
   "metadata": {},
   "outputs": [
    {
     "data": {
      "text/plain": [
       "45"
      ]
     },
     "execution_count": 40,
     "metadata": {},
     "output_type": "execute_result"
    }
   ],
   "source": [
    "class father:\n",
    "    def __init__(self):\n",
    "        self._age=45\n",
    "        self.__job=\"Eng\"\n",
    "    def _display(self):\n",
    "        return self._age\n",
    "    def __profession(self):\n",
    "        return self.__job\n",
    "class child(father):\n",
    "    def __init__(self):\n",
    "        father.__init__(self)\n",
    "        self._name=\"Jack\"\n",
    "        print(f\"My name is {self._name} and father age is {self._age}\")\n",
    "        self._updated_age=self._display()+20\n",
    "        print(f\"The updated age of the father is {self._updated_age}\")\n",
    "#         self.__job=self.__profession()   This will throw error.\n",
    "#         print(f\"The job of my father is {self.__job}\")   # This will throw error because we are using protected method/variable. \n",
    "obj_father=father()\n",
    "obj_father._display()"
   ]
  },
  {
   "cell_type": "code",
   "execution_count": 41,
   "id": "b6e3b5ee",
   "metadata": {},
   "outputs": [
    {
     "name": "stdout",
     "output_type": "stream",
     "text": [
      "My name is Jack and father age is 45\n",
      "The updated age of the father is 65\n"
     ]
    },
    {
     "ename": "AttributeError",
     "evalue": "'child' object has no attribute '_child__profession'",
     "output_type": "error",
     "traceback": [
      "\u001b[1;31m---------------------------------------------------------------------------\u001b[0m",
      "\u001b[1;31mAttributeError\u001b[0m                            Traceback (most recent call last)",
      "Cell \u001b[1;32mIn[41], line 1\u001b[0m\n\u001b[1;32m----> 1\u001b[0m obj_child\u001b[38;5;241m=\u001b[39mchild()\n",
      "Cell \u001b[1;32mIn[40], line 16\u001b[0m, in \u001b[0;36mchild.__init__\u001b[1;34m(self)\u001b[0m\n\u001b[0;32m     14\u001b[0m \u001b[38;5;28mself\u001b[39m\u001b[38;5;241m.\u001b[39m_updated_age\u001b[38;5;241m=\u001b[39m\u001b[38;5;28mself\u001b[39m\u001b[38;5;241m.\u001b[39m_display()\u001b[38;5;241m+\u001b[39m\u001b[38;5;241m20\u001b[39m\n\u001b[0;32m     15\u001b[0m \u001b[38;5;28mprint\u001b[39m(\u001b[38;5;124mf\u001b[39m\u001b[38;5;124m\"\u001b[39m\u001b[38;5;124mThe updated age of the father is \u001b[39m\u001b[38;5;132;01m{\u001b[39;00m\u001b[38;5;28mself\u001b[39m\u001b[38;5;241m.\u001b[39m_updated_age\u001b[38;5;132;01m}\u001b[39;00m\u001b[38;5;124m\"\u001b[39m)\n\u001b[1;32m---> 16\u001b[0m \u001b[38;5;28mself\u001b[39m\u001b[38;5;241m.\u001b[39m__job\u001b[38;5;241m=\u001b[39m\u001b[38;5;28mself\u001b[39m\u001b[38;5;241m.\u001b[39m__profession()\n\u001b[0;32m     17\u001b[0m \u001b[38;5;28mprint\u001b[39m(\u001b[38;5;124mf\u001b[39m\u001b[38;5;124m\"\u001b[39m\u001b[38;5;124mThe job of my father is \u001b[39m\u001b[38;5;132;01m{\u001b[39;00m\u001b[38;5;28mself\u001b[39m\u001b[38;5;241m.\u001b[39m__job\u001b[38;5;132;01m}\u001b[39;00m\u001b[38;5;124m\"\u001b[39m)\n",
      "\u001b[1;31mAttributeError\u001b[0m: 'child' object has no attribute '_child__profession'"
     ]
    }
   ],
   "source": [
    "obj_child=child()"
   ]
  },
  {
   "cell_type": "code",
   "execution_count": 48,
   "id": "6a6bf18c",
   "metadata": {},
   "outputs": [
    {
     "data": {
      "text/plain": [
       "'Jack'"
      ]
     },
     "execution_count": 48,
     "metadata": {},
     "output_type": "execute_result"
    }
   ],
   "source": [
    "'''\n",
    "If you want to use the protected method or protected variable , you can use it in the same class or base class , you cannot use \n",
    "it in derived class.\n",
    "'''\n",
    "class father:\n",
    "    def __init__(self):\n",
    "        self._name=\"Jack\"   # here _name is private variable\n",
    "        self.__age=67       # __age is protected variable\n",
    "    def _nameMethod(self):  #_nameMethod is the private method\n",
    "        return self._name\n",
    "    def __ageMethod(self):  #__ageMethod is a protected method\n",
    "        return f\"Father age is {self.__age}\"\n",
    "    \n",
    "    # How to use protected method inside the base class.\n",
    "    def get_protected(self):\n",
    "        return self.__ageMethod()\n",
    "    \n",
    "obj_father=father()\n",
    "obj_father._nameMethod()"
   ]
  },
  {
   "cell_type": "code",
   "execution_count": 49,
   "id": "742b5f1b",
   "metadata": {},
   "outputs": [
    {
     "data": {
      "text/plain": [
       "'Father age is 67'"
      ]
     },
     "execution_count": 49,
     "metadata": {},
     "output_type": "execute_result"
    }
   ],
   "source": [
    "obj_father.get_protected()"
   ]
  },
  {
   "cell_type": "markdown",
   "id": "539de16e",
   "metadata": {},
   "source": [
    "# Exceptional/Error Handling:"
   ]
  },
  {
   "cell_type": "code",
   "execution_count": 53,
   "id": "51da7de2",
   "metadata": {},
   "outputs": [
    {
     "name": "stdout",
     "output_type": "stream",
     "text": [
      "Pass the value in double quotes. The error message is name 'Hello' is not defined\n"
     ]
    }
   ],
   "source": [
    "try:\n",
    "    print(Hello)\n",
    "except Exception as e:\n",
    "    print(f\"Pass the value in double quotes. The error message is {e}\")"
   ]
  },
  {
   "cell_type": "code",
   "execution_count": 61,
   "id": "ab0c4d30",
   "metadata": {},
   "outputs": [
    {
     "name": "stdout",
     "output_type": "stream",
     "text": [
      "Enter the val:- 12\n",
      "2.0\n",
      "Enter the val:- 12\n",
      "2.0\n",
      "Enter the val:- 13\n",
      "1.8461538461538463\n",
      "Enter the val:- 14\n",
      "1.7142857142857142\n",
      "Enter the val:- 15\n",
      "1.6\n",
      "Enter the val:- 0\n",
      "The number cannot be divided by 0\n"
     ]
    }
   ],
   "source": [
    "while True:\n",
    "    try:\n",
    "        print(24/int(input(\"Enter the val:- \")))\n",
    "    except ZeroDivisionError:\n",
    "        print(\"The number cannot be divided by 0\")\n",
    "        break"
   ]
  },
  {
   "cell_type": "code",
   "execution_count": 65,
   "id": "8871a7ae",
   "metadata": {},
   "outputs": [],
   "source": [
    "class base:\n",
    "    def __init__(self):\n",
    "        self._list=[\"Apple\",\"Banana\",\"Kiwi\"]\n",
    "        self.__dict={101:\"Abhishek\",102:\"Rohit\",103:\"Vikas\"}\n",
    "    def _showList(self):\n",
    "        return self._list\n",
    "    def __showDict(self):\n",
    "        try:\n",
    "            return self.__dict\n",
    "        except AttributeError:\n",
    "            return f\"You cannot use directly protected method to display the output. Use the method which holds its properties.\"\n",
    "    def get_protected(self):\n",
    "        return self.__showDict()\n",
    "obj_base=base()"
   ]
  },
  {
   "cell_type": "code",
   "execution_count": 66,
   "id": "2fae274b",
   "metadata": {},
   "outputs": [
    {
     "data": {
      "text/plain": [
       "['Apple', 'Banana', 'Kiwi']"
      ]
     },
     "execution_count": 66,
     "metadata": {},
     "output_type": "execute_result"
    }
   ],
   "source": [
    "obj_base._showList()"
   ]
  },
  {
   "cell_type": "code",
   "execution_count": 68,
   "id": "11a8c686",
   "metadata": {},
   "outputs": [
    {
     "data": {
      "text/plain": [
       "{101: 'Abhishek', 102: 'Rohit', 103: 'Vikas'}"
      ]
     },
     "execution_count": 68,
     "metadata": {},
     "output_type": "execute_result"
    }
   ],
   "source": [
    "obj_base.get_protected()"
   ]
  },
  {
   "cell_type": "code",
   "execution_count": 70,
   "id": "b2ae0308",
   "metadata": {},
   "outputs": [
    {
     "name": "stdout",
     "output_type": "stream",
     "text": [
      "You cannot use directly protected method to display the output. Use the method which holds its properties.\n"
     ]
    }
   ],
   "source": [
    "try:\n",
    "    raise AttributeError(obj_base.__showDict())\n",
    "except AttributeError:\n",
    "    print(\"You cannot use directly protected method to display the output. Use the method which holds its properties.\")\n"
   ]
  },
  {
   "cell_type": "code",
   "execution_count": null,
   "id": "776d0492",
   "metadata": {},
   "outputs": [],
   "source": []
  }
 ],
 "metadata": {
  "kernelspec": {
   "display_name": "Python 3 (ipykernel)",
   "language": "python",
   "name": "python3"
  },
  "language_info": {
   "codemirror_mode": {
    "name": "ipython",
    "version": 3
   },
   "file_extension": ".py",
   "mimetype": "text/x-python",
   "name": "python",
   "nbconvert_exporter": "python",
   "pygments_lexer": "ipython3",
   "version": "3.11.5"
  }
 },
 "nbformat": 4,
 "nbformat_minor": 5
}
