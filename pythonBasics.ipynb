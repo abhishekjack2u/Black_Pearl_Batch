{
  "nbformat": 4,
  "nbformat_minor": 0,
  "metadata": {
    "colab": {
      "provenance": []
    },
    "kernelspec": {
      "name": "python3",
      "display_name": "Python 3"
    },
    "language_info": {
      "name": "python"
    }
  },
  "cells": [
    {
      "cell_type": "code",
      "execution_count": 3,
      "metadata": {
        "colab": {
          "base_uri": "https://localhost:8080/"
        },
        "id": "2FJu0Rj1MQIT",
        "outputId": "42057846-837c-4820-913b-572b2d71f99a"
      },
      "outputs": [
        {
          "output_type": "stream",
          "name": "stdout",
          "text": [
            "Welcome to the python session!\n",
            "Welcome to the DataScience session!\n",
            "hello world!\n",
            "We are learning python today\n"
          ]
        }
      ],
      "source": [
        "#print statement: Display the output of the code.\n",
        "print(\"Welcome to the python session!\") # double quotes is used to add string of single line\n",
        "print('Welcome to the DataScience session!')# Single quotes is used to add string of single line\n",
        "print('''hello world!\n",
        "We are learning python today''')  # Triple quotes gives priveledge to add multiple lines."
      ]
    },
    {
      "cell_type": "code",
      "source": [
        "print(\"Hello world! I am abhishek.\")\n",
        "print('''\n",
        "Hello World!\n",
        "I am Abhishek''')"
      ],
      "metadata": {
        "colab": {
          "base_uri": "https://localhost:8080/"
        },
        "id": "jelGyupEOiAI",
        "outputId": "13f22453-6818-417a-c50b-0b07f087181f"
      },
      "execution_count": 4,
      "outputs": [
        {
          "output_type": "stream",
          "name": "stdout",
          "text": [
            "Hello world! I am abhishek.\n",
            "\n",
            "Hello World!\n",
            "I am Abhishek\n"
          ]
        }
      ]
    },
    {
      "cell_type": "code",
      "source": [
        "print('''\n",
        "Hello world!\n",
        "I am abhishek''')"
      ],
      "metadata": {
        "colab": {
          "base_uri": "https://localhost:8080/"
        },
        "id": "QoZRZrNuPH-X",
        "outputId": "da12bed4-5c99-4f60-a669-eec95fcdc372"
      },
      "execution_count": 6,
      "outputs": [
        {
          "output_type": "stream",
          "name": "stdout",
          "text": [
            "\n",
            "Hello world!\n",
            "I am abhishek\n"
          ]
        }
      ]
    },
    {
      "cell_type": "code",
      "source": [
        "paragraph='''\n",
        "\"Hello world my name is 'Abhishek'\"'''\n",
        "print(paragraph)"
      ],
      "metadata": {
        "colab": {
          "base_uri": "https://localhost:8080/"
        },
        "id": "490qjplKPSKm",
        "outputId": "e0b56ae8-2a4a-4c01-c829-dd12ada29301"
      },
      "execution_count": 7,
      "outputs": [
        {
          "output_type": "stream",
          "name": "stdout",
          "text": [
            "\n",
            "\"Hello world my name is 'Abhishek'\"\n"
          ]
        }
      ]
    },
    {
      "cell_type": "code",
      "source": [
        "print(\"My name is 'Python'\")"
      ],
      "metadata": {
        "colab": {
          "base_uri": "https://localhost:8080/"
        },
        "id": "QMSpIOlOP5iA",
        "outputId": "c91ea464-1017-4eec-c5b0-29f95fa7620c"
      },
      "execution_count": 9,
      "outputs": [
        {
          "output_type": "stream",
          "name": "stdout",
          "text": [
            "My name is 'Python'\n"
          ]
        }
      ]
    },
    {
      "cell_type": "code",
      "source": [
        "sachin_info='''\n",
        "\"Sachin Ramesh Tendulkar\" pronunciation\n",
        "(help · info) (born 24 April 1973 in Mumbai)\n",
        "is a former Indian cricketer.\n",
        "'''\n",
        "print(sachin_info)  # We can highlight the substring inside the string using\n",
        "                    # double quotes if the outer shell is closed with single quotes or triple quotes.\n",
        "                    # We can highlight the substring inside the string using the single quotes if the outer shell is closed with the\n",
        "                    #double quotes or the triple quotes."
      ],
      "metadata": {
        "colab": {
          "base_uri": "https://localhost:8080/"
        },
        "id": "fp_wzSJGQLdl",
        "outputId": "e56bc3bc-4af0-4ad9-848b-b097a80cd1e3"
      },
      "execution_count": 11,
      "outputs": [
        {
          "output_type": "stream",
          "name": "stdout",
          "text": [
            "\n",
            "\"Sachin Ramesh Tendulkar\" pronunciation \n",
            "(help · info) (born 24 April 1973 in Mumbai) \n",
            "is a former Indian cricketer. \n",
            "\n"
          ]
        }
      ]
    },
    {
      "cell_type": "code",
      "source": [
        "# Variables, values, data type\n",
        "\n",
        "'''\n",
        "Variables stores the value in it and can be used further in the programming.\n",
        "Values are the actual value which holds the information/data.\n",
        "data type: Its the characteristics of the variable or the value.\n",
        "'''\n",
        "\n",
        "x=10 # Here, x is variable and 10 is value.\n",
        "print(x)  # displaying the output of the variable\n",
        "print(10) # displaying the output of the value\n",
        "print(type(x)) # displaying the data type of the variable\n",
        "print(type(10)) # displaying the data type of the value"
      ],
      "metadata": {
        "colab": {
          "base_uri": "https://localhost:8080/"
        },
        "id": "WAxNReL9RhPy",
        "outputId": "dd743a66-2d5a-4222-b15e-0d892ebd57c1"
      },
      "execution_count": 12,
      "outputs": [
        {
          "output_type": "stream",
          "name": "stdout",
          "text": [
            "10\n",
            "10\n",
            "<class 'int'>\n",
            "<class 'int'>\n"
          ]
        }
      ]
    },
    {
      "cell_type": "code",
      "source": [
        "# Different types of data type:\n",
        "'''\n",
        "There are following types of data type of the variables/values:\n",
        "1. Integer (Discrete values)\n",
        "2. Float(Decimal Value)\n",
        "3. String (words/alphabets/senetences/anything under double/single/triplequotes)\n",
        "4. Boolean (True/False)\n",
        "5. Date time ()\n",
        "'''\n",
        "\n",
        "#Examples:\n",
        "#INT\n",
        "x=10\n",
        "print(type(x))\n",
        "#Float\n",
        "x=12.887\n",
        "print(type(x))\n",
        "#String\n",
        "x=\"12.887\"\n",
        "print(type(x))\n",
        "# Boolean\n",
        "x=True\n",
        "Y=False\n",
        "print(type(Y))"
      ],
      "metadata": {
        "colab": {
          "base_uri": "https://localhost:8080/"
        },
        "id": "uDBVOvFNS4zR",
        "outputId": "05526975-4c12-4488-a37e-c4b09fa29c84"
      },
      "execution_count": 13,
      "outputs": [
        {
          "output_type": "stream",
          "name": "stdout",
          "text": [
            "<class 'int'>\n",
            "<class 'float'>\n",
            "<class 'str'>\n",
            "<class 'bool'>\n"
          ]
        }
      ]
    },
    {
      "cell_type": "code",
      "source": [],
      "metadata": {
        "id": "eww1OoJyUDNf"
      },
      "execution_count": null,
      "outputs": []
    }
  ]
}