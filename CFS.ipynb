{
 "cells": [
  {
   "cell_type": "markdown",
   "id": "7d45e27d",
   "metadata": {},
   "source": [
    "# Control Flow Statement:"
   ]
  },
  {
   "cell_type": "markdown",
   "id": "12a1252d",
   "metadata": {},
   "source": [
    "Control flow statement: It helps us in understanding how to control the flow of the data."
   ]
  },
  {
   "cell_type": "code",
   "execution_count": 3,
   "id": "350e2ffc",
   "metadata": {},
   "outputs": [
    {
     "name": "stdout",
     "output_type": "stream",
     "text": [
      "I\n",
      "n\n",
      "d\n"
     ]
    },
    {
     "data": {
      "text/plain": [
       "(None, None, None)"
      ]
     },
     "execution_count": 3,
     "metadata": {},
     "output_type": "execute_result"
    }
   ],
   "source": [
    "a=\"India is my birth place\"\n",
    "print(a[0]),print(a[1]),print(a[2])"
   ]
  },
  {
   "cell_type": "code",
   "execution_count": 5,
   "id": "33292238",
   "metadata": {},
   "outputs": [
    {
     "name": "stdout",
     "output_type": "stream",
     "text": [
      "I\n",
      "n\n",
      "d\n",
      "i\n",
      "a\n",
      " \n",
      "i\n",
      "s\n",
      " \n",
      "m\n",
      "y\n",
      " \n",
      "b\n",
      "i\n",
      "r\n",
      "t\n",
      "h\n",
      " \n",
      "p\n",
      "l\n",
      "a\n",
      "c\n",
      "e\n"
     ]
    }
   ],
   "source": [
    "'''Loop: Loop is the method to iterate the value of the data structure or string using the \n",
    "forward indexing.\n",
    "\n",
    "There are basically two types of loop:\n",
    "1. For loop\n",
    "2. While loop\n",
    "\n",
    "For loop help us in iterating the value from the datastructure or the string using the conditional \n",
    "statement over a fixed range value. \n",
    "'''\n",
    "a=\"India is my birth place\"\n",
    "for val_string in a:\n",
    "    print(val_string)"
   ]
  },
  {
   "cell_type": "code",
   "execution_count": 9,
   "id": "66cf97fe",
   "metadata": {},
   "outputs": [
    {
     "name": "stdout",
     "output_type": "stream",
     "text": [
      "10\n",
      "20\n",
      "50\n",
      "India\n"
     ]
    }
   ],
   "source": [
    "# Control the for loop on certain condition:\n",
    "list_data=[10,20,50,\"India\",60,80]\n",
    "for val in list_data:\n",
    "    # break statement to break the loop while iteration.\n",
    "    if val==60:\n",
    "        break\n",
    "    print(val)"
   ]
  },
  {
   "cell_type": "code",
   "execution_count": 11,
   "id": "36a9b856",
   "metadata": {},
   "outputs": [
    {
     "name": "stdout",
     "output_type": "stream",
     "text": [
      "10\n",
      "20\n",
      "30\n"
     ]
    }
   ],
   "source": [
    "# break and continue statement:\n",
    "'''\n",
    "Break statement is used to break the iteration on a certain condition.\n",
    "While the continue statement will keep on executing the loop until the last index value.\n",
    "'''\n",
    "# first sample(break)\n",
    "list_data=[10,20,30,40]\n",
    "for val in list_data:\n",
    "    if val<35:\n",
    "        print(val)\n",
    "    else:\n",
    "        break"
   ]
  },
  {
   "cell_type": "code",
   "execution_count": 15,
   "id": "7652e5b6",
   "metadata": {},
   "outputs": [
    {
     "name": "stdout",
     "output_type": "stream",
     "text": [
      "10\n",
      "10\n",
      "20\n",
      "20\n",
      "30\n",
      "30\n",
      "40\n"
     ]
    }
   ],
   "source": [
    "# second sample (continue)\n",
    "list_data=[10,20,30,40]\n",
    "for val in list_data:\n",
    "    if val<35:\n",
    "        print(val)\n",
    "    elif val<35:\n",
    "        continue\n",
    "    else:\n",
    "        pass\n",
    "    print(val)"
   ]
  },
  {
   "cell_type": "code",
   "execution_count": 17,
   "id": "61659b9c",
   "metadata": {},
   "outputs": [
    {
     "name": "stdout",
     "output_type": "stream",
     "text": [
      "hi\n"
     ]
    }
   ],
   "source": [
    "a=\"Apple\"\n",
    "if a==\"Banana\":\n",
    "    print(\"hello\")    \n",
    "elif a==\"Apple\":\n",
    "    print(\"hi\")\n",
    "elif a==\"Apple\":\n",
    "    print(\"hola\")\n",
    "else:\n",
    "    print(\"bye\")"
   ]
  },
  {
   "cell_type": "code",
   "execution_count": 23,
   "id": "2f96a417",
   "metadata": {},
   "outputs": [
    {
     "name": "stdout",
     "output_type": "stream",
     "text": [
      "['Guava', 'Banana', 'Apple', 'Apple', 'Banana', 'Guava', 10, 20, 30]\n"
     ]
    }
   ],
   "source": [
    "list_data=[\"Guava\",\"Banana\",\"Apple\",\"Apple\",\"Banana\",\"Guava\",10,20,30]\n",
    "print(list_data)"
   ]
  },
  {
   "cell_type": "code",
   "execution_count": 27,
   "id": "0fc1d7e0",
   "metadata": {},
   "outputs": [
    {
     "name": "stdout",
     "output_type": "stream",
     "text": [
      "30\n",
      "10\n",
      "Banana\n",
      "Apple\n"
     ]
    }
   ],
   "source": [
    "'''\n",
    "using for loop print the below output\n",
    "30\n",
    "10\n",
    "\"Banana\"\n",
    "\"Apple\"\n",
    "'''\n",
    "for val in list_data[-1::-2]:\n",
    "    if val==\"Guava\":\n",
    "        break\n",
    "    print(val)"
   ]
  },
  {
   "cell_type": "code",
   "execution_count": null,
   "id": "46e24382",
   "metadata": {},
   "outputs": [],
   "source": []
  }
 ],
 "metadata": {
  "kernelspec": {
   "display_name": "Python 3 (ipykernel)",
   "language": "python",
   "name": "python3"
  },
  "language_info": {
   "codemirror_mode": {
    "name": "ipython",
    "version": 3
   },
   "file_extension": ".py",
   "mimetype": "text/x-python",
   "name": "python",
   "nbconvert_exporter": "python",
   "pygments_lexer": "ipython3",
   "version": "3.11.5"
  }
 },
 "nbformat": 4,
 "nbformat_minor": 5
}
