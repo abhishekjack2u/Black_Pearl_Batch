{
 "cells": [
  {
   "cell_type": "markdown",
   "id": "48a9c48e",
   "metadata": {},
   "source": [
    "# Lambda Function\n",
    "\n",
    "This is the one liner annonymous function which can be used for once during designing any software application."
   ]
  },
  {
   "cell_type": "code",
   "execution_count": 2,
   "id": "4ea23eee",
   "metadata": {},
   "outputs": [
    {
     "name": "stdout",
     "output_type": "stream",
     "text": [
      "<function <lambda> at 0x0000022EECA7B380>\n",
      "18\n"
     ]
    }
   ],
   "source": [
    "# Syntax\n",
    "funct=lambda x,y,z: x+y+z\n",
    "print(funct)\n",
    "print(funct(5,6,7))"
   ]
  },
  {
   "cell_type": "code",
   "execution_count": 4,
   "id": "5e9641b1",
   "metadata": {},
   "outputs": [
    {
     "data": {
      "text/plain": [
       "'odd number'"
      ]
     },
     "execution_count": 4,
     "metadata": {},
     "output_type": "execute_result"
    }
   ],
   "source": [
    "# WAP to check if the number is odd or even using lambda\n",
    "'''\n",
    "We cannot use elif condition inside the lambda function\n",
    "'''\n",
    "check_no=lambda x: \"Even number\" if x%2==0 else \"odd number\"\n",
    "check_no(5)"
   ]
  },
  {
   "cell_type": "code",
   "execution_count": 5,
   "id": "c7ef55ca",
   "metadata": {},
   "outputs": [
    {
     "data": {
      "text/plain": [
       "[4, 9, 16, 25]"
      ]
     },
     "execution_count": 5,
     "metadata": {},
     "output_type": "execute_result"
    }
   ],
   "source": [
    "# WAP using lambda function and will take the list of the numbers and will return the square of each number.\n",
    "sq_func=lambda list_data:[val**2 for val in list_data]\n",
    "sq_func([2,3,4,5])"
   ]
  },
  {
   "cell_type": "code",
   "execution_count": 6,
   "id": "8093aa9a",
   "metadata": {},
   "outputs": [
    {
     "data": {
      "text/plain": [
       "[0, 1, 4, 3, 16, 5, 36, 7, 64, 9, 100, 11, 144, 13, 196, 15, 256, 17, 324, 19]"
      ]
     },
     "execution_count": 6,
     "metadata": {},
     "output_type": "execute_result"
    }
   ],
   "source": [
    "# WAP using lambda function and will take the list of the numbers and will return the square of even number and keep odd number as it is.\n",
    "func=lambda list_data:[val**2 if val%2==0 else val for val in list_data]\n",
    "func(list(range(0,20)))"
   ]
  },
  {
   "cell_type": "code",
   "execution_count": 9,
   "id": "2cfd61b7",
   "metadata": {},
   "outputs": [
    {
     "data": {
      "text/plain": [
       "[1.0, 1.2599210498948732, 1.4422495703074083, 1.5874010519681994]"
      ]
     },
     "execution_count": 9,
     "metadata": {},
     "output_type": "execute_result"
    }
   ],
   "source": [
    "# Use * arg to pass multiple values to a single variable.\n",
    "funct=lambda *arg:[val**(1/3) for val in arg]\n",
    "funct(1,2,3,4)"
   ]
  },
  {
   "cell_type": "code",
   "execution_count": 15,
   "id": "a6d30030",
   "metadata": {},
   "outputs": [
    {
     "data": {
      "text/plain": [
       "{'Apple': 'x', 'Banana': 'y', 'Kiwi': 'z'}"
      ]
     },
     "execution_count": 15,
     "metadata": {},
     "output_type": "execute_result"
    }
   ],
   "source": [
    "# Use ** to pass dictionary into the lambda function and reverse the key and value.\n",
    "reverse_funct=lambda **dict_data:{val:key for key,val in dict_data.items()}\n",
    "reverse_funct(x=\"Apple\",y=\"Banana\",z=\"Kiwi\")"
   ]
  },
  {
   "cell_type": "code",
   "execution_count": 17,
   "id": "f6099175",
   "metadata": {},
   "outputs": [
    {
     "data": {
      "text/plain": [
       "{'Apple': 'a101', 'Banana': 'a102', 'Kiwi': 'a103'}"
      ]
     },
     "execution_count": 17,
     "metadata": {},
     "output_type": "execute_result"
    }
   ],
   "source": [
    "def reverse_dict(**dict_data): return {val:key for key,val in dict_data.items()}\n",
    "reverse_dict(a101=\"Apple\",a102=\"Banana\",a103=\"Kiwi\")"
   ]
  },
  {
   "cell_type": "code",
   "execution_count": 18,
   "id": "9fa3132e",
   "metadata": {},
   "outputs": [
    {
     "data": {
      "text/plain": [
       "{101: 'Apple', 102: 'Banana', 103: 'Kiwi'}"
      ]
     },
     "execution_count": 18,
     "metadata": {},
     "output_type": "execute_result"
    }
   ],
   "source": [
    "# Assesment :\n",
    "'''\n",
    "WAP using lambda function that will take two list as an input and will return a dictionary having key from the first list and\n",
    "value from the second list.\n",
    "'''\n",
    "reverse_dict= lambda list1,list2:{val1:val2 for val1,val2 in zip(list1,list2)}\n",
    "reverse_dict([101,102,103],[\"Apple\",\"Banana\",\"Kiwi\"])"
   ]
  },
  {
   "cell_type": "code",
   "execution_count": null,
   "id": "01569254",
   "metadata": {},
   "outputs": [],
   "source": [
    "# Introduction to the oops concept: Object oriented programming.\n",
    "'''\n",
    "class : Schema or structure of the oops pragram\n",
    "method : Methods are the functionality which class holds\n",
    "object: Holds the replica of the class\n",
    "'''"
   ]
  },
  {
   "cell_type": "code",
   "execution_count": 23,
   "id": "61b06dde",
   "metadata": {},
   "outputs": [
    {
     "name": "stdout",
     "output_type": "stream",
     "text": [
      "Python\n",
      "SQL\n",
      "Data Science\n"
     ]
    }
   ],
   "source": [
    "'''\n",
    "Here,\n",
    "student is the class name.\n",
    "knowledge1,knowledge2,knowledge3 are the methods name\n",
    "obj is the object of the class student\n",
    "'''\n",
    "class student:\n",
    "    def knowledge1():\n",
    "        return \"Python\"\n",
    "    def knowledge2():\n",
    "        return \"SQL\"\n",
    "    def knowledge3():\n",
    "        return \"Data Science\"\n",
    "obj=student\n",
    "print(obj.knowledge1())\n",
    "print(obj.knowledge2())\n",
    "print(obj.knowledge3())"
   ]
  },
  {
   "cell_type": "code",
   "execution_count": 26,
   "id": "8da88fbf",
   "metadata": {},
   "outputs": [],
   "source": [
    "# Constructor: Constructor is basically used to initialize the variable inside the class so all the methods can use it.\n",
    "class employee:\n",
    "    def __init__(self,name,designation,salary,department):\n",
    "        self.name=name\n",
    "        self.designation=designation\n",
    "        self.salary=salary\n",
    "        self.department=department\n",
    "    def get_name(self):\n",
    "        return f\"My name is {self.name}\"\n",
    "    def get_designation(self):\n",
    "        return f\"My role here is as a {self.designation} instructor\"\n",
    "    def get_salary(self):\n",
    "        return f\"My salary is {self.salary} \"\n",
    "    def get_department(self):\n",
    "        return f\"My department is {self.department} \"\n",
    "obj_emp=employee(\"Abhishek\",\"Data Science\",400000,\"IT\")"
   ]
  },
  {
   "cell_type": "code",
   "execution_count": 25,
   "id": "4282f193",
   "metadata": {},
   "outputs": [
    {
     "name": "stdout",
     "output_type": "stream",
     "text": [
      "My name is Abhishek\n"
     ]
    }
   ],
   "source": [
    "print(obj_emp.get_name())"
   ]
  },
  {
   "cell_type": "code",
   "execution_count": 27,
   "id": "96e2ab22",
   "metadata": {},
   "outputs": [
    {
     "data": {
      "text/plain": [
       "'My department is IT '"
      ]
     },
     "execution_count": 27,
     "metadata": {},
     "output_type": "execute_result"
    }
   ],
   "source": [
    "obj_emp.get_department()"
   ]
  },
  {
   "cell_type": "code",
   "execution_count": 28,
   "id": "d722863a",
   "metadata": {},
   "outputs": [
    {
     "data": {
      "text/plain": [
       "'My role here is as a Data Science instructor'"
      ]
     },
     "execution_count": 28,
     "metadata": {},
     "output_type": "execute_result"
    }
   ],
   "source": [
    "obj_emp.get_designation()"
   ]
  },
  {
   "cell_type": "markdown",
   "id": "eae39f29",
   "metadata": {},
   "source": [
    "# Functionality in OOPS:\n",
    "\n",
    "> Inheritance\n",
    "\n",
    "> Polymorphism\n",
    "\n",
    "> Abstraction\n",
    "\n",
    "> Encapsulation"
   ]
  },
  {
   "cell_type": "code",
   "execution_count": 29,
   "id": "3f51bb20",
   "metadata": {},
   "outputs": [],
   "source": [
    "# Inheritance: \n",
    "'''\n",
    "Inheritance means transfering the property/methods from one class to another class like parent which to transfer their features\n",
    "to the child class.\n",
    "'''\n",
    "class grandfather:\n",
    "    def __init__(self,height):\n",
    "        self.height=height\n",
    "    def property_gf():\n",
    "        return \"Good Swimmer\"\n",
    "class father(grandfather):\n",
    "    def proprty_f():\n",
    "        return \"Good Footballer\"\n",
    "class child(father):\n",
    "    def property_c():\n",
    "        return \"Good Musician\"\n"
   ]
  },
  {
   "cell_type": "code",
   "execution_count": 40,
   "id": "b256aec0",
   "metadata": {},
   "outputs": [],
   "source": [
    "obj_child=child"
   ]
  },
  {
   "cell_type": "code",
   "execution_count": 41,
   "id": "a83de829",
   "metadata": {},
   "outputs": [
    {
     "data": {
      "text/plain": [
       "'Good Musician'"
      ]
     },
     "execution_count": 41,
     "metadata": {},
     "output_type": "execute_result"
    }
   ],
   "source": [
    "obj_child.property_c()"
   ]
  },
  {
   "cell_type": "code",
   "execution_count": 42,
   "id": "f22a4c8e",
   "metadata": {},
   "outputs": [
    {
     "data": {
      "text/plain": [
       "'Good Footballer'"
      ]
     },
     "execution_count": 42,
     "metadata": {},
     "output_type": "execute_result"
    }
   ],
   "source": [
    "obj_child.proprty_f()"
   ]
  },
  {
   "cell_type": "code",
   "execution_count": 43,
   "id": "519b48be",
   "metadata": {},
   "outputs": [
    {
     "data": {
      "text/plain": [
       "'Good Swimmer'"
      ]
     },
     "execution_count": 43,
     "metadata": {},
     "output_type": "execute_result"
    }
   ],
   "source": [
    "obj_child.property_gf()"
   ]
  },
  {
   "cell_type": "code",
   "execution_count": 44,
   "id": "5a40565b",
   "metadata": {},
   "outputs": [
    {
     "name": "stdout",
     "output_type": "stream",
     "text": [
      "Good Footballer\n",
      "Good Swimmer\n"
     ]
    }
   ],
   "source": [
    "obj_father=father\n",
    "print(obj_father.proprty_f())\n",
    "print(obj_father.property_gf())"
   ]
  },
  {
   "cell_type": "code",
   "execution_count": 46,
   "id": "669d1912",
   "metadata": {},
   "outputs": [
    {
     "name": "stdout",
     "output_type": "stream",
     "text": [
      "Good Swimmer\n"
     ]
    }
   ],
   "source": [
    "obj_grandfather=grandfather\n",
    "print(obj_grandfather.property_gf())"
   ]
  },
  {
   "cell_type": "code",
   "execution_count": 51,
   "id": "647541a2",
   "metadata": {},
   "outputs": [],
   "source": [
    "class telephone:\n",
    "    def prop_t():\n",
    "        return \"call\"\n",
    "class mobile(telephone):\n",
    "    def prop_m():\n",
    "        return \"message,games,torch,wireless\"\n",
    "class smartphone(mobile):\n",
    "    def prop_sm():\n",
    "        return \"internet\"\n",
    "class telephone(smartphone):\n",
    "    def prop_t():\n",
    "        return \"call\""
   ]
  },
  {
   "cell_type": "code",
   "execution_count": 52,
   "id": "c01cb9ca",
   "metadata": {},
   "outputs": [],
   "source": [
    "obj_telephone=telephone"
   ]
  },
  {
   "cell_type": "code",
   "execution_count": 53,
   "id": "32cbfcf5",
   "metadata": {},
   "outputs": [
    {
     "data": {
      "text/plain": [
       "'internet'"
      ]
     },
     "execution_count": 53,
     "metadata": {},
     "output_type": "execute_result"
    }
   ],
   "source": [
    "obj_telephone.prop_sm()"
   ]
  },
  {
   "cell_type": "code",
   "execution_count": 54,
   "id": "a6867432",
   "metadata": {},
   "outputs": [
    {
     "data": {
      "text/plain": [
       "'message,games,torch,wireless'"
      ]
     },
     "execution_count": 54,
     "metadata": {},
     "output_type": "execute_result"
    }
   ],
   "source": [
    "obj_telephone.prop_m()"
   ]
  },
  {
   "cell_type": "code",
   "execution_count": 55,
   "id": "0906618a",
   "metadata": {},
   "outputs": [
    {
     "data": {
      "text/plain": [
       "'call'"
      ]
     },
     "execution_count": 55,
     "metadata": {},
     "output_type": "execute_result"
    }
   ],
   "source": [
    "obj_telephone.prop_t()"
   ]
  },
  {
   "cell_type": "code",
   "execution_count": null,
   "id": "dc69ac78",
   "metadata": {},
   "outputs": [],
   "source": []
  }
 ],
 "metadata": {
  "kernelspec": {
   "display_name": "Python 3 (ipykernel)",
   "language": "python",
   "name": "python3"
  },
  "language_info": {
   "codemirror_mode": {
    "name": "ipython",
    "version": 3
   },
   "file_extension": ".py",
   "mimetype": "text/x-python",
   "name": "python",
   "nbconvert_exporter": "python",
   "pygments_lexer": "ipython3",
   "version": "3.11.5"
  }
 },
 "nbformat": 4,
 "nbformat_minor": 5
}
