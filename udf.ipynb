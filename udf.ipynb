{
 "cells": [
  {
   "cell_type": "code",
   "execution_count": 8,
   "id": "29851bc6",
   "metadata": {},
   "outputs": [],
   "source": [
    "# Write a function that will take dictionary as a parameter of the function and performs the interchange of key and value.\n",
    "def interchange(dict_data):\n",
    "    dict_data={value:key for key,value in dict_data.items()}\n",
    "    return dict_data # return statement help us in getting the output from the function while calling it.\n",
    "updated_dict=interchange({101:\"Apple\",102:\"Banana\",103:\"Kiwi\",104:\"Orange\"})"
   ]
  },
  {
   "cell_type": "code",
   "execution_count": 9,
   "id": "a22bf738",
   "metadata": {},
   "outputs": [
    {
     "name": "stdout",
     "output_type": "stream",
     "text": [
      "{'Apple': 101, 'Banana': 102, 'Kiwi': 103, 'Orange': 104}\n"
     ]
    }
   ],
   "source": [
    "print(updated_dict)"
   ]
  },
  {
   "cell_type": "code",
   "execution_count": 31,
   "id": "9cb69d62",
   "metadata": {},
   "outputs": [
    {
     "data": {
      "text/plain": [
       "25"
      ]
     },
     "execution_count": 31,
     "metadata": {},
     "output_type": "execute_result"
    }
   ],
   "source": [
    "# Applier function:\n",
    "def square(x):\n",
    "    x=x**2\n",
    "    return x\n",
    "def cube(x):\n",
    "    x=x**3\n",
    "    return x\n",
    "def addition(var1,var2,var3):\n",
    "    return var1+var2+var3\n",
    "def applier(function_name,variable):\n",
    "    square_output=function_name(variable)\n",
    "    return square_output\n",
    "def applier1(function_name,a,b,c):\n",
    "    print(f\"The value of c is {c}\")\n",
    "    print(f\"The value of b is {b}\")\n",
    "    print(f\"The value of a is {a}\")\n",
    "    output=function_name(a,b,c)\n",
    "    return output\n",
    "applier(square,5)"
   ]
  },
  {
   "cell_type": "code",
   "execution_count": 32,
   "id": "8e9f4685",
   "metadata": {},
   "outputs": [
    {
     "name": "stdout",
     "output_type": "stream",
     "text": [
      "125\n",
      "The value of c is 5\n",
      "The value of b is 7\n",
      "The value of a is 6\n",
      "18\n"
     ]
    }
   ],
   "source": [
    "print(applier(cube,5))\n",
    "print(applier1(addition,c=5,a=6,b=7))"
   ]
  },
  {
   "cell_type": "code",
   "execution_count": 28,
   "id": "b68342dc",
   "metadata": {},
   "outputs": [
    {
     "name": "stdout",
     "output_type": "stream",
     "text": [
      "(<function add at 0x0000017C482B5B20>, <function substract at 0x0000017C482B6D40>, <function multiply at 0x0000017C482B68E0>)\n"
     ]
    },
    {
     "data": {
      "text/plain": [
       "-1"
      ]
     },
     "execution_count": 28,
     "metadata": {},
     "output_type": "execute_result"
    }
   ],
   "source": [
    "def add(x,y):\n",
    "    return x+y\n",
    "def substract(x,y):\n",
    "    return x-y\n",
    "def multiply(x,y):\n",
    "    return x*y\n",
    "def applier(*function_name):\n",
    "    print(function_name)\n",
    "    return function_name[1](2,3)\n",
    "applier(add,substract,multiply)"
   ]
  },
  {
   "cell_type": "code",
   "execution_count": 42,
   "id": "b940d860",
   "metadata": {},
   "outputs": [
    {
     "name": "stdout",
     "output_type": "stream",
     "text": [
      "{'a101': 'Apple', 'a102': 'Banana', 'a103': 'Kiwi'}\n"
     ]
    }
   ],
   "source": [
    "# Dynamically pass key and value inside a function using **kwarg\n",
    "def data_output(**dict_data):\n",
    "    print(dict_data)\n",
    "data_output(a101=\"Apple\",a102=\"Banana\",a103=\"Kiwi\") # for the key use alphanumeric without double/single quotes"
   ]
  },
  {
   "cell_type": "code",
   "execution_count": 48,
   "id": "ae26157e",
   "metadata": {},
   "outputs": [
    {
     "name": "stdout",
     "output_type": "stream",
     "text": [
      "The element of the tuples is ('A', 'B', 'C', 'D', 'E')\".\n",
      "         The element for the dictionary data is {'a101': 'Apple', 'a102': 'Banana', 'a103': 'Kiwi'}\n"
     ]
    }
   ],
   "source": [
    "# Pass both dict_data and tuples data to the function using *arg and **kwarg\n",
    "def get_both_ds(*args,**kwarg):\n",
    "    tuple_data=args\n",
    "    dict_data={key:value for key,value in kwarg.items()}\n",
    "    print(f'''The element of the tuples is {tuple_data}\".\n",
    "         The element for the dictionary data is {dict_data}''')\n",
    "    return f'''The element of the tuples is {tuple_data}\".\n",
    "         The element for the dictionary data is {dict_data}'''\n",
    "output=get_both_ds(\"A\",\"B\",\"C\",\"D\",\"E\",a101=\"Apple\",a102=\"Banana\",a103=\"Kiwi\")"
   ]
  },
  {
   "cell_type": "code",
   "execution_count": 49,
   "id": "c1186154",
   "metadata": {},
   "outputs": [
    {
     "name": "stdout",
     "output_type": "stream",
     "text": [
      "The element of the tuples is ('A', 'B', 'C', 'D', 'E')\".\n",
      "         The element for the dictionary data is {'a101': 'Apple', 'a102': 'Banana', 'a103': 'Kiwi'}\n"
     ]
    }
   ],
   "source": [
    "print(output)"
   ]
  },
  {
   "cell_type": "code",
   "execution_count": 52,
   "id": "e9956cae",
   "metadata": {},
   "outputs": [
    {
     "name": "stdout",
     "output_type": "stream",
     "text": [
      "<function abc at 0x0000017C48E9F4C0>\n",
      "Hello\n"
     ]
    }
   ],
   "source": [
    "def abc():\n",
    "    return \"Hello\"\n",
    "print(abc) # printing the object of the function\n",
    "print(abc()) # function calling"
   ]
  },
  {
   "cell_type": "code",
   "execution_count": null,
   "id": "2e3fef56",
   "metadata": {},
   "outputs": [],
   "source": []
  }
 ],
 "metadata": {
  "kernelspec": {
   "display_name": "Python 3 (ipykernel)",
   "language": "python",
   "name": "python3"
  },
  "language_info": {
   "codemirror_mode": {
    "name": "ipython",
    "version": 3
   },
   "file_extension": ".py",
   "mimetype": "text/x-python",
   "name": "python",
   "nbconvert_exporter": "python",
   "pygments_lexer": "ipython3",
   "version": "3.11.5"
  }
 },
 "nbformat": 4,
 "nbformat_minor": 5
}
