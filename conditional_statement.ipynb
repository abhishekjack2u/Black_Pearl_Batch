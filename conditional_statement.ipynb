{
 "cells": [
  {
   "cell_type": "markdown",
   "id": "1818c70e",
   "metadata": {},
   "source": [
    "# Conditional Statement:\n",
    "\n",
    "When we are comparing two or more than two values at a time, then it comes under the consitional statement.\n",
    "\n",
    "We have if/elif/else statement to compare different values."
   ]
  },
  {
   "cell_type": "code",
   "execution_count": 13,
   "id": "66c77f75",
   "metadata": {},
   "outputs": [
    {
     "name": "stdout",
     "output_type": "stream",
     "text": [
      "True\n"
     ]
    }
   ],
   "source": [
    "a=10\n",
    "b=10\n",
    "print((a!=b or a==b))"
   ]
  },
  {
   "cell_type": "code",
   "execution_count": 3,
   "id": "012dffa8",
   "metadata": {},
   "outputs": [
    {
     "name": "stdout",
     "output_type": "stream",
     "text": [
      "The value of x is 10\n"
     ]
    }
   ],
   "source": [
    "'''\n",
    "While assigning any value to the variable we generally use single equals to sign.\n",
    "But while comparing any two variable or values we use double equal to sign.\n",
    "'''\n",
    "x=10\n",
    "if x==10:  # here since, this consition satisties so the print statement under the identation will execute\n",
    "    print(\"The value of x is 10\")\n",
    "else:\n",
    "    print(\"The value of x is not 10\")"
   ]
  },
  {
   "cell_type": "code",
   "execution_count": 4,
   "id": "267dfae0",
   "metadata": {},
   "outputs": [
    {
     "name": "stdout",
     "output_type": "stream",
     "text": [
      "The value of x is not 10\n"
     ]
    }
   ],
   "source": [
    "x=15\n",
    "if x==10:  # This if statement will not execute, since its not satisfying.\n",
    "    print(\"The value of x is 10\")\n",
    "else:\n",
    "    print(\"The value of x is not 10\") # this else statement will execute"
   ]
  },
  {
   "cell_type": "code",
   "execution_count": 6,
   "id": "ca3f3959",
   "metadata": {},
   "outputs": [
    {
     "name": "stdout",
     "output_type": "stream",
     "text": [
      "condition not satisfying\n"
     ]
    }
   ],
   "source": [
    "x=10\n",
    "y=20\n",
    "if x==10 and y==15: # and will check both the condition and if both the condition satifies then it execute the print statement\n",
    "    print(\"condition satisfying\")\n",
    "else:\n",
    "    print(\"condition not satisfying\")"
   ]
  },
  {
   "cell_type": "code",
   "execution_count": 16,
   "id": "f175c328",
   "metadata": {},
   "outputs": [
    {
     "name": "stdout",
     "output_type": "stream",
     "text": [
      "Only one condition satisfied\n"
     ]
    }
   ],
   "source": [
    "a=\"India\"\n",
    "b=\"USA\"\n",
    "if a==b or a!=b: # or will check both the condition and then it will execute the print statement if any one of the condition satisfies\n",
    "    print(\"Only one condition satisfied\")\n",
    "else:\n",
    "    print(\"No condition satistfied\")"
   ]
  },
  {
   "cell_type": "code",
   "execution_count": 19,
   "id": "846cd792",
   "metadata": {},
   "outputs": [],
   "source": [
    "'''\n",
    "If we have only two case then we use if and else.\n",
    "If we have single case then we use if statement only.\n",
    "If we have more than two case then we use if, elif, else statement.\n",
    "'''\n",
    "# Single Case:\n",
    "a=\"USA is my country\"\n",
    "if a==\"India is my country\": # if condition not satisfies nothing will happen. \n",
    "    print(\"The value is matching\") # if condition satisfies then print statement execute"
   ]
  },
  {
   "cell_type": "code",
   "execution_count": 22,
   "id": "fdf63ab0",
   "metadata": {},
   "outputs": [
    {
     "name": "stdout",
     "output_type": "stream",
     "text": [
      "India is the native place of the user\n"
     ]
    }
   ],
   "source": [
    "# Two case statement:\n",
    "a=\"India\"\n",
    "if a==\"India\":\n",
    "    print(\"India is the native place of the user\")\n",
    "else:\n",
    "    print(\"India is not the native place of the user\")"
   ]
  },
  {
   "cell_type": "code",
   "execution_count": 23,
   "id": "592559c6",
   "metadata": {},
   "outputs": [
    {
     "name": "stdout",
     "output_type": "stream",
     "text": [
      "The age is correct\n"
     ]
    }
   ],
   "source": [
    "# Multiple case statement:\n",
    "'''\n",
    "Only one case will execute which were satisfying.\n",
    "If we satisfies multiple cases then the first case will only execute.\n",
    "'''\n",
    "age=53\n",
    "if age==53: # only this statement will execute\n",
    "    print(\"The age is correct\")\n",
    "elif age==53:\n",
    "    print(\"I am the elif part. The age is 53\")\n",
    "else:\n",
    "    print(\"The age is not 53\")"
   ]
  },
  {
   "cell_type": "code",
   "execution_count": 24,
   "id": "4ee530f2",
   "metadata": {},
   "outputs": [
    {
     "name": "stdout",
     "output_type": "stream",
     "text": [
      "I am the elif part. The age is 54\n"
     ]
    }
   ],
   "source": [
    "age=54\n",
    "if age==53: \n",
    "    print(\"The age is correct\")\n",
    "elif age==54: # this statement will execute\n",
    "    print(\"I am the elif part. The age is 54\")\n",
    "else:\n",
    "    print(\"The age is not 54\")"
   ]
  },
  {
   "cell_type": "code",
   "execution_count": 32,
   "id": "550df6f4",
   "metadata": {},
   "outputs": [
    {
     "name": "stdout",
     "output_type": "stream",
     "text": [
      "Enter you age value:- 12\n",
      "The person is at teenage stage\n"
     ]
    }
   ],
   "source": [
    "# How to take input from the user.\n",
    "age=input(\"Enter you age value:- \") # any input we take from the user is in the form of string\n",
    "'''\n",
    "We cannot compare string with the float or integer value. We can only compare two simmilar data type\n",
    "element.\n",
    "Always type cast the input given by the user.\n",
    "'''\n",
    "age=int(age)\n",
    "if age>=20 and age<=50:\n",
    "    print(\"The person is adult\")\n",
    "elif age>50 and age<=100:\n",
    "    print(\"The person is old.\")\n",
    "elif age>=10 and age<20:\n",
    "    print(\"The person is at teenage stage\")\n",
    "elif age>=1 and age<10:\n",
    "    print(\"The person is at child stage\")\n",
    "else: # if none of the statement above execute then else statement will automatically execute.\n",
    "    print(\"The person is a new born baby\")"
   ]
  },
  {
   "cell_type": "code",
   "execution_count": 34,
   "id": "7530827b",
   "metadata": {},
   "outputs": [
    {
     "name": "stdout",
     "output_type": "stream",
     "text": [
      "60\n"
     ]
    }
   ],
   "source": [
    "# Nested if else statement.\n",
    "a=10\n",
    "if a==10:\n",
    "    a=60\n",
    "    b=20\n",
    "    print(a)\n",
    "else:\n",
    "    b=30\n",
    "    print(b)"
   ]
  },
  {
   "cell_type": "code",
   "execution_count": 40,
   "id": "9ee32511",
   "metadata": {},
   "outputs": [
    {
     "name": "stdout",
     "output_type": "stream",
     "text": [
      "Enter the age value:-25\n",
      "Enter gender detailsFemale\n",
      "Enter exp in years:- 1\n"
     ]
    }
   ],
   "source": [
    "age=input(\"Enter the age value:-\")\n",
    "age=int(age)\n",
    "if age>=20:\n",
    "    gender=input(\"Enter gender details\")\n",
    "    if gender==\"Female\":\n",
    "        exp=input(\"Enter exp in years:- \")\n",
    "        exp=int(exp)\n",
    "        if exp>=2:\n",
    "            print(\"Resume Short listed\")\n",
    "        else:\n",
    "            print(\"Not short listed because of exp\")\n",
    "    else:\n",
    "        print(\"not shorlisted because of gender male\")\n",
    "else:\n",
    "    print(\"Not shorlisted because age is not greater than 20\")"
   ]
  },
  {
   "cell_type": "code",
   "execution_count": 44,
   "id": "5a45c561",
   "metadata": {},
   "outputs": [
    {
     "name": "stdout",
     "output_type": "stream",
     "text": [
      "Enter the country details:- USA\n",
      "Entering in the first if statement\n",
      "Enter parent country info:- India\n",
      "entering second if statement\n"
     ]
    }
   ],
   "source": [
    "list_data=[\"India\",\"USA\",\"China\"]\n",
    "country=input(\"Enter the country details:- \")\n",
    "if country==list_data[-2]:\n",
    "    print(\"Entering in the first if statement\")\n",
    "    parent_country=input(\"Enter parent country info:- \")\n",
    "    if parent_country==list_data[0]:\n",
    "        print(\"entering second if statement\")\n",
    "    else:\n",
    "        print(\"Info for parent not correct\")\n",
    "else:\n",
    "    print(\"info for the country not correct\")"
   ]
  },
  {
   "cell_type": "code",
   "execution_count": null,
   "id": "4f5fdf1a",
   "metadata": {},
   "outputs": [],
   "source": []
  }
 ],
 "metadata": {
  "kernelspec": {
   "display_name": "Python 3 (ipykernel)",
   "language": "python",
   "name": "python3"
  },
  "language_info": {
   "codemirror_mode": {
    "name": "ipython",
    "version": 3
   },
   "file_extension": ".py",
   "mimetype": "text/x-python",
   "name": "python",
   "nbconvert_exporter": "python",
   "pygments_lexer": "ipython3",
   "version": "3.11.5"
  }
 },
 "nbformat": 4,
 "nbformat_minor": 5
}
