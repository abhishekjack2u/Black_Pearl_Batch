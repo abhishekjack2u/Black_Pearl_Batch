{
 "cells": [
  {
   "cell_type": "markdown",
   "id": "b351969f",
   "metadata": {},
   "source": [
    "# Enumerate and Zip Function:\n",
    "\n",
    "Enumerate function: Enumerate function help us in extraction both the index position and the values from the list/set/tuples/dictionaries/string.\n",
    "\n",
    "Zip Function: This helps us in extracting the values from more than one data structure a time."
   ]
  },
  {
   "cell_type": "code",
   "execution_count": 7,
   "id": "6e8e83c5",
   "metadata": {},
   "outputs": [
    {
     "name": "stdout",
     "output_type": "stream",
     "text": [
      "102\n"
     ]
    }
   ],
   "source": [
    "list_data=[101,102,\"Apple\",\"Banana\"]\n",
    "for index_val,val in enumerate(list_data):\n",
    "    if index_val==1:\n",
    "        print(val)"
   ]
  },
  {
   "cell_type": "code",
   "execution_count": 9,
   "id": "7bc736ec",
   "metadata": {},
   "outputs": [
    {
     "name": "stdout",
     "output_type": "stream",
     "text": [
      "Apple\n"
     ]
    }
   ],
   "source": [
    "list_data=[101,102,\"Apple\",\"Banana\"]\n",
    "for index_val,val in enumerate(list_data[-1::-1]):\n",
    "    if index_val==1:\n",
    "        print(val)"
   ]
  },
  {
   "cell_type": "code",
   "execution_count": 10,
   "id": "a20e9a5e",
   "metadata": {},
   "outputs": [
    {
     "name": "stdout",
     "output_type": "stream",
     "text": [
      "For the Banana the index is 0\n",
      "For the Apple the index is 1\n",
      "For the 102 the index is 2\n",
      "For the 101 the index is 3\n"
     ]
    }
   ],
   "source": [
    "list_data=[101,102,\"Apple\",\"Banana\"]\n",
    "for index_val,val in enumerate(list_data[-1::-1]):\n",
    "    print(f\"For the {val} the index is {index_val}\")"
   ]
  },
  {
   "cell_type": "code",
   "execution_count": 11,
   "id": "26d22d13",
   "metadata": {},
   "outputs": [
    {
     "name": "stdout",
     "output_type": "stream",
     "text": [
      "For the 101 the index is 0\n",
      "For the 102 the index is 1\n",
      "For the Apple the index is 2\n",
      "For the Banana the index is 3\n"
     ]
    }
   ],
   "source": [
    "list_data=[101,102,\"Apple\",\"Banana\"]\n",
    "for index_val,val in enumerate(list_data):\n",
    "    print(f\"For the {val} the index is {index_val}\")"
   ]
  },
  {
   "cell_type": "code",
   "execution_count": 14,
   "id": "3d6b2cad",
   "metadata": {},
   "outputs": [
    {
     "name": "stdout",
     "output_type": "stream",
     "text": [
      "101 104\n"
     ]
    }
   ],
   "source": [
    "# Zip function:\n",
    "# Break statement help us in terminating the loop\n",
    "# continue statement will not break the loop and keep on executing it.\n",
    "list1=[101,102,103]\n",
    "list2=[104,105,106]\n",
    "for val_list1,val_list2 in zip(list1,list2):\n",
    "    print(val_list1,val_list2)\n",
    "    break"
   ]
  },
  {
   "cell_type": "code",
   "execution_count": 17,
   "id": "0489ea11",
   "metadata": {},
   "outputs": [
    {
     "name": "stdout",
     "output_type": "stream",
     "text": [
      "104\n",
      "104\n",
      "105\n",
      "105\n",
      "106\n",
      "106\n"
     ]
    }
   ],
   "source": [
    "list1=[101,102,103]\n",
    "list2=[104,105,106]\n",
    "for val_list1,val_list2 in zip(list1,list2):\n",
    "    print(val_list2)\n",
    "    print(val_list2)"
   ]
  },
  {
   "cell_type": "code",
   "execution_count": 18,
   "id": "71ba834a",
   "metadata": {},
   "outputs": [
    {
     "name": "stdout",
     "output_type": "stream",
     "text": [
      "104\n",
      "104\n",
      "105\n",
      "105\n",
      "106\n",
      "106\n"
     ]
    }
   ],
   "source": [
    "list2=[104,105,106]\n",
    "for val1,val2 in zip(list2,list2):\n",
    "    print(val1)\n",
    "    print(val2)"
   ]
  },
  {
   "cell_type": "code",
   "execution_count": 19,
   "id": "51620fde",
   "metadata": {},
   "outputs": [
    {
     "name": "stdout",
     "output_type": "stream",
     "text": [
      "101 104\n"
     ]
    }
   ],
   "source": [
    "list1=[101,102,103]\n",
    "list2=[104,105,106]\n",
    "for val_list1,val_list2 in zip(list1,list2):\n",
    "    print(val_list1,val_list2)\n",
    "    break"
   ]
  },
  {
   "cell_type": "code",
   "execution_count": 20,
   "id": "9d3fcce1",
   "metadata": {},
   "outputs": [
    {
     "name": "stdout",
     "output_type": "stream",
     "text": [
      "101 106\n"
     ]
    }
   ],
   "source": [
    "list1=[101,102,103]\n",
    "list2=[104,105,106] # reversed_val= [106,105,104]\n",
    "for val_list1,val_list2 in zip(list1,list2[-1::-1]):\n",
    "    print(val_list1,val_list2)\n",
    "    break"
   ]
  },
  {
   "cell_type": "code",
   "execution_count": 21,
   "id": "d4278ca3",
   "metadata": {},
   "outputs": [
    {
     "name": "stdout",
     "output_type": "stream",
     "text": [
      "101 @\n"
     ]
    }
   ],
   "source": [
    "# Enumerate and zip function together\n",
    "list_data1=[\"Apple\",\"Banana\",\"Kiwi\"]\n",
    "tuples_data1=(101,102,103)\n",
    "list_data2=[\"A\",\"B\",\"C\"]\n",
    "tuples_data2=(\"@\",\"#\",\"$\")\n",
    "for val1,val2,val3,val4 in zip(list_data1,tuples_data1,list_data2,tuples_data2):\n",
    "    print(val2,val4)\n",
    "    break"
   ]
  },
  {
   "cell_type": "code",
   "execution_count": 22,
   "id": "36084a28",
   "metadata": {},
   "outputs": [
    {
     "name": "stdout",
     "output_type": "stream",
     "text": [
      "Apple 101\n"
     ]
    }
   ],
   "source": [
    "# Enumerate and zip function together\n",
    "'''\n",
    "On the basis of the order inside the zip function the values will be extracted.\n",
    "'''\n",
    "list_data1=[\"Apple\",\"Banana\",\"Kiwi\"]\n",
    "tuples_data1=(101,102,103)\n",
    "list_data2=[\"A\",\"B\",\"C\"]\n",
    "tuples_data2=(\"@\",\"#\",\"$\")\n",
    "for val1,val2,val3,val4 in zip(list_data2,tuples_data2,list_data1,tuples_data1):\n",
    "    print(val3,val4)\n",
    "    break"
   ]
  },
  {
   "cell_type": "code",
   "execution_count": 27,
   "id": "97f51a18",
   "metadata": {},
   "outputs": [
    {
     "name": "stdout",
     "output_type": "stream",
     "text": [
      "$\n"
     ]
    }
   ],
   "source": [
    "list_data1=[\"Apple\",\"Banana\",\"Kiwi\"]\n",
    "tuples_data1=(101,102,103)\n",
    "list_data2=[\"A\",\"B\",\"C\"]\n",
    "tuples_data2=(\"@\",\"#\",\"$\")\n",
    "for index,(val1,val2,val3,val4) in enumerate(zip(list_data2,tuples_data2,list_data1,tuples_data1)):\n",
    "    if val3==\"Kiwi\":\n",
    "        print(val2)\n",
    "    else:\n",
    "        pass"
   ]
  },
  {
   "cell_type": "code",
   "execution_count": 29,
   "id": "421dd82f",
   "metadata": {},
   "outputs": [
    {
     "name": "stdout",
     "output_type": "stream",
     "text": [
      "My name is Abhishek\n"
     ]
    }
   ],
   "source": [
    "# Role of format string:\n",
    "'''\n",
    "The format string is used to pass the variable inside the string with its actual value.\n",
    "'''\n",
    "name=\"Abhishek\"\n",
    "print(f\"My name is {name}\")"
   ]
  },
  {
   "cell_type": "code",
   "execution_count": 28,
   "id": "0687eae7",
   "metadata": {},
   "outputs": [
    {
     "name": "stdout",
     "output_type": "stream",
     "text": [
      "for index val 0 the val fro list_data1 is Apple\n",
      "for index val 1 the val fro list_data1 is Banana\n",
      "for index val 2 the val fro list_data1 is Kiwi\n"
     ]
    }
   ],
   "source": [
    "list_data1=[\"Apple\",\"Banana\",\"Kiwi\"]\n",
    "tuples_data1=(101,102,103)\n",
    "list_data2=[\"A\",\"B\",\"C\"]\n",
    "tuples_data2=(\"@\",\"#\",\"$\")\n",
    "for index,(val1,val2,val3,val4) in enumerate(zip(list_data2,tuples_data2,list_data1,tuples_data1)):\n",
    "    print(f\"for index val {index} the val fro list_data1 is {val3}\")"
   ]
  },
  {
   "cell_type": "markdown",
   "id": "f00b5822",
   "metadata": {},
   "source": [
    "# Match Case Statement:"
   ]
  },
  {
   "cell_type": "code",
   "execution_count": 34,
   "id": "26e96a73",
   "metadata": {},
   "outputs": [
    {
     "name": "stdout",
     "output_type": "stream",
     "text": [
      "Enter the name:- Rohit\n"
     ]
    }
   ],
   "source": [
    "# How to take input from the user: Using input function\n",
    "name=input(\"Enter the name:- \")\n",
    "match name:\n",
    "    case \"Admin\":\n",
    "        print(\"You have the access\")\n",
    "    case \"Abhishek\":\n",
    "        print(\"Don't have access\")"
   ]
  },
  {
   "cell_type": "code",
   "execution_count": 42,
   "id": "b49866e2",
   "metadata": {},
   "outputs": [
    {
     "name": "stdout",
     "output_type": "stream",
     "text": [
      "Enter your age:- 60\n",
      "Old\n"
     ]
    }
   ],
   "source": [
    "'''\n",
    "In the match statement we need to pass the exact value with which we are comparing with\n",
    "'''\n",
    "age=int(input(\"Enter your age:- \"))\n",
    "match age:\n",
    "    case 30:\n",
    "        print(\"Adult\")\n",
    "    case 15:\n",
    "        print(\"Teenage\")\n",
    "    case 60:\n",
    "        print(\"Old\")\n",
    "#     else:               This statement cannot be used with match case statement. \n",
    "#         print(\"Nothing\")It can be used with if statement."
   ]
  },
  {
   "cell_type": "code",
   "execution_count": 44,
   "id": "f169addf",
   "metadata": {},
   "outputs": [
    {
     "name": "stdout",
     "output_type": "stream",
     "text": [
      "101\n",
      "102\n",
      "103\n"
     ]
    }
   ],
   "source": [
    "\n",
    "dict_data={101:\"Apple\",102:\"Banana\",103:\"Kiwi\"}\n",
    "# for val1,val2 in dict_data.items():  # Here items will extract both key and value\n",
    "#     print(val1,val2)\n",
    "for val in dict_data: # here only key will get printed\n",
    "    print(val)"
   ]
  },
  {
   "cell_type": "code",
   "execution_count": 55,
   "id": "c959e19c",
   "metadata": {},
   "outputs": [
    {
     "name": "stdout",
     "output_type": "stream",
     "text": [
      "Enter the fruit name:- Apple\n",
      "@\n",
      "Enter the fruit name:- Banana\n",
      "Hero\n",
      "Enter the fruit name:- Kiwi\n",
      "Bajaj\n"
     ]
    }
   ],
   "source": [
    "# Match Statement with the enumerate and zip function:\n",
    "dict_data={101:\"Apple\",102:\"Banana\",103:\"Kiwi\"}\n",
    "list_data=[\"@\",\"Hero\",\"Bajaj\"]\n",
    "for index,(val1,val2) in enumerate(zip(dict_data.values(),list_data)):\n",
    "    if val1==input(\"Enter the fruit name:- \"):\n",
    "        data=val1\n",
    "    else:\n",
    "        data=val1\n",
    "    match data:\n",
    "        case \"Banana\":\n",
    "            print(val2)\n",
    "        case \"Apple\":\n",
    "            print(val2)\n",
    "        case \"Kiwi\":\n",
    "            print(val2)"
   ]
  },
  {
   "cell_type": "code",
   "execution_count": 57,
   "id": "0198ebeb",
   "metadata": {},
   "outputs": [
    {
     "name": "stdout",
     "output_type": "stream",
     "text": [
      "Abhishek works for Deloitte and he is 27 years old\n"
     ]
    }
   ],
   "source": [
    "# How to format the string:\n",
    "'''\n",
    "There are basically two methods in python to format the string.\n",
    "'''\n",
    "# Using f string:\n",
    "age=27\n",
    "name=\"Abhishek\"\n",
    "org=\"Deloitte\"\n",
    "print(f\"{name} works for {org} and he is {age} years old\")"
   ]
  },
  {
   "cell_type": "code",
   "execution_count": 59,
   "id": "643576ef",
   "metadata": {},
   "outputs": [
    {
     "name": "stdout",
     "output_type": "stream",
     "text": [
      "Abhishek works for Deloitte and he is 27 years old\n"
     ]
    }
   ],
   "source": [
    "# Using format keyword\n",
    "print(\"{name} works for {org} and he is {age} years old\"\n",
    "      .format(name=\"Abhishek\",org=\"Deloitte\",age=27))"
   ]
  },
  {
   "cell_type": "code",
   "execution_count": null,
   "id": "43faabd4",
   "metadata": {},
   "outputs": [],
   "source": []
  }
 ],
 "metadata": {
  "kernelspec": {
   "display_name": "Python 3 (ipykernel)",
   "language": "python",
   "name": "python3"
  },
  "language_info": {
   "codemirror_mode": {
    "name": "ipython",
    "version": 3
   },
   "file_extension": ".py",
   "mimetype": "text/x-python",
   "name": "python",
   "nbconvert_exporter": "python",
   "pygments_lexer": "ipython3",
   "version": "3.11.5"
  }
 },
 "nbformat": 4,
 "nbformat_minor": 5
}
