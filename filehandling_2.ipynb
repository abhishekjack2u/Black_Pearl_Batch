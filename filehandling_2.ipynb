{
 "cells": [
  {
   "cell_type": "markdown",
   "id": "45749346",
   "metadata": {},
   "source": [
    "# Flush Function in file handling:"
   ]
  },
  {
   "cell_type": "markdown",
   "id": "94cd38cd",
   "metadata": {},
   "source": [
    "> When we write any data to a text file, python programming language holds everything in a temporary memory that is called buffer.  We can use flush function to clear the temporary memory before writing it to the file. The data is been on hold on temporary file for few miliseconds. After writing the data into the file, python has the option to automatically delete the temporary memory."
   ]
  },
  {
   "cell_type": "code",
   "execution_count": 1,
   "id": "0fb085dd",
   "metadata": {},
   "outputs": [
    {
     "name": "stdout",
     "output_type": "stream",
     "text": [
      "Hello, Welcome to the python session.\n",
      "I am Abhishek I will be taking your session.\n",
      "It is 12 months course.\n",
      "\n"
     ]
    }
   ],
   "source": [
    "# read the content of the file:\n",
    "file=open(r'C:\\Users\\amanp\\OneDrive\\Desktop\\data1.txt','r')\n",
    "data=file.read()\n",
    "file.close()\n",
    "print(data)"
   ]
  },
  {
   "cell_type": "code",
   "execution_count": 2,
   "id": "1672ca27",
   "metadata": {},
   "outputs": [],
   "source": [
    "# Write the content inside the file without flush function:\n",
    "file=open(r'C:\\Users\\amanp\\OneDrive\\Desktop\\data1.txt','a')\n",
    "file.write(\"India is my native country.\")\n",
    "file.close()"
   ]
  },
  {
   "cell_type": "code",
   "execution_count": 3,
   "id": "17759fbe",
   "metadata": {},
   "outputs": [],
   "source": [
    "# Write the content inside the file without flush function:\n",
    "file=open(r'C:\\Users\\amanp\\OneDrive\\Desktop\\data1.txt','a')\n",
    "file.write(\"\\nData is good the company i have been working for.\")\n",
    "file.flush()\n",
    "file.write(\"\\nI am a data scientist\")\n",
    "file.close()"
   ]
  },
  {
   "cell_type": "markdown",
   "id": "41f1b53e",
   "metadata": {},
   "source": [
    "# Removing the whitespaces after reading the file.\n",
    "\n",
    "> strip():- Remove the given character from both ends\n",
    "\n",
    "> lstrip():- Removes the given character from the left end\n",
    "\n",
    "> rstrip:- Removes the given character from the right end"
   ]
  },
  {
   "cell_type": "code",
   "execution_count": 4,
   "id": "ca264808",
   "metadata": {},
   "outputs": [
    {
     "name": "stdout",
     "output_type": "stream",
     "text": [
      "Cricket Bat\n",
      "\tFootball Ball\n",
      "\n",
      "\t\n"
     ]
    }
   ],
   "source": [
    "file=open(r'C:\\Users\\amanp\\OneDrive\\Desktop\\data1.txt','r')\n",
    "data=file.read()\n",
    "file.close()\n",
    "print(data)"
   ]
  },
  {
   "cell_type": "code",
   "execution_count": 32,
   "id": "5637dac1",
   "metadata": {},
   "outputs": [
    {
     "name": "stdout",
     "output_type": "stream",
     "text": [
      "['Cricket Bat', ' Football Ball']\n"
     ]
    }
   ],
   "source": [
    "file=open(r'C:\\Users\\amanp\\OneDrive\\Desktop\\data1.txt','r')\n",
    "data=file.read()\n",
    "data=data.split(\"\\n\")[0:2]\n",
    "file.close()\n",
    "print(data)"
   ]
  },
  {
   "cell_type": "markdown",
   "id": "4dbb01f7",
   "metadata": {},
   "source": [
    "# Binary File operation:\n",
    "\n",
    "If we want to write the text data or list, dictionary into a file in an encrypted manner we can use binary files.\n",
    "\n",
    "To do such things, python provide pickle module.\n",
    "\n",
    "There are two main function of the pickle module:\n",
    "\n",
    "1. Dump :- To save the binary data into the file.\n",
    "\n",
    "2. Load: - To retrive the binary data in actual from from the file to the python."
   ]
  },
  {
   "cell_type": "code",
   "execution_count": 35,
   "id": "13525860",
   "metadata": {},
   "outputs": [
    {
     "name": "stdout",
     "output_type": "stream",
     "text": [
      "@#fgg786&\n"
     ]
    }
   ],
   "source": [
    "import pickle\n",
    "file=open(r\"C:\\Users\\amanp\\OneDrive\\Desktop\\abhishek_password.txt\",'r')\n",
    "password=file.read()\n",
    "file.close()\n",
    "print(password)"
   ]
  },
  {
   "cell_type": "code",
   "execution_count": 36,
   "id": "af4324ea",
   "metadata": {},
   "outputs": [],
   "source": [
    "# Save the password inside the binary file.\n",
    "import pickle\n",
    "file=open(r\"C:\\Users\\amanp\\OneDrive\\Desktop\\abhishek_password.txt\",'wb')\n",
    "pickle.dump(password,file)\n",
    "file.close()"
   ]
  },
  {
   "cell_type": "code",
   "execution_count": 37,
   "id": "f08a5eae",
   "metadata": {},
   "outputs": [
    {
     "name": "stdout",
     "output_type": "stream",
     "text": [
      "@#fgg786&\n"
     ]
    }
   ],
   "source": [
    "# Read the binary file\n",
    "import pickle\n",
    "file=open(r\"C:\\Users\\amanp\\OneDrive\\Desktop\\abhishek_password.txt\",'rb')\n",
    "data=pickle.load(file)\n",
    "file.close()\n",
    "print(data)"
   ]
  },
  {
   "cell_type": "code",
   "execution_count": null,
   "id": "19e792b9",
   "metadata": {},
   "outputs": [],
   "source": [
    "'''\n",
    "We can dump string,int,float,list,dict,tuple and set to the text file in binary mode. And the data of the following\n",
    "can be retrieve using the load method of the binary file operation.\n",
    "'''"
   ]
  },
  {
   "cell_type": "markdown",
   "id": "f72c034b",
   "metadata": {},
   "source": [
    "# Functionality on Binary data files:\n",
    "\n",
    "There are basically four functionality of the binary data files:\n",
    "\n",
    "1. Inserting/Appending the data records in a binary files\n",
    "2. Reading the records from a binary file.\n",
    "3. Searching the record in the binary file\n",
    "4. Updating the records in the binary file."
   ]
  },
  {
   "cell_type": "code",
   "execution_count": 38,
   "id": "66b10dce",
   "metadata": {},
   "outputs": [
    {
     "name": "stdout",
     "output_type": "stream",
     "text": [
      "Enter the roll number:- 101\n",
      "Enter the name:- Abhishek\n",
      "Enter the marks:- 78\n",
      "Do you want to add more input:- yes\n",
      "Enter the roll number:- 102\n",
      "Enter the name:- Rohit\n",
      "Enter the marks:- 62\n",
      "Do you want to add more input:- no\n",
      "Records added\n"
     ]
    }
   ],
   "source": [
    "# Inserting/Appending the data records in a binary files\n",
    "\n",
    "import pickle\n",
    "record=[]\n",
    "while True:\n",
    "    roll_no=int(input(\"Enter the roll number:- \"))\n",
    "    name=str(input(\"Enter the name:- \"))\n",
    "    marks=int(input(\"Enter the marks:- \"))\n",
    "    list_of_data=[roll_no,name,marks]\n",
    "    record.append(list_of_data)\n",
    "    choice=input(\"Do you want to add more input:- \")\n",
    "    if choice.upper()==\"NO\":\n",
    "        break\n",
    "file=open(r\"C:\\Users\\amanp\\OneDrive\\Desktop\\abhishek_password.txt\",'wb')\n",
    "pickle.dump(record,file)\n",
    "print(\"Records added\")\n",
    "file.close()"
   ]
  },
  {
   "cell_type": "code",
   "execution_count": 39,
   "id": "e580f7ca",
   "metadata": {},
   "outputs": [
    {
     "name": "stdout",
     "output_type": "stream",
     "text": [
      "[[101, 'Abhishek', 78], [102, 'Rohit', 62]]\n"
     ]
    }
   ],
   "source": [
    "file=open(r\"C:\\Users\\amanp\\OneDrive\\Desktop\\abhishek_password.txt\",'rb')\n",
    "data=pickle.load(file)\n",
    "print(data)\n",
    "file.close()"
   ]
  },
  {
   "cell_type": "code",
   "execution_count": 46,
   "id": "bbb44f38",
   "metadata": {},
   "outputs": [
    {
     "name": "stdout",
     "output_type": "stream",
     "text": [
      "Abhishek Sharma Kumar  Kumar \n"
     ]
    }
   ],
   "source": [
    "# How to append the records inside the text file in between the strings.\n",
    "file=open(r\"C:\\Users\\amanp\\OneDrive\\Desktop\\name.txt\",'r')\n",
    "data=file.read()\n",
    "print(data)\n",
    "file.close()"
   ]
  },
  {
   "cell_type": "code",
   "execution_count": 48,
   "id": "5c151be5",
   "metadata": {},
   "outputs": [],
   "source": [
    "file=open(r\"C:\\Users\\amanp\\OneDrive\\Desktop\\name.txt\",'a+')\n",
    "file.seek(8)\n",
    "file.write(\"Kumar\")\n",
    "file.close()"
   ]
  },
  {
   "cell_type": "code",
   "execution_count": 49,
   "id": "ffa03c43",
   "metadata": {},
   "outputs": [
    {
     "name": "stdout",
     "output_type": "stream",
     "text": [
      "Abhishek Sharma Kumar  Kumar Kumar\n"
     ]
    }
   ],
   "source": [
    "file=open(r\"C:\\Users\\amanp\\OneDrive\\Desktop\\name.txt\",'r')\n",
    "data=file.read()\n",
    "print(data)\n",
    "file.close()"
   ]
  },
  {
   "cell_type": "code",
   "execution_count": 54,
   "id": "d2409b0b",
   "metadata": {},
   "outputs": [
    {
     "name": "stdout",
     "output_type": "stream",
     "text": [
      "<_csv.reader object at 0x0000028984CCF880>\n"
     ]
    }
   ],
   "source": [
    "# Read a csv file inside the python programming language.\n",
    "'''\n",
    "In python to read a csv file we have a module with the name csv.\n",
    "'''\n",
    "import csv\n",
    "filename=open(r\"C:\\Users\\amanp\\OneDrive\\Desktop\\student.csv\",\"r\")\n",
    "csv_data=csv.reader(filename)\n",
    "print(csv_data)"
   ]
  },
  {
   "cell_type": "code",
   "execution_count": 55,
   "id": "7581ccb7",
   "metadata": {},
   "outputs": [
    {
     "name": "stdout",
     "output_type": "stream",
     "text": [
      "['Roll No', 'Name', 'Marks']\n",
      "['101', 'Abhishek', '67']\n",
      "['102', 'Rohit', '62']\n",
      "['103', 'Shalini', '23']\n",
      "['104', 'Sweta', '87']\n",
      "['105', 'Rajni', '92']\n"
     ]
    }
   ],
   "source": [
    "for row_val in csv_data:\n",
    "    print(row_val)\n",
    "filename.close()"
   ]
  },
  {
   "cell_type": "code",
   "execution_count": null,
   "id": "4cc505b1",
   "metadata": {},
   "outputs": [],
   "source": []
  }
 ],
 "metadata": {
  "kernelspec": {
   "display_name": "Python 3 (ipykernel)",
   "language": "python",
   "name": "python3"
  },
  "language_info": {
   "codemirror_mode": {
    "name": "ipython",
    "version": 3
   },
   "file_extension": ".py",
   "mimetype": "text/x-python",
   "name": "python",
   "nbconvert_exporter": "python",
   "pygments_lexer": "ipython3",
   "version": "3.11.5"
  }
 },
 "nbformat": 4,
 "nbformat_minor": 5
}
