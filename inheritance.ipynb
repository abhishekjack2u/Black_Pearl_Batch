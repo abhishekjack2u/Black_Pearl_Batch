{
 "cells": [
  {
   "cell_type": "markdown",
   "id": "08957588",
   "metadata": {},
   "source": [
    "# Inheritance:\n",
    "## Defining a subclass:"
   ]
  },
  {
   "cell_type": "markdown",
   "id": "983d1f1b",
   "metadata": {},
   "source": [
    "Sub classing creates hierarchy of the classes:\n",
    "> Each class has its own super class or parent class.\n",
    "> Until object at the top."
   ]
  },
  {
   "cell_type": "code",
   "execution_count": 20,
   "id": "5e550b49",
   "metadata": {},
   "outputs": [],
   "source": [
    "class shape():\n",
    "    def __init__(self,length,breadth,radius):\n",
    "        self.length=length\n",
    "        self.breadth=breadth\n",
    "        self.radius=radius\n",
    "    def draw(self):\n",
    "        shape_of_dim=input(\"Which shape is it?:- \")\n",
    "        if shape_of_dim==\"circle\":\n",
    "            return f\"Area:- {3.14*self.radius**2}\"\n",
    "        elif shape_of_dim==\"rectangle\":\n",
    "            return f\"Area:- {self.length*self.breadth}\"\n",
    "class circle(shape):\n",
    "    def __init__(self,radius):\n",
    "        self.radius=radius\n",
    "    def area(self):\n",
    "        return f\"Area:- {3.14*self.radius**2}\"\n",
    "class rectangle(shape):\n",
    "    def __init__(self,length,breadth):\n",
    "        self.length=length\n",
    "        self.breadth=breadth\n",
    "    def area(self):\n",
    "        return f\"Area:- {self.length*self.breadth}\"\n"
   ]
  },
  {
   "cell_type": "code",
   "execution_count": 13,
   "id": "08b7fe7a",
   "metadata": {},
   "outputs": [
    {
     "name": "stdout",
     "output_type": "stream",
     "text": [
      "Which shape is it?:- circle\n"
     ]
    },
    {
     "data": {
      "text/plain": [
       "'Area:- 153.86'"
      ]
     },
     "execution_count": 13,
     "metadata": {},
     "output_type": "execute_result"
    }
   ],
   "source": [
    "obj_shape=shape(5,6,7)\n",
    "obj_shape.draw()"
   ]
  },
  {
   "cell_type": "code",
   "execution_count": 4,
   "id": "9f715673",
   "metadata": {},
   "outputs": [
    {
     "name": "stdout",
     "output_type": "stream",
     "text": [
      "Which shape is it?:- rectangle\n"
     ]
    },
    {
     "data": {
      "text/plain": [
       "'Area:- 30'"
      ]
     },
     "execution_count": 4,
     "metadata": {},
     "output_type": "execute_result"
    }
   ],
   "source": [
    "obj_shape.draw()"
   ]
  },
  {
   "cell_type": "code",
   "execution_count": 5,
   "id": "910157c8",
   "metadata": {},
   "outputs": [],
   "source": [
    "obj_child=circle(14)"
   ]
  },
  {
   "cell_type": "code",
   "execution_count": 6,
   "id": "05a90ea5",
   "metadata": {},
   "outputs": [
    {
     "data": {
      "text/plain": [
       "'Area:- 615.44'"
      ]
     },
     "execution_count": 6,
     "metadata": {},
     "output_type": "execute_result"
    }
   ],
   "source": [
    "obj_child.area()"
   ]
  },
  {
   "cell_type": "code",
   "execution_count": 7,
   "id": "16315f1d",
   "metadata": {},
   "outputs": [
    {
     "name": "stdout",
     "output_type": "stream",
     "text": [
      "Which shape is it?:- circle\n"
     ]
    },
    {
     "data": {
      "text/plain": [
       "'Area:- 615.44'"
      ]
     },
     "execution_count": 7,
     "metadata": {},
     "output_type": "execute_result"
    }
   ],
   "source": [
    "obj_child.draw()"
   ]
  },
  {
   "cell_type": "code",
   "execution_count": 14,
   "id": "02046c50",
   "metadata": {},
   "outputs": [],
   "source": [
    "obj_rectangle=rectangle(8,7)"
   ]
  },
  {
   "cell_type": "code",
   "execution_count": 15,
   "id": "5c7e3f81",
   "metadata": {},
   "outputs": [
    {
     "data": {
      "text/plain": [
       "'Area:- 56'"
      ]
     },
     "execution_count": 15,
     "metadata": {},
     "output_type": "execute_result"
    }
   ],
   "source": [
    "obj_rectangle.area()"
   ]
  },
  {
   "cell_type": "markdown",
   "id": "c9f12935",
   "metadata": {},
   "source": [
    "# Multi-inheritance:"
   ]
  },
  {
   "cell_type": "code",
   "execution_count": 63,
   "id": "4d691532",
   "metadata": {},
   "outputs": [
    {
     "name": "stdout",
     "output_type": "stream",
     "text": [
      "The name of the grand father is John\n"
     ]
    }
   ],
   "source": [
    "class GrandFather:\n",
    "    def __init__(self,gf_name):\n",
    "        self.gf_name=gf_name\n",
    "class Father(GrandFather):\n",
    "    def __init__(self,father_name):\n",
    "        self.father_name=father_name    \n",
    "class Mother():\n",
    "    def __init__(self,mother_name):\n",
    "        self.mother_name=mother_name\n",
    "class child(Father,Mother):\n",
    "    def __init__(self,child_name):\n",
    "        self.child_name=child_name\n",
    "obj_gf=GrandFather(\"John\")\n",
    "print(f\"The name of the grand father is {obj_gf.gf_name}\")"
   ]
  },
  {
   "cell_type": "code",
   "execution_count": 60,
   "id": "12b15da3",
   "metadata": {},
   "outputs": [],
   "source": [
    "obj_f=Father(\"Jhonny\")"
   ]
  },
  {
   "cell_type": "code",
   "execution_count": 64,
   "id": "92e91576",
   "metadata": {},
   "outputs": [
    {
     "data": {
      "text/plain": [
       "'Jhonny'"
      ]
     },
     "execution_count": 64,
     "metadata": {},
     "output_type": "execute_result"
    }
   ],
   "source": [
    "obj_f.father_name"
   ]
  },
  {
   "cell_type": "code",
   "execution_count": 67,
   "id": "57379f47",
   "metadata": {},
   "outputs": [
    {
     "name": "stdout",
     "output_type": "stream",
     "text": [
      "The name of the child is John Jhonny Jacob\n"
     ]
    }
   ],
   "source": [
    "obj_c=child(\"Jacob\")\n",
    "space=\" \"\n",
    "print(f\"The name of the child is {obj_gf.gf_name +space+ obj_f.father_name+space+obj_c.child_name }\")"
   ]
  },
  {
   "cell_type": "code",
   "execution_count": 72,
   "id": "c90db83d",
   "metadata": {},
   "outputs": [
    {
     "name": "stdout",
     "output_type": "stream",
     "text": [
      "Enter the value for which you want the table20\n",
      "The table of 20 is [20, 40, 60, 80, 100, 120, 140, 160, 180, 200]\n"
     ]
    }
   ],
   "source": [
    "var=int(input(\"Enter the value for which you want the table\"))\n",
    "print(f'''The table of {var} is {list(range(var,var*11,var))}''')"
   ]
  },
  {
   "cell_type": "code",
   "execution_count": 77,
   "id": "617538ac",
   "metadata": {},
   "outputs": [
    {
     "name": "stdout",
     "output_type": "stream",
     "text": [
      "Enter the value for which you want the table15\n",
      "15*1==15\n",
      "15*2==30\n",
      "15*3==45\n",
      "15*4==60\n",
      "15*5==75\n",
      "15*6==90\n",
      "15*7==105\n",
      "15*8==120\n",
      "15*9==135\n",
      "15*10==150\n"
     ]
    }
   ],
   "source": [
    "var=int(input(\"Enter the value for which you want the table\"))\n",
    "equals_to=\"==\"\n",
    "for index,val in enumerate(list(range(var,var*11,var))):\n",
    "    print(f\"{var}*{(index+1)}{equals_to}{val}\")"
   ]
  },
  {
   "cell_type": "code",
   "execution_count": 86,
   "id": "ae98b1a4",
   "metadata": {},
   "outputs": [],
   "source": [
    "class employee():     #parent/main class\n",
    "    def __init__(self,id,name,age):\n",
    "        self.id=id\n",
    "        self.name=name\n",
    "        self.age=age\n",
    "class freelancer(employee):                # child/subclass/derived class\n",
    "    def __init__(self,id,name,age,email):\n",
    "        super().__init__(id,name,age)  # super method is used to get the variable from the main class to the derived class.\n",
    "        self.email=email\n",
    "obj_freelancer=freelancer(102,\"Abhishek\",28,\"abhishekjack2u@gmail.com\")"
   ]
  },
  {
   "cell_type": "code",
   "execution_count": 87,
   "id": "98584690",
   "metadata": {},
   "outputs": [
    {
     "data": {
      "text/plain": [
       "28"
      ]
     },
     "execution_count": 87,
     "metadata": {},
     "output_type": "execute_result"
    }
   ],
   "source": [
    "obj_freelancer.age"
   ]
  },
  {
   "cell_type": "code",
   "execution_count": null,
   "id": "29dd3c69",
   "metadata": {},
   "outputs": [],
   "source": []
  }
 ],
 "metadata": {
  "kernelspec": {
   "display_name": "Python 3 (ipykernel)",
   "language": "python",
   "name": "python3"
  },
  "language_info": {
   "codemirror_mode": {
    "name": "ipython",
    "version": 3
   },
   "file_extension": ".py",
   "mimetype": "text/x-python",
   "name": "python",
   "nbconvert_exporter": "python",
   "pygments_lexer": "ipython3",
   "version": "3.11.5"
  }
 },
 "nbformat": 4,
 "nbformat_minor": 5
}
