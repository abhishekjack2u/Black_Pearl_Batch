{
 "cells": [
  {
   "cell_type": "code",
   "execution_count": null,
   "id": "779d8d6f",
   "metadata": {},
   "outputs": [],
   "source": [
    "# Data Structure: It means the storage where we can store our different data type values.\n",
    "\n",
    "'''\n",
    "There are four types of data structure in python:\n",
    "> List : It denoted by square bracket which holds different data type values(int/float/string). It contains heterogenous values.\n",
    "> Tuples\n",
    "> Set\n",
    "> Dictionary\n",
    "'''"
   ]
  },
  {
   "cell_type": "markdown",
   "id": "0f8d7821",
   "metadata": {},
   "source": [
    "# List"
   ]
  },
  {
   "cell_type": "code",
   "execution_count": 1,
   "id": "84321767",
   "metadata": {},
   "outputs": [
    {
     "name": "stdout",
     "output_type": "stream",
     "text": [
      "[]\n",
      "<class 'list'>\n"
     ]
    }
   ],
   "source": [
    "empty_list=[]\n",
    "print(empty_list)\n",
    "print(type(empty_list))"
   ]
  },
  {
   "cell_type": "code",
   "execution_count": 3,
   "id": "6066bf95",
   "metadata": {},
   "outputs": [
    {
     "name": "stdout",
     "output_type": "stream",
     "text": [
      "['Apple', 101, 103.112]\n"
     ]
    }
   ],
   "source": [
    "dummy_list=[\"Apple\",101,103.112]\n",
    "print(dummy_list)"
   ]
  },
  {
   "cell_type": "code",
   "execution_count": 7,
   "id": "796e9f13",
   "metadata": {},
   "outputs": [
    {
     "name": "stdout",
     "output_type": "stream",
     "text": [
      "Apple\n",
      "101\n",
      "103.112\n",
      "103.112\n",
      "101\n",
      "Apple\n"
     ]
    }
   ],
   "source": [
    "# Indexing in List: The position of the data records inside the data structure.\n",
    "# forward indexing\n",
    "print(dummy_list[0])\n",
    "print(dummy_list[1])\n",
    "print(dummy_list[2])\n",
    "\n",
    "#reverse indexing/backward indexing:\n",
    "print(dummy_list[-1])\n",
    "print(dummy_list[-2])\n",
    "print(dummy_list[-3])"
   ]
  },
  {
   "cell_type": "code",
   "execution_count": 13,
   "id": "1b9e17db",
   "metadata": {},
   "outputs": [
    {
     "name": "stdout",
     "output_type": "stream",
     "text": [
      "[1, 2, 3, 4, 5, 6, 7, 8, 9]\n"
     ]
    }
   ],
   "source": [
    "# range function: it can create n number of values and we can store those records inside the list.\n",
    "print(list(range(1,10))) # Here the first val inside the range function will be inclusive and the second value will be exclusive."
   ]
  },
  {
   "cell_type": "code",
   "execution_count": 18,
   "id": "bbfde84e",
   "metadata": {},
   "outputs": [
    {
     "name": "stdout",
     "output_type": "stream",
     "text": [
      "[5, 8, 11, 14, 17]\n"
     ]
    }
   ],
   "source": [
    "inc_val=5\n",
    "exc_var=20\n",
    "steps=3   #the default for the steps is 1.\n",
    "print(list(range(inc_val,exc_var,steps)))"
   ]
  },
  {
   "cell_type": "code",
   "execution_count": 19,
   "id": "cee58ae9",
   "metadata": {},
   "outputs": [
    {
     "name": "stdout",
     "output_type": "stream",
     "text": [
      "14\n",
      "11\n"
     ]
    }
   ],
   "source": [
    "first_list=list(range(inc_val,exc_var,steps))\n",
    "print(first_list[-2])\n",
    "print(first_list[2])"
   ]
  },
  {
   "cell_type": "markdown",
   "id": "1a015447",
   "metadata": {},
   "source": [
    "# Slicing in list: To get the list of records between two different positioned val."
   ]
  },
  {
   "cell_type": "code",
   "execution_count": 28,
   "id": "df61af3f",
   "metadata": {},
   "outputs": [
    {
     "name": "stdout",
     "output_type": "stream",
     "text": [
      "[4, 8, 12, 16, 20, 24, 28, 32, 36, 40]\n",
      "[16, 24]\n"
     ]
    }
   ],
   "source": [
    "# forward slicing: It helps to retreive the data records from the datastructure in the form of list forward indexing.\n",
    "second_list=list(range(4,41,4))\n",
    "print(second_list)\n",
    "print(second_list[3:7:2])"
   ]
  },
  {
   "cell_type": "code",
   "execution_count": 29,
   "id": "a2ed6943",
   "metadata": {},
   "outputs": [
    {
     "name": "stdout",
     "output_type": "stream",
     "text": [
      "[4, 8, 12, 16, 20, 24, 28, 32, 36, 40]\n",
      "[40, 32, 24]\n"
     ]
    }
   ],
   "source": [
    "# Reverse slicing: It helps to retreive the data records from the datastructure in the form of list using reverse indexing.\n",
    "second_list=list(range(4,41,4))\n",
    "print(second_list)\n",
    "print(second_list[-1:-6:-2])"
   ]
  },
  {
   "cell_type": "code",
   "execution_count": 38,
   "id": "da811124",
   "metadata": {},
   "outputs": [
    {
     "name": "stdout",
     "output_type": "stream",
     "text": [
      "[]\n",
      "['Data Science', 'Abhishek']\n",
      "['Data Science', 'Abhishek']\n",
      "['Data Science', 'Abhishek', 101]\n"
     ]
    }
   ],
   "source": [
    "list_of_data_records=[101,\"Abhishek\",\"Data Science\"]\n",
    "# WAP to reverse the list.\n",
    "print(list_of_data_records[2:-1:-1]) #wrong Ans\n",
    "print(list_of_data_records[-1:0:-1]) #wrong ans\n",
    "print(list_of_data_records[-1:-3:-1]) #wrong ans\n",
    "#print(list_of_data_records[-1:-2:-3:-1])\n",
    "print(list_of_data_records[-1::-1]) # correct ans"
   ]
  },
  {
   "cell_type": "code",
   "execution_count": 37,
   "id": "b48785fa",
   "metadata": {},
   "outputs": [
    {
     "name": "stdout",
     "output_type": "stream",
     "text": [
      "['Data Science', 'Abhishek', 101]\n"
     ]
    }
   ],
   "source": [
    "print(list_of_data_records[2::-1])"
   ]
  },
  {
   "cell_type": "code",
   "execution_count": 40,
   "id": "e759d12b",
   "metadata": {},
   "outputs": [
    {
     "name": "stdout",
     "output_type": "stream",
     "text": [
      "['Data Science', 'Abhishek', 101]\n"
     ]
    }
   ],
   "source": [
    "print(list_of_data_records[-1:-4:-1])"
   ]
  },
  {
   "cell_type": "code",
   "execution_count": 43,
   "id": "e4cb495f",
   "metadata": {},
   "outputs": [
    {
     "name": "stdout",
     "output_type": "stream",
     "text": [
      "['Abhishek', 101, 'Data Science']\n"
     ]
    }
   ],
   "source": [
    "list_of_data_records=[101,\"Abhishek\",\"Data Science\"]\n",
    "a=list_of_data_records[0]\n",
    "b=list_of_data_records[1]\n",
    "list_of_data_records[0]=b\n",
    "list_of_data_records[1]=a\n",
    "print(list_of_data_records)"
   ]
  },
  {
   "cell_type": "code",
   "execution_count": 44,
   "id": "0ea3802a",
   "metadata": {},
   "outputs": [
    {
     "name": "stdout",
     "output_type": "stream",
     "text": [
      "\n",
      "Welcome to Python 3.11's help utility!\n",
      "\n",
      "If this is your first time using Python, you should definitely check out\n",
      "the tutorial on the internet at https://docs.python.org/3.11/tutorial/.\n",
      "\n",
      "Enter the name of any module, keyword, or topic to get help on writing\n",
      "Python programs and using Python modules.  To quit this help utility and\n",
      "return to the interpreter, just type \"quit\".\n",
      "\n",
      "To get a list of available modules, keywords, symbols, or topics, type\n",
      "\"modules\", \"keywords\", \"symbols\", or \"topics\".  Each module also comes\n",
      "with a one-line summary of what it does; to list the modules whose name\n",
      "or summary contain a given string such as \"spam\", type \"modules spam\".\n",
      "\n",
      "help> list\n",
      "Help on class list in module builtins:\n",
      "\n",
      "class list(object)\n",
      " |  list(iterable=(), /)\n",
      " |  \n",
      " |  Built-in mutable sequence.\n",
      " |  \n",
      " |  If no argument is given, the constructor creates a new empty list.\n",
      " |  The argument must be an iterable if specified.\n",
      " |  \n",
      " |  Methods defined here:\n",
      " |  \n",
      " |  __add__(self, value, /)\n",
      " |      Return self+value.\n",
      " |  \n",
      " |  __contains__(self, key, /)\n",
      " |      Return key in self.\n",
      " |  \n",
      " |  __delitem__(self, key, /)\n",
      " |      Delete self[key].\n",
      " |  \n",
      " |  __eq__(self, value, /)\n",
      " |      Return self==value.\n",
      " |  \n",
      " |  __ge__(self, value, /)\n",
      " |      Return self>=value.\n",
      " |  \n",
      " |  __getattribute__(self, name, /)\n",
      " |      Return getattr(self, name).\n",
      " |  \n",
      " |  __getitem__(...)\n",
      " |      x.__getitem__(y) <==> x[y]\n",
      " |  \n",
      " |  __gt__(self, value, /)\n",
      " |      Return self>value.\n",
      " |  \n",
      " |  __iadd__(self, value, /)\n",
      " |      Implement self+=value.\n",
      " |  \n",
      " |  __imul__(self, value, /)\n",
      " |      Implement self*=value.\n",
      " |  \n",
      " |  __init__(self, /, *args, **kwargs)\n",
      " |      Initialize self.  See help(type(self)) for accurate signature.\n",
      " |  \n",
      " |  __iter__(self, /)\n",
      " |      Implement iter(self).\n",
      " |  \n",
      " |  __le__(self, value, /)\n",
      " |      Return self<=value.\n",
      " |  \n",
      " |  __len__(self, /)\n",
      " |      Return len(self).\n",
      " |  \n",
      " |  __lt__(self, value, /)\n",
      " |      Return self<value.\n",
      " |  \n",
      " |  __mul__(self, value, /)\n",
      " |      Return self*value.\n",
      " |  \n",
      " |  __ne__(self, value, /)\n",
      " |      Return self!=value.\n",
      " |  \n",
      " |  __repr__(self, /)\n",
      " |      Return repr(self).\n",
      " |  \n",
      " |  __reversed__(self, /)\n",
      " |      Return a reverse iterator over the list.\n",
      " |  \n",
      " |  __rmul__(self, value, /)\n",
      " |      Return value*self.\n",
      " |  \n",
      " |  __setitem__(self, key, value, /)\n",
      " |      Set self[key] to value.\n",
      " |  \n",
      " |  __sizeof__(self, /)\n",
      " |      Return the size of the list in memory, in bytes.\n",
      " |  \n",
      " |  append(self, object, /)\n",
      " |      Append object to the end of the list.\n",
      " |  \n",
      " |  clear(self, /)\n",
      " |      Remove all items from list.\n",
      " |  \n",
      " |  copy(self, /)\n",
      " |      Return a shallow copy of the list.\n",
      " |  \n",
      " |  count(self, value, /)\n",
      " |      Return number of occurrences of value.\n",
      " |  \n",
      " |  extend(self, iterable, /)\n",
      " |      Extend list by appending elements from the iterable.\n",
      " |  \n",
      " |  index(self, value, start=0, stop=9223372036854775807, /)\n",
      " |      Return first index of value.\n",
      " |      \n",
      " |      Raises ValueError if the value is not present.\n",
      " |  \n",
      " |  insert(self, index, object, /)\n",
      " |      Insert object before index.\n",
      " |  \n",
      " |  pop(self, index=-1, /)\n",
      " |      Remove and return item at index (default last).\n",
      " |      \n",
      " |      Raises IndexError if list is empty or index is out of range.\n",
      " |  \n",
      " |  remove(self, value, /)\n",
      " |      Remove first occurrence of value.\n",
      " |      \n",
      " |      Raises ValueError if the value is not present.\n",
      " |  \n",
      " |  reverse(self, /)\n",
      " |      Reverse *IN PLACE*.\n",
      " |  \n",
      " |  sort(self, /, *, key=None, reverse=False)\n",
      " |      Sort the list in ascending order and return None.\n",
      " |      \n",
      " |      The sort is in-place (i.e. the list itself is modified) and stable (i.e. the\n",
      " |      order of two equal elements is maintained).\n",
      " |      \n",
      " |      If a key function is given, apply it once to each list item and sort them,\n",
      " |      ascending or descending, according to their function values.\n",
      " |      \n",
      " |      The reverse flag can be set to sort in descending order.\n",
      " |  \n",
      " |  ----------------------------------------------------------------------\n",
      " |  Class methods defined here:\n",
      " |  \n",
      " |  __class_getitem__(...) from builtins.type\n",
      " |      See PEP 585\n",
      " |  \n",
      " |  ----------------------------------------------------------------------\n",
      " |  Static methods defined here:\n",
      " |  \n",
      " |  __new__(*args, **kwargs) from builtins.type\n",
      " |      Create and return a new object.  See help(type) for accurate signature.\n",
      " |  \n",
      " |  ----------------------------------------------------------------------\n",
      " |  Data and other attributes defined here:\n",
      " |  \n",
      " |  __hash__ = None\n",
      "\n",
      "\n",
      "You are now leaving help and returning to the Python interpreter.\n",
      "If you want to ask for help on a particular object directly from the\n",
      "interpreter, you can type \"help(object)\".  Executing \"help('string')\"\n",
      "has the same effect as typing a particular string at the help> prompt.\n"
     ]
    }
   ],
   "source": [
    "# Functionality or the properties of the List:\n",
    "help()"
   ]
  },
  {
   "cell_type": "code",
   "execution_count": 58,
   "id": "7faaa314",
   "metadata": {},
   "outputs": [
    {
     "name": "stdout",
     "output_type": "stream",
     "text": [
      "[101, 'Rohit', 'ML', 20000]\n",
      "[101, 'Rohit', 'ML', 20000, 'ENG']\n"
     ]
    }
   ],
   "source": [
    "# append,clear,copy,count,extend,index,insert,pop,remove,reverse,sort\n",
    "'''\n",
    "append: To add the data records inside the existing list but one at time.\n",
    "Clear: To remove all the data records from the list.\n",
    "Copy: To copy all the data records from one list to another.\n",
    "count: It will give total number of data records.\n",
    "extend: To add more than one value at a time inside the list.\n",
    "index: It will give the index value for the data records.\n",
    "insert: It will add the data record one at a time at a specific.\n",
    "pop: Pop will remove the index positioned value.\n",
    "remove: Remove method will remove the data records passed inside it.\n",
    "reverse: It will reverse the list.\n",
    "sort: It will sort the list on the basis on increasing order or decreasing order.\n",
    "'''\n",
    "\n",
    "# Append method:\n",
    "list_records=[101,\"Rohit\",\"ML\",20000]\n",
    "print(list_records)\n",
    "designation=\"ENG\"\n",
    "list_records.append(designation)\n",
    "print(list_records) # By default the value will be added at the last index position."
   ]
  },
  {
   "cell_type": "code",
   "execution_count": 47,
   "id": "9459cfcc",
   "metadata": {},
   "outputs": [
    {
     "name": "stdout",
     "output_type": "stream",
     "text": [
      "[]\n"
     ]
    }
   ],
   "source": [
    "# Clear method:\n",
    "list_records=[101,\"Rohit\",\"ML\",20000]\n",
    "list_records.clear()\n",
    "print(list_records)"
   ]
  },
  {
   "cell_type": "code",
   "execution_count": 49,
   "id": "bdcf3d84",
   "metadata": {},
   "outputs": [
    {
     "name": "stdout",
     "output_type": "stream",
     "text": [
      "[101, 'Rohit', 'ML', 20000]\n",
      "[101, 'Rohit', 'ML', 20000]\n"
     ]
    }
   ],
   "source": [
    "# copy method:To copy all the data records from one list to another.\n",
    "emp_list=[]\n",
    "list_records=[101,\"Rohit\",\"ML\",20000]\n",
    "emp_list=list_records.copy()\n",
    "print(list_records)\n",
    "print(emp_list)"
   ]
  },
  {
   "cell_type": "code",
   "execution_count": 55,
   "id": "ff31b7a0",
   "metadata": {},
   "outputs": [
    {
     "name": "stdout",
     "output_type": "stream",
     "text": [
      "3\n"
     ]
    }
   ],
   "source": [
    "# count: It will give total number of data records which is passed inside the parameter.\n",
    "list_records=[101,\"Rohit\",\"ML\",20000,101,\"Rohit\",\"Rohit\"]\n",
    "print(list_records.count(\"Rohit\")) # It will give total number of appearnce of rohit inside the list"
   ]
  },
  {
   "cell_type": "code",
   "execution_count": 59,
   "id": "c7556675",
   "metadata": {},
   "outputs": [
    {
     "name": "stdout",
     "output_type": "stream",
     "text": [
      "[101, 'Rohit', 'ML', 20000, 101, 'Rohit', 'Rohit', 'Mahesh', 'Sumit', 'Rohit']\n"
     ]
    }
   ],
   "source": [
    "# extend: To add more than one value at a time inside the list.\n",
    "list_records=[101,\"Rohit\",\"ML\",20000,101,\"Rohit\",\"Rohit\"]\n",
    "name1=\"Mahesh\"\n",
    "name2=\"Sumit\"\n",
    "name3=\"Rohit\"\n",
    "list_records.extend([name1,name2,name3]) # make sure to pass all the records inside the square bracket\n",
    "print(list_records)"
   ]
  },
  {
   "cell_type": "code",
   "execution_count": 61,
   "id": "6f097ea6",
   "metadata": {},
   "outputs": [
    {
     "name": "stdout",
     "output_type": "stream",
     "text": [
      "1\n"
     ]
    }
   ],
   "source": [
    "# index: It will give the index value for the data records.\n",
    "list_records=[\"Ml\",\"Sumit\",101,105]\n",
    "print(list_records.index(\"Sumit\"))"
   ]
  },
  {
   "cell_type": "code",
   "execution_count": 64,
   "id": "37ef4762",
   "metadata": {},
   "outputs": [
    {
     "name": "stdout",
     "output_type": "stream",
     "text": [
      "['Ml', 'Sumit', 101, 'Rohit', 105]\n"
     ]
    }
   ],
   "source": [
    "# insert: It will add the data record one at a time at a specific.\n",
    "list_records=[\"Ml\",\"Sumit\",101,105]\n",
    "list_records.insert(-1,\"Rohit\") # here -1 is the index position and rohit is the value\n",
    "print(list_records)"
   ]
  },
  {
   "cell_type": "code",
   "execution_count": 65,
   "id": "37bbe105",
   "metadata": {},
   "outputs": [
    {
     "name": "stdout",
     "output_type": "stream",
     "text": [
      "['Ml', 101, 105]\n"
     ]
    }
   ],
   "source": [
    "# pop: Pop will remove the index positioned value.\n",
    "list_records=[\"Ml\",\"Sumit\",101,105]\n",
    "list_records.pop(1) # here 1 is the index position which is getting removed from the pop function\n",
    "print(list_records)"
   ]
  },
  {
   "cell_type": "code",
   "execution_count": 67,
   "id": "b6bf1ae8",
   "metadata": {},
   "outputs": [
    {
     "name": "stdout",
     "output_type": "stream",
     "text": [
      "['Ml', 101, 105, 'Sumit', 'Sumit']\n"
     ]
    }
   ],
   "source": [
    "# remove: Remove method will remove the data records passed inside it.\n",
    "list_records=[\"Ml\",\"Sumit\",101,105,\"Sumit\",\"Sumit\"]\n",
    "list_records.remove(\"Sumit\") # here sumit is the data records which is removed from the list.\n",
    "print(list_records)"
   ]
  },
  {
   "cell_type": "code",
   "execution_count": 69,
   "id": "32e18d11",
   "metadata": {},
   "outputs": [
    {
     "name": "stdout",
     "output_type": "stream",
     "text": [
      "[105, 101, 'Sumit', 'Ml']\n",
      "[105, 101, 'Sumit', 'Ml']\n"
     ]
    }
   ],
   "source": [
    "# reverse: It will reverse the list.\n",
    "list_records=[\"Ml\",\"Sumit\",101,105]\n",
    "print(list_records[-1::-1])\n",
    "list_records.reverse()\n",
    "print(list_records)"
   ]
  },
  {
   "cell_type": "code",
   "execution_count": 71,
   "id": "569d6830",
   "metadata": {},
   "outputs": [
    {
     "name": "stdout",
     "output_type": "stream",
     "text": [
      "[101, 102, 103, 104, 105, 108, 110]\n",
      "[110, 108, 105, 104, 103, 102, 101]\n"
     ]
    }
   ],
   "source": [
    "# sort: It will sort the list on the basis on increasing order or decreasing order.\n",
    "list_records=[101,108,102,103,110,104,105]\n",
    "list_records.sort()# it returns the output in ascending order\n",
    "print(list_records)\n",
    "\n",
    "# Sort the list in descending order\n",
    "list_records=[101,108,102,103,110,104,105]\n",
    "list_records.sort(reverse=True)# it returns the output in descending order\n",
    "print(list_records)"
   ]
  },
  {
   "cell_type": "code",
   "execution_count": 73,
   "id": "7d58f94a",
   "metadata": {},
   "outputs": [
    {
     "name": "stdout",
     "output_type": "stream",
     "text": [
      "['a', 'b', 'd']\n"
     ]
    }
   ],
   "source": [
    "'''\n",
    "When we have similar data type element inside the list then only sort function will work. If there are string values then \n",
    "output of sort function be in alphabetical order. If its holds integer/float values then sort will work on \n",
    "ascending/descending order.\n",
    "'''\n",
    "list_records=[\"a\",\"d\",\"b\"]\n",
    "list_records.sort() # Never use sort function when we have string values inside the list. It will always throw error.\n",
    "print(list_records)"
   ]
  },
  {
   "cell_type": "code",
   "execution_count": null,
   "id": "7346b5da",
   "metadata": {},
   "outputs": [],
   "source": []
  }
 ],
 "metadata": {
  "kernelspec": {
   "display_name": "Python 3 (ipykernel)",
   "language": "python",
   "name": "python3"
  },
  "language_info": {
   "codemirror_mode": {
    "name": "ipython",
    "version": 3
   },
   "file_extension": ".py",
   "mimetype": "text/x-python",
   "name": "python",
   "nbconvert_exporter": "python",
   "pygments_lexer": "ipython3",
   "version": "3.11.5"
  }
 },
 "nbformat": 4,
 "nbformat_minor": 5
}
