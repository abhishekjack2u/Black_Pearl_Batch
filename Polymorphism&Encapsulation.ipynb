{
  "nbformat": 4,
  "nbformat_minor": 0,
  "metadata": {
    "colab": {
      "provenance": []
    },
    "kernelspec": {
      "name": "python3",
      "display_name": "Python 3"
    },
    "language_info": {
      "name": "python"
    }
  },
  "cells": [
    {
      "cell_type": "code",
      "execution_count": null,
      "metadata": {
        "id": "lT0nyNFEu44j"
      },
      "outputs": [],
      "source": [
        "# Polymorphism:-\n",
        "'''\n",
        "Polymorphism is an oops concept which gives us the freedom to use different class with same functionality. So, it means the class name\n",
        "will be different and the method name will be same.\n",
        "'''"
      ]
    },
    {
      "cell_type": "code",
      "source": [
        "class Australia():\n",
        "  def find_capital(self):\n",
        "    return \"The capital of Australia is xyz\"\n",
        "  def find_position(self):\n",
        "    return \"It is a developing country\"\n",
        "  def find_curreny(self):\n",
        "    return \"It accepts Australian dollar\"\n",
        "\n",
        "class USA():\n",
        "  def find_capital(self):\n",
        "    return \"The capital of USA is PQR\"\n",
        "  def find_position(self):\n",
        "    return \"It is a developed country.\"\n",
        "  def find_curreny(self):\n",
        "    return \"It accepts USA dollar\"\n",
        "\n",
        "obj_aus= Australia()\n",
        "obj_usa= USA()\n",
        "for method in (obj_aus,obj_usa):\n",
        "  print(method.find_capital())\n",
        "\n",
        "  print(method.find_position())\n",
        "\n",
        "  print(method.find_curreny())\n",
        "  print(\"\\n\\n\")"
      ],
      "metadata": {
        "colab": {
          "base_uri": "https://localhost:8080/"
        },
        "id": "gfndjOIxwwRA",
        "outputId": "2d38284c-e1eb-47e8-94d3-75568b617f9a"
      },
      "execution_count": 15,
      "outputs": [
        {
          "output_type": "stream",
          "name": "stdout",
          "text": [
            "The capital of Australia is xyz\n",
            "It is a developing country\n",
            "It accepts Australian dollar\n",
            "\n",
            "\n",
            "\n",
            "The capital of USA is PQR\n",
            "It is a developed country.\n",
            "It accepts USA dollar\n",
            "\n",
            "\n",
            "\n"
          ]
        }
      ]
    },
    {
      "cell_type": "code",
      "source": [
        "print(\"hello\"+\"\\n\"+\"hi\")"
      ],
      "metadata": {
        "colab": {
          "base_uri": "https://localhost:8080/"
        },
        "id": "5yxBrZsc-Doy",
        "outputId": "957afdc0-c589-425a-b7f6-da1873fbf38f"
      },
      "execution_count": 20,
      "outputs": [
        {
          "output_type": "stream",
          "name": "stdout",
          "text": [
            "hello\n",
            "hi\n"
          ]
        }
      ]
    },
    {
      "cell_type": "code",
      "source": [],
      "metadata": {
        "colab": {
          "base_uri": "https://localhost:8080/"
        },
        "id": "UlRJJq5IyBQw",
        "outputId": "c480d5f7-6b48-4bff-e179-6e72d324a2aa"
      },
      "execution_count": 9,
      "outputs": [
        {
          "output_type": "stream",
          "name": "stdout",
          "text": [
            "The capital of Australia is xyz\n",
            "It is a developing country\n",
            "It accepts Australian dollar\n",
            "\n",
            "\n",
            "\n",
            "The capital of USA is PQR\n",
            "It is a developed country.\n",
            "It accepts USA dollar\n",
            "\n",
            "\n",
            "\n"
          ]
        }
      ]
    },
    {
      "cell_type": "code",
      "source": [
        "class Australia():\n",
        "  def find_capital(self):\n",
        "    return \"The capital of Australia is xyz\"\n",
        "  def find_position(self):\n",
        "    return \"It is a developing country\"\n",
        "  def find_curreny(self):\n",
        "    return \"It accepts Australian dollar\"\n",
        "\n",
        "class USA():\n",
        "  def find_capital(self):\n",
        "    return \"The capital of USA is PQR\"\n",
        "  def find_position(self):\n",
        "    return \"It is a developed country.\"\n",
        "  def find_curreny(self):\n",
        "    return \"It accepts USA dollar\"\n",
        "\n",
        "obj_aus= Australia()\n",
        "obj_usa= USA()\n",
        "\n",
        "def func_countries(obj):\n",
        "  print(obj.find_capital())\n",
        "  print(obj.find_position())\n",
        "  print(obj.find_curreny())\n",
        "\n",
        "func_countries(obj_aus)\n",
        "\n",
        "func_countries(obj_usa)\n"
      ],
      "metadata": {
        "colab": {
          "base_uri": "https://localhost:8080/"
        },
        "id": "XfiubEU3yVeX",
        "outputId": "21b8e4a3-6726-4b07-8d59-f3cc22132aac"
      },
      "execution_count": 14,
      "outputs": [
        {
          "output_type": "stream",
          "name": "stdout",
          "text": [
            "The capital of Australia is xyz\n",
            "It is a developing country\n",
            "It accepts Australian dollar\n",
            "The capital of USA is PQR\n",
            "It is a developed country.\n",
            "It accepts USA dollar\n"
          ]
        }
      ]
    },
    {
      "cell_type": "code",
      "source": [
        "#inheritance with polymorphism\n",
        "class animal():\n",
        "  def speak(self):\n",
        "    return \"Give specifically the animal name\"\n",
        "class dog(animal):\n",
        "  def speak(self):\n",
        "    return \"Dog will bark\"\n",
        "class cat(animal):\n",
        "  def speak(self):\n",
        "    return \"Cat will Meow\"\n",
        "obj_animal=[dog(),cat()]\n",
        "for val in obj_animal:\n",
        "  print(val.speak())"
      ],
      "metadata": {
        "colab": {
          "base_uri": "https://localhost:8080/"
        },
        "id": "syNxRxAF5z6s",
        "outputId": "0dd78af3-07ec-4980-9c69-4e158bbcda04"
      },
      "execution_count": 21,
      "outputs": [
        {
          "output_type": "stream",
          "name": "stdout",
          "text": [
            "Dog will bark\n",
            "Cat will Meow\n"
          ]
        }
      ]
    },
    {
      "cell_type": "code",
      "source": [
        "#Tiger>>>>>>>>>>>>>>>>>>>>DOG"
      ],
      "metadata": {
        "id": "a7ssF2fUBSAW"
      },
      "execution_count": null,
      "outputs": []
    },
    {
      "cell_type": "code",
      "source": [
        "#inheritance with polymorphism\n",
        "class animal():\n",
        "  def __init__(self,name):\n",
        "    self.name=name\n",
        "  def speak(self):\n",
        "    return \"Give specifically the animal name\"\n",
        "class dog(animal):\n",
        "  def __init__(self,name):\n",
        "    super().__init__(name)\n",
        "  def speak(self):\n",
        "    return f\"{self.name} will bark\"\n",
        "class cat(animal):\n",
        "  def speak(self):\n",
        "    return \"Cat will Meow\"\n",
        "obj_animal=animal(\"Tommy\")"
      ],
      "metadata": {
        "id": "75hlNU0iAMsc"
      },
      "execution_count": 30,
      "outputs": []
    },
    {
      "cell_type": "code",
      "source": [
        "obj_dog=dog(\"Tommy\")"
      ],
      "metadata": {
        "id": "fctIpNzQCNab"
      },
      "execution_count": 31,
      "outputs": []
    },
    {
      "cell_type": "code",
      "source": [
        "obj_dog.speak()"
      ],
      "metadata": {
        "colab": {
          "base_uri": "https://localhost:8080/",
          "height": 36
        },
        "id": "YfnlY4pmCZA5",
        "outputId": "b27f74fc-a8ca-4215-ad00-bf046f68f228"
      },
      "execution_count": 32,
      "outputs": [
        {
          "output_type": "execute_result",
          "data": {
            "text/plain": [
              "'Tommy will bark'"
            ],
            "application/vnd.google.colaboratory.intrinsic+json": {
              "type": "string"
            }
          },
          "metadata": {},
          "execution_count": 32
        }
      ]
    },
    {
      "cell_type": "code",
      "source": [],
      "metadata": {
        "id": "TBOIYwgXCl7Q"
      },
      "execution_count": null,
      "outputs": []
    }
  ]
}