{
 "cells": [
  {
   "cell_type": "markdown",
   "id": "bd9989e1",
   "metadata": {},
   "source": [
    "Files:\n",
    "\n",
    "Files are named location on the hard disk of the computer system to store the related information.\n",
    " \n",
    "Operations on the files using python:\n",
    "\n",
    "> Open a file/(create a file)\n",
    "\n",
    "> Read the content from the file.\n",
    "\n",
    "> Write the content in the file.\n",
    "\n",
    "> Close the file\n",
    "\n",
    "There are two types of files:\n",
    "\n",
    "> Binary file\n",
    "\n",
    "> Text file\n",
    "\n",
    "Examples of files:\n",
    "\n",
    "1. Document files:\n",
    "\n",
    ".pdf,.doc,.xls,.csv,.txt,.xlsx,etc\n",
    "\n",
    "2. Image files:\n",
    "\n",
    ".png,.jpg,.gif,.bmp,etc\n",
    "\n",
    "3. Video files\n",
    "\n",
    ".mp4,.3gp,.mkv,.avi,etc\n",
    "\n",
    "4. Audio files\n",
    "\n",
    ".mp3,.wav,.mka,.aac,etc\n",
    "\n",
    "5. Database files\n",
    "\n",
    ".mdb,.accde,.frm,.sqlite,.sql,etc\n",
    "\n",
    "6. Archive Files\n",
    "\n",
    ".zip,.rar,.iso,.7z,etc\n",
    "\n",
    "7. Executable files\n",
    "\n",
    ".exe,.dll,.class,etc"
   ]
  },
  {
   "cell_type": "code",
   "execution_count": null,
   "id": "a0fbccf6",
   "metadata": {},
   "outputs": [],
   "source": [
    "# How to create or open a new file in python:\n",
    "'''\n",
    "We have open() method to create or open a file. Open method will accept access mode as a parameter,\n",
    "second parameter is buffering.\n",
    "'''\n",
    "'''\n",
    "Different types of access given to the file while using open method:-\n",
    "\n",
    "1. Reading mode (It helps to read the file from the begining.)\n",
    "\n",
    "It can be defined using 'r' or 'rb'. open(filename,'rb')\n",
    "\n",
    "2. Writing mode (It helps to write the data inside the file)\n",
    "\n",
    "It can be defined using 'w' or 'wb'. open(filename,'wb')\n",
    "\n",
    "3. Append mode (It help you to insert the data records on a paraticular index of the file.)\n",
    "\n",
    "It can be defined using 'a'. open(filename,'a')\n",
    "'''\n",
    "\n",
    "\n",
    "'''\n",
    "Few notations while opening a file:\n",
    "r:- read mode\n",
    "w:- write mode\n",
    "a:- append mode\n",
    "r+:- read or write mode\n",
    "a+:- append or read mode\n",
    "rb:- read binary mode\n",
    "wb:- write binary\n",
    "'''"
   ]
  },
  {
   "cell_type": "code",
   "execution_count": 9,
   "id": "d95098ba",
   "metadata": {},
   "outputs": [],
   "source": [
    "# Create a file:\n",
    "file=open(r\"C:\\Users\\amanp\\OneDrive\\Desktop\\dummy_data.txt\",'r')"
   ]
  },
  {
   "cell_type": "code",
   "execution_count": 8,
   "id": "461f3395",
   "metadata": {},
   "outputs": [
    {
     "name": "stdout",
     "output_type": "stream",
     "text": [
      "Welcome to my python session!\n"
     ]
    }
   ],
   "source": [
    "# read the file\n",
    "data=file.read()\n",
    "# to close the file\n",
    "file.close()\n",
    "print(data)"
   ]
  },
  {
   "cell_type": "code",
   "execution_count": 12,
   "id": "a1a1d643",
   "metadata": {},
   "outputs": [],
   "source": [
    "# Create a file:\n",
    "file=open(r\"C:\\Users\\amanp\\OneDrive\\Desktop\\dummy_data.txt\",'w')\n",
    "# write data inside the file\n",
    "file.write(\"File handling session\")\n",
    "# to close the file\n",
    "file.close()"
   ]
  },
  {
   "cell_type": "markdown",
   "id": "c54cceb0",
   "metadata": {},
   "source": [
    "# Buffering:\n",
    "\n",
    "Buffering is the phenomena of storing the chunk of a file in a temporary memory until the file loads completely.\n",
    "Inp python there are different values given during buffering. If the buffering is set to 0 that means buffering is off. If the buffering is set to 1 then we need to buffer the file."
   ]
  },
  {
   "cell_type": "code",
   "execution_count": 16,
   "id": "e4bdbf48",
   "metadata": {},
   "outputs": [
    {
     "name": "stdout",
     "output_type": "stream",
     "text": [
      "File handling session\n"
     ]
    }
   ],
   "source": [
    "# Buffering example (always set buffering=1)\n",
    "file=open(r\"C:\\Users\\amanp\\OneDrive\\Desktop\\dummy_data.txt\",'r',buffering=1)\n",
    "data=file.read()\n",
    "file.close()\n",
    "print(data)"
   ]
  },
  {
   "cell_type": "code",
   "execution_count": 17,
   "id": "67aa0446",
   "metadata": {},
   "outputs": [
    {
     "name": "stdout",
     "output_type": "stream",
     "text": [
      "I am Abhishek.\n",
      "I am Data Science Instructor.\n",
      "I have 5+ years of experience.\n",
      "I am working with Data Is Good.\n",
      "This is my python session.\n"
     ]
    }
   ],
   "source": [
    "# Reading multiples line of a text file in python.\n",
    "file=open(r\"C:\\Users\\amanp\\OneDrive\\Desktop\\data1.txt\",'r',buffering=1)\n",
    "data=file.read()\n",
    "file.close()\n",
    "print(data)"
   ]
  },
  {
   "cell_type": "code",
   "execution_count": 36,
   "id": "5eccf2a2",
   "metadata": {},
   "outputs": [
    {
     "name": "stdout",
     "output_type": "stream",
     "text": [
      "I am Abhishek.\n"
     ]
    }
   ],
   "source": [
    "# Read a specific slice from the text file.\n",
    "file=open(r\"C:\\Users\\amanp\\OneDrive\\Desktop\\data1.txt\",'r',buffering=1)\n",
    "data=file.read(14) # The value inside the paraenthesis gives till what index we want to read\n",
    "file.close() # here 14 is bytes\n",
    "print(data)"
   ]
  },
  {
   "cell_type": "code",
   "execution_count": 42,
   "id": "72ac94a0",
   "metadata": {},
   "outputs": [
    {
     "name": "stdout",
     "output_type": "stream",
     "text": [
      "This is my python session.\n"
     ]
    }
   ],
   "source": [
    "# Read a specific line from the text file.\n",
    "file=open(r\"C:\\Users\\amanp\\OneDrive\\Desktop\\data1.txt\",'r',buffering=1)\n",
    "data=file.readlines()[4] # readlines returns the output in the form of list.\n",
    "file.close()\n",
    "print(data)"
   ]
  },
  {
   "cell_type": "code",
   "execution_count": 44,
   "id": "90bf292e",
   "metadata": {},
   "outputs": [],
   "source": [
    "# Write multiple lines inside the file.\n",
    "file=open(r\"C:\\Users\\amanp\\OneDrive\\Desktop\\data1.txt\",'w',buffering=1)\n",
    "list_of_records=[\"Hello world!\\n\",\"Welcome world\\n\",\"Python Session\\n\",\"Data Science\\n\"]\n",
    "file.writelines(list_of_records)\n",
    "file.close()"
   ]
  },
  {
   "cell_type": "code",
   "execution_count": 48,
   "id": "ef41a14d",
   "metadata": {},
   "outputs": [
    {
     "name": "stdout",
     "output_type": "stream",
     "text": [
      "Hello, Welcome to the python session.\n",
      "I am Abhishek I will be taking your session.\n",
      "\n"
     ]
    }
   ],
   "source": [
    "# Write the data in the existing file keeping the previous records.\n",
    "file=open(r\"C:\\Users\\amanp\\OneDrive\\Desktop\\data1.txt\",'r',buffering=1)\n",
    "data=file.read()\n",
    "file.close()\n",
    "print(data)"
   ]
  },
  {
   "cell_type": "code",
   "execution_count": 49,
   "id": "9bfa0706",
   "metadata": {},
   "outputs": [],
   "source": [
    "file=open(r\"C:\\Users\\amanp\\OneDrive\\Desktop\\data1.txt\",'a',buffering=1)\n",
    "file.write(\"It is 12 months course.\")\n",
    "file.close()"
   ]
  },
  {
   "cell_type": "code",
   "execution_count": 51,
   "id": "e9760074",
   "metadata": {},
   "outputs": [],
   "source": [
    "# Write multiple lines by keeping the previous records.\n",
    "list_of_records=[\"\\nApple\\n\",\"Banana\\n\",\"Kiwi\\n\",\"Guava\"]\n",
    "file=open(r\"C:\\Users\\amanp\\OneDrive\\Desktop\\data1.txt\",'a',buffering=1)\n",
    "file.writelines(list_of_records)\n",
    "file.close()"
   ]
  },
  {
   "cell_type": "code",
   "execution_count": null,
   "id": "b83386e7",
   "metadata": {},
   "outputs": [],
   "source": []
  }
 ],
 "metadata": {
  "kernelspec": {
   "display_name": "Python 3 (ipykernel)",
   "language": "python",
   "name": "python3"
  },
  "language_info": {
   "codemirror_mode": {
    "name": "ipython",
    "version": 3
   },
   "file_extension": ".py",
   "mimetype": "text/x-python",
   "name": "python",
   "nbconvert_exporter": "python",
   "pygments_lexer": "ipython3",
   "version": "3.11.5"
  }
 },
 "nbformat": 4,
 "nbformat_minor": 5
}
