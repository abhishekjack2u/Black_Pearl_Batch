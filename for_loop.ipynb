{
 "cells": [
  {
   "cell_type": "markdown",
   "id": "7ea6a05d",
   "metadata": {},
   "source": [
    "# Control flow Statement\n",
    "## For loop using list"
   ]
  },
  {
   "cell_type": "code",
   "execution_count": 8,
   "id": "72c4935a",
   "metadata": {},
   "outputs": [
    {
     "name": "stdout",
     "output_type": "stream",
     "text": [
      "Apple\n",
      "10\n",
      "20\n",
      "Banana\n",
      "100.12\n"
     ]
    }
   ],
   "source": [
    "list_data=[\"Apple\",10,20,\"Banana\",100.12]\n",
    "for val in list_data: \n",
    "    print(val)"
   ]
  },
  {
   "cell_type": "code",
   "execution_count": 9,
   "id": "b3edb07d",
   "metadata": {},
   "outputs": [
    {
     "name": "stdout",
     "output_type": "stream",
     "text": [
      "Apple\n",
      "10\n",
      "20\n",
      "Banana\n",
      "100.12\n"
     ]
    }
   ],
   "source": [
    "list_data=[\"Apple\",10,20,\"Banana\",100.12]\n",
    "for val in list_data: print(val)"
   ]
  },
  {
   "cell_type": "code",
   "execution_count": 11,
   "id": "ca8ffdbe",
   "metadata": {},
   "outputs": [
    {
     "name": "stdout",
     "output_type": "stream",
     "text": [
      "Apple\n",
      "1\n",
      "2\n",
      "3\n"
     ]
    }
   ],
   "source": [
    "# Difference between break and continue statement\n",
    "'''\n",
    "Break statement is used to terminate the loop but continue statement will keep on exceuting the loop\n",
    "'''\n",
    "list_data=[\"Apple\",10,20,\"Banana\",100.12]\n",
    "list_data1=[1,2,3]\n",
    "for val in list_data: # This for loop will terminate after printing the first index value\n",
    "    print(val)\n",
    "    break\n",
    "for val in list_data1: # This loop will keep on running till the last index value of the list.\n",
    "    print(val)\n",
    "    continue"
   ]
  },
  {
   "cell_type": "code",
   "execution_count": 14,
   "id": "cd3e86a6",
   "metadata": {},
   "outputs": [
    {
     "name": "stdout",
     "output_type": "stream",
     "text": [
      "200\n",
      "300\n",
      "100\n",
      "200\n",
      "300\n",
      "Guava\n"
     ]
    }
   ],
   "source": [
    "# For loop with the sets:\n",
    "sets_data={\"Guava\",100}\n",
    "list_data=[200,300]\n",
    "for val in sets_data:\n",
    "    for data in list_data:\n",
    "        print(data)\n",
    "    print(val)"
   ]
  },
  {
   "cell_type": "code",
   "execution_count": 17,
   "id": "e8ee5890",
   "metadata": {},
   "outputs": [
    {
     "name": "stdout",
     "output_type": "stream",
     "text": [
      "[1, 2, 3, 4, 5, 6, 7, 8, 9]\n"
     ]
    }
   ],
   "source": [
    "# List1 data\n",
    "list1=[1,2,3,4,5,6]\n",
    "sets_data={7,8,9}\n",
    "# Output print(list1)>>>>>>>>>>>>>>>>>>>[1,2,3,4,5,6,7,8,9]\n",
    "for val in sets_data:\n",
    "    list1.append(val)\n",
    "list1.sort()\n",
    "print(list1)"
   ]
  },
  {
   "cell_type": "code",
   "execution_count": 18,
   "id": "fc1d3c16",
   "metadata": {},
   "outputs": [
    {
     "name": "stdout",
     "output_type": "stream",
     "text": [
      "[9, 8, 7, 6, 5, 4, 3, 2, 1]\n"
     ]
    }
   ],
   "source": [
    "# List1 data\n",
    "list1=[1,2,3,4,5,6]\n",
    "sets_data={7,8,9}\n",
    "# Output print(list1)>>>>>>>>>>>>>>>>>>>[9,8,7,6,5,4,3,2,1]\n",
    "for val in sets_data:\n",
    "    list1.append(val)\n",
    "list1.sort()\n",
    "list1=list1[-1::-1]\n",
    "print(list1)"
   ]
  },
  {
   "cell_type": "code",
   "execution_count": 19,
   "id": "37de4b25",
   "metadata": {},
   "outputs": [
    {
     "name": "stdout",
     "output_type": "stream",
     "text": [
      "[9, 8, 7, 6, 5, 4, 3, 2, 1]\n"
     ]
    }
   ],
   "source": [
    "# List1 data\n",
    "list1=[1,2,3,4,5,6]\n",
    "sets_data={7,8,9}\n",
    "# Output print(list1)>>>>>>>>>>>>>>>>>>>[9,8,7,6,5,4,3,2,1]\n",
    "for val in sets_data:\n",
    "    list1.append(val)\n",
    "list1.sort(reverse=True)\n",
    "print(list1)"
   ]
  },
  {
   "cell_type": "code",
   "execution_count": 32,
   "id": "f86a308a",
   "metadata": {},
   "outputs": [
    {
     "name": "stdout",
     "output_type": "stream",
     "text": [
      "{'Kiwi', 'Banana', 'Guava', 'Apple', 'Mango'}\n"
     ]
    }
   ],
   "source": [
    "'''\n",
    "list_data=[\"Apple\",\"Banana\",100,\"Guava\"]\n",
    "sets_data={\"Mango\",\"Kiwi\"}\n",
    "\n",
    "Output should be sets_data={\"Apple\",\"Banana\",\"Guava\",\"Mango\",\"Kiwi\"}\n",
    "'''\n",
    "list_data=[\"Apple\",\"Banana\",100,\"Guava\"]\n",
    "sets_data={\"Mango\",\"Kiwi\"}\n",
    "for val in list_data:\n",
    "    if type(val)==str:\n",
    "        sets_data.add(val)\n",
    "    else:\n",
    "        pass\n",
    "print(sets_data)"
   ]
  },
  {
   "cell_type": "code",
   "execution_count": 35,
   "id": "4c8d0fdb",
   "metadata": {},
   "outputs": [
    {
     "name": "stdout",
     "output_type": "stream",
     "text": [
      "[20, 25, 30, 10.12, 'Apple']\n"
     ]
    }
   ],
   "source": [
    "'''\n",
    "list_data1=[10,10.12,\"Apple\",10,10,10]\n",
    "list_data2=[20,25,30]\n",
    "output>>>>>>>>>>>>> list_data2 [20,25,30,10.12,\"Apple\"]\n",
    "'''\n",
    "list_data1=[10,10.12,\"Apple\",10,10,10]\n",
    "list_data2=[20,25,30]\n",
    "for val in list_data1:\n",
    "    if type(val)==float or type(val)==str:\n",
    "        list_data2.append(val)\n",
    "    else:\n",
    "        pass\n",
    "print(list_data2)"
   ]
  },
  {
   "cell_type": "code",
   "execution_count": 36,
   "id": "8372268c",
   "metadata": {},
   "outputs": [
    {
     "name": "stdout",
     "output_type": "stream",
     "text": [
      "[20, 25, 30, 10.12, 'Apple']\n"
     ]
    }
   ],
   "source": [
    "# Another way\n",
    "list_data1=[10,10.12,\"Apple\",10,10,10]\n",
    "list_data2=[20,25,30]\n",
    "for val in list_data1:\n",
    "    if type(val)==int:\n",
    "        pass\n",
    "    else:\n",
    "        list_data2.append(val)\n",
    "print(list_data2)"
   ]
  },
  {
   "cell_type": "code",
   "execution_count": 39,
   "id": "8336f7e0",
   "metadata": {},
   "outputs": [
    {
     "name": "stdout",
     "output_type": "stream",
     "text": [
      "The Keys are:-\n",
      "101\n",
      "102\n",
      "103\n",
      "The Keys are:-\n",
      "101\n",
      "102\n",
      "103\n",
      "The Values are:-\n",
      "Apple\n",
      "Banana\n",
      "Guava\n"
     ]
    }
   ],
   "source": [
    "# For loop with the dictionary:\n",
    "'''\n",
    "Properties:\n",
    "The key should not be duplicate the value can be duplicate\n",
    "'''\n",
    "dict_data={101:\"Apple\",102:\"Banana\",103:\"Guava\"}\n",
    "'''\n",
    "Whenever we are running the loop over the dictionary we will be extracting the keys for each iteration.\n",
    "'''\n",
    "print(\"The Keys are:-\")\n",
    "for val in dict_data:# extract the keys\n",
    "    print(val)\n",
    "#Another way to extract the keys\n",
    "print(\"The Keys are:-\")\n",
    "for val in dict_data.keys():\n",
    "    print(val)\n",
    "print(\"The Values are:-\")\n",
    "for val in dict_data.values(): #extract the values\n",
    "    print(val)"
   ]
  },
  {
   "cell_type": "code",
   "execution_count": 41,
   "id": "0ab554f6",
   "metadata": {},
   "outputs": [
    {
     "name": "stdout",
     "output_type": "stream",
     "text": [
      "The value of key is 101 and the value of value is Apple\n",
      "The value of key is 102 and the value of value is Banana\n",
      "The value of key is 103 and the value of value is Guava\n"
     ]
    }
   ],
   "source": [
    "# How to extract both the keys and values at the same time?\n",
    "dict_data={101:\"Apple\",102:\"Banana\",103:\"Guava\"}\n",
    "for keys,val in dict_data.items():\n",
    "    print(f\"The value of key is {keys} and the value of value is {val}\")"
   ]
  },
  {
   "cell_type": "code",
   "execution_count": 48,
   "id": "cdf4004b",
   "metadata": {},
   "outputs": [
    {
     "name": "stdout",
     "output_type": "stream",
     "text": [
      "The keys is 101 for the value Apple\n",
      "The key for the banana value is 102\n",
      "The keys is 103 for the value Guava\n"
     ]
    }
   ],
   "source": [
    "dict_data={101:\"Apple\",102:\"Banana\",103:\"Guava\"}\n",
    "for keys,val in dict_data.items():\n",
    "    if keys==101 or keys==103:\n",
    "        print(f\"The keys is {keys} for the value {val}\")\n",
    "    elif val==\"Banana\":\n",
    "        print(f\"The key for the banana value is {keys}\")\n",
    "    else:\n",
    "        pass"
   ]
  },
  {
   "cell_type": "code",
   "execution_count": 45,
   "id": "1839b4cc",
   "metadata": {},
   "outputs": [
    {
     "name": "stdout",
     "output_type": "stream",
     "text": [
      "The value is 10\n"
     ]
    }
   ],
   "source": [
    "a=10\n",
    "print(f\"The value is {a}\") # here f represents the format string.\n",
    "'''\n",
    "Format string is used to pass the variable inside the string.\n",
    "'''"
   ]
  },
  {
   "cell_type": "code",
   "execution_count": 47,
   "id": "6038ba7f",
   "metadata": {},
   "outputs": [
    {
     "name": "stdout",
     "output_type": "stream",
     "text": [
      "My name is Abhishek\n"
     ]
    }
   ],
   "source": [
    "name=\"Abhishek\"\n",
    "print(f\"My name is {name}\")"
   ]
  },
  {
   "cell_type": "code",
   "execution_count": 49,
   "id": "1a825f51",
   "metadata": {},
   "outputs": [
    {
     "name": "stdout",
     "output_type": "stream",
     "text": [
      "{'Apple': 101, 'Banana': 102, 'Guava': 103}\n"
     ]
    }
   ],
   "source": [
    "# Task\n",
    "dict_data={101:\"Apple\",102:\"Banana\",103:\"Guava\"}\n",
    "# output {\"Apple\":101,\"Banana\":102,\"Guava\":103}\n",
    "empty_dict=dict()\n",
    "for key,val in dict_data.items():\n",
    "    empty_dict.update({val:key})\n",
    "print(empty_dict)"
   ]
  },
  {
   "cell_type": "code",
   "execution_count": 51,
   "id": "51267138",
   "metadata": {},
   "outputs": [
    {
     "name": "stdout",
     "output_type": "stream",
     "text": [
      "{101: 'Apple', 102: 'Banana', 103: 'Guava'}\n"
     ]
    }
   ],
   "source": [
    "list_data1=[101,102,103]\n",
    "list_data2=[\"Apple\",\"Banana\",\"Guava\"]\n",
    "#Output>>>>>>. {101:\"Apple\",102:\"Banana\",103:\"Guava\"}\n",
    "empty_dict=dict()\n",
    "for keys in list_data1:\n",
    "    for val in list_data2:\n",
    "        if keys==101 and val==\"Apple\":\n",
    "            empty_dict.update({keys:val})\n",
    "        elif keys==102 and val==\"Banana\":\n",
    "            empty_dict.update({keys:val})\n",
    "        elif keys==103 and val==\"Guava\":\n",
    "            empty_dict.update({keys:val})\n",
    "        else:\n",
    "            pass\n",
    "print(empty_dict)"
   ]
  },
  {
   "cell_type": "code",
   "execution_count": null,
   "id": "4f3d1b1c",
   "metadata": {},
   "outputs": [],
   "source": [
    "# Enumerate, ZIP, While Loop"
   ]
  },
  {
   "cell_type": "markdown",
   "id": "244cbfe2",
   "metadata": {},
   "source": [
    "# Enumerate:\n",
    "\n",
    "Enumerate function will help us to extract the index position of data records stored inside the data structure.\n",
    "Enumerate will return two parameters,\n",
    "the first parameter will be index and the second parameter will be value."
   ]
  },
  {
   "cell_type": "code",
   "execution_count": 53,
   "id": "2fc31004",
   "metadata": {},
   "outputs": [
    {
     "name": "stdout",
     "output_type": "stream",
     "text": [
      "The index  is 0 and the value is 101\n",
      "The index  is 1 and the value is 102\n",
      "The index  is 2 and the value is 103\n",
      "The index  is 3 and the value is 104\n"
     ]
    }
   ],
   "source": [
    "list_data=[101,102,103,104]\n",
    "for index,val in enumerate(list_data):\n",
    "    print(f\"The index  is {index} and the value is {val}\")"
   ]
  },
  {
   "cell_type": "code",
   "execution_count": 56,
   "id": "4876b59f",
   "metadata": {},
   "outputs": [
    {
     "name": "stdout",
     "output_type": "stream",
     "text": [
      "{101: 'Apple', 102: 'Banana', 103: 'Guava'}\n"
     ]
    }
   ],
   "source": [
    "list_data=[\"Apple\",\"Banana\",\"Guava\"]\n",
    "# using enumerate function give this result {101:\"Apple\",102:\"Banana\",103:\"Guava\"}\n",
    "empty_dict=dict()\n",
    "for index,val in enumerate(list_data):\n",
    "    empty_dict.update({index+101:val})\n",
    "print(empty_dict)"
   ]
  },
  {
   "cell_type": "markdown",
   "id": "54819a90",
   "metadata": {},
   "source": [
    "# Zip function:\n",
    "Zip method is used to extract more than one data structure at a time."
   ]
  },
  {
   "cell_type": "code",
   "execution_count": 57,
   "id": "0cd40467",
   "metadata": {},
   "outputs": [
    {
     "name": "stdout",
     "output_type": "stream",
     "text": [
      "The value from list1 is 1\n",
      "    and the value from the list2 is 4\n",
      "    and the value from the list3 is 7\n",
      "    and the value from the list4 is 10\n",
      "    and the value from the list5 is 13\n",
      "The value from list1 is 2\n",
      "    and the value from the list2 is 5\n",
      "    and the value from the list3 is 8\n",
      "    and the value from the list4 is 11\n",
      "    and the value from the list5 is 14\n",
      "The value from list1 is 3\n",
      "    and the value from the list2 is 6\n",
      "    and the value from the list3 is 9\n",
      "    and the value from the list4 is 12\n",
      "    and the value from the list5 is 15\n"
     ]
    }
   ],
   "source": [
    "list1=[1,2,3]\n",
    "list2=[4,5,6]\n",
    "list3=[7,8,9]\n",
    "list4=[10,11,12]\n",
    "list5=[13,14,15]\n",
    "for val1,val2,val3,val4,val5 in zip(list1,list2,list3,list4,list5):\n",
    "    print(f'''The value from list1 is {val1}\n",
    "    and the value from the list2 is {val2}\n",
    "    and the value from the list3 is {val3}\n",
    "    and the value from the list4 is {val4}\n",
    "    and the value from the list5 is {val5}''')\n"
   ]
  },
  {
   "cell_type": "code",
   "execution_count": 59,
   "id": "cb92c1eb",
   "metadata": {},
   "outputs": [
    {
     "name": "stdout",
     "output_type": "stream",
     "text": [
      "{101: 'Apple', 102: 'Banana', 103: 'Guava'}\n"
     ]
    }
   ],
   "source": [
    "list_data1=[101,102,103]\n",
    "list_data2=[\"Apple\",\"Banana\",\"Guava\"]\n",
    "#Output>>>>>>. {101:\"Apple\",102:\"Banana\",103:\"Guava\"}\n",
    "empty_dict=dict()\n",
    "for key,val in zip(list_data1,list_data2): empty_dict.update({key:val})\n",
    "print(empty_dict)"
   ]
  },
  {
   "cell_type": "code",
   "execution_count": null,
   "id": "d271106c",
   "metadata": {},
   "outputs": [],
   "source": []
  }
 ],
 "metadata": {
  "kernelspec": {
   "display_name": "Python 3 (ipykernel)",
   "language": "python",
   "name": "python3"
  },
  "language_info": {
   "codemirror_mode": {
    "name": "ipython",
    "version": 3
   },
   "file_extension": ".py",
   "mimetype": "text/x-python",
   "name": "python",
   "nbconvert_exporter": "python",
   "pygments_lexer": "ipython3",
   "version": "3.11.5"
  }
 },
 "nbformat": 4,
 "nbformat_minor": 5
}
