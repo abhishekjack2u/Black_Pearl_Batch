{
 "cells": [
  {
   "cell_type": "markdown",
   "id": "dc60088b",
   "metadata": {},
   "source": [
    "# Dictionary:\n",
    "\n",
    "Dictionary is a type of data structure which holds data element in the form of key value.\n",
    "It is represented by {}(curly braces).\n",
    "\n",
    "Example:\n",
    "my_dict={\"a101\":\"Apple\"}\n",
    "\n",
    "here, my_dict is a dictionary where a101 is the key and Apple is the value."
   ]
  },
  {
   "cell_type": "code",
   "execution_count": 3,
   "id": "9bac178d",
   "metadata": {},
   "outputs": [
    {
     "name": "stdout",
     "output_type": "stream",
     "text": [
      "{101: 'Apple', 'a102': 'Orange', 'a103': 'Mango'}\n",
      "<class 'dict'>\n"
     ]
    }
   ],
   "source": [
    "my_dict={101:\"Apple\",\"a102\":\"Orange\",\"a103\":\"Mango\"}\n",
    "print(my_dict)\n",
    "print(type(my_dict))"
   ]
  },
  {
   "cell_type": "code",
   "execution_count": 5,
   "id": "6f90aa6f",
   "metadata": {},
   "outputs": [
    {
     "name": "stdout",
     "output_type": "stream",
     "text": [
      "Apple\n",
      "Orange\n",
      "Mango\n"
     ]
    }
   ],
   "source": [
    "# How to access the values of the dictionaries:\n",
    "\n",
    "'''\n",
    "We can access the value of the dictionaries using keys.\n",
    "'''\n",
    "my_dict={101:\"Apple\",\"a102\":\"Orange\",\"a103\":\"Mango\"}\n",
    "print(my_dict[101])\n",
    "print(my_dict[\"a102\"])\n",
    "print(my_dict[\"a103\"])"
   ]
  },
  {
   "cell_type": "code",
   "execution_count": 8,
   "id": "5d27a1d0",
   "metadata": {},
   "outputs": [
    {
     "name": "stdout",
     "output_type": "stream",
     "text": [
      "dict_keys([101, 'a102', 'a103'])\n",
      "dict_values(['Apple', 'Orange', 'Mango'])\n"
     ]
    }
   ],
   "source": [
    "# The method to access keys and values of the dictionaries:\n",
    "my_dict={101:\"Apple\",\"a102\":\"Orange\",\"a103\":\"Mango\"}\n",
    "print(my_dict.keys()) # it will return all the keys\n",
    "print(my_dict.values()) # it will return all the values"
   ]
  },
  {
   "cell_type": "code",
   "execution_count": 10,
   "id": "3d34ca19",
   "metadata": {},
   "outputs": [
    {
     "name": "stdout",
     "output_type": "stream",
     "text": [
      "[101, 'a102', 'a103']\n",
      "a103\n"
     ]
    }
   ],
   "source": [
    "# access the keys of the dictionary using keys method.\n",
    "'''\n",
    "First get all the keys of the dictionary then typecast it to list.\n",
    "'''\n",
    "my_dict={101:\"Apple\",\"a102\":\"Orange\",\"a103\":\"Mango\"}\n",
    "print(list(my_dict.keys()))\n",
    "print(list(my_dict.keys())[-1])"
   ]
  },
  {
   "cell_type": "code",
   "execution_count": 11,
   "id": "11d18f1a",
   "metadata": {},
   "outputs": [
    {
     "name": "stdout",
     "output_type": "stream",
     "text": [
      "['Apple', 'Orange', 'Mango']\n",
      "Mango\n"
     ]
    }
   ],
   "source": [
    "# access the values of the dictionary using values method.\n",
    "'''\n",
    "First get all the values of the dictionary then typecast it to list.\n",
    "'''\n",
    "my_dict={101:\"Apple\",\"a102\":\"Orange\",\"a103\":\"Mango\"}\n",
    "print(list(my_dict.values()))\n",
    "print(list(my_dict.values())[-1])"
   ]
  },
  {
   "cell_type": "markdown",
   "id": "69cf2c07",
   "metadata": {},
   "source": [
    "# Properties of the dictionary:\n",
    "\n",
    "> We can add or remove data element from the dictionary.\n",
    "\n",
    "> Indexing or slicing is not allowed. We can access the data only with the keys of the dictionary.\n",
    "\n",
    "> We can update the existing records."
   ]
  },
  {
   "cell_type": "code",
   "execution_count": 18,
   "id": "ee2ce653",
   "metadata": {},
   "outputs": [
    {
     "name": "stdout",
     "output_type": "stream",
     "text": [
      "{101: 'Rohit', 102: 'John', 103: 'Andrew'}\n",
      "{}\n"
     ]
    }
   ],
   "source": [
    "# Functionality availabel for dictionary:\n",
    "'''\n",
    "clear,copy,get,items,pop,popitem,setdefault,update,values,keys\n",
    "'''\n",
    "# clear method: Clear method is basically used for removing all the data records from the dict.\n",
    "\n",
    "my_dict={101:\"Rohit\",102:\"John\",103:\"Andrew\"}\n",
    "print(my_dict)\n",
    "my_dict.clear()\n",
    "print(my_dict)"
   ]
  },
  {
   "cell_type": "code",
   "execution_count": 20,
   "id": "65cd0628",
   "metadata": {},
   "outputs": [
    {
     "name": "stdout",
     "output_type": "stream",
     "text": [
      "{'Apple': 'Fruit', 'Iron': 'Metal'}\n",
      "{'Apple': 'Fruit', 'Iron': 'Metal'}\n"
     ]
    }
   ],
   "source": [
    "# copy: Copy method will copy all the data records from the dictionary to another variable\n",
    "my_dict={\"Apple\":\"Fruit\",\"Iron\":\"Metal\"}\n",
    "updated_dict=my_dict.copy()\n",
    "print(my_dict)\n",
    "print(updated_dict)"
   ]
  },
  {
   "cell_type": "code",
   "execution_count": 23,
   "id": "77795fd0",
   "metadata": {},
   "outputs": [
    {
     "name": "stdout",
     "output_type": "stream",
     "text": [
      "Andrew\n",
      "Andrew\n"
     ]
    }
   ],
   "source": [
    "# get method: It is used to get the values from the dictionary using the key inside the get method.\n",
    "my_dict={101:\"Rohit\",102:\"John\",103:\"Andrew\"}\n",
    "print(my_dict.get(103))\n",
    "print(my_dict[103])"
   ]
  },
  {
   "cell_type": "code",
   "execution_count": 29,
   "id": "9b1f9075",
   "metadata": {},
   "outputs": [
    {
     "name": "stdout",
     "output_type": "stream",
     "text": [
      "dict_items([(101, 'Abhishek'), (102, 'Rohit'), (103, 'Simon')])\n",
      "Simon\n"
     ]
    }
   ],
   "source": [
    "# items: Item method will return keys and values at the same time.\n",
    "my_dict={101:\"Abhishek\",102:\"Rohit\",103:\"Simon\"}\n",
    "print(my_dict.items())\n",
    "\n",
    "# To access the keys from the item method:\n",
    "print(list(my_dict.items())[2][1])"
   ]
  },
  {
   "cell_type": "code",
   "execution_count": 32,
   "id": "c6834bbe",
   "metadata": {},
   "outputs": [
    {
     "name": "stdout",
     "output_type": "stream",
     "text": [
      "Rohit\n"
     ]
    }
   ],
   "source": [
    "my_dict={101:\"Abhishek\",102:\"Rohit\",103:\"Simon\"}\n",
    "print(list(my_dict.items())[1][1])"
   ]
  },
  {
   "cell_type": "code",
   "execution_count": 34,
   "id": "21dcf113",
   "metadata": {},
   "outputs": [
    {
     "name": "stdout",
     "output_type": "stream",
     "text": [
      "{103: 'Simon'}\n"
     ]
    }
   ],
   "source": [
    "#pop: pop method will remove the data records from the dictionary by passing the key inside it,\n",
    "'''\n",
    "When the key of the dictionary removed using pop method then the values associated with it will\n",
    "automatically removed.\n",
    "'''\n",
    "my_dict={101:\"Abhishek\",102:\"Rohit\",103:\"Simon\"}\n",
    "my_dict.pop(102)\n",
    "my_dict.pop(101)\n",
    "print(my_dict)"
   ]
  },
  {
   "cell_type": "code",
   "execution_count": 38,
   "id": "b4accb1d",
   "metadata": {},
   "outputs": [
    {
     "name": "stdout",
     "output_type": "stream",
     "text": [
      "103a\n",
      "101a\n",
      "a103\n"
     ]
    }
   ],
   "source": [
    "my_dict={\"a101\":\"101a\",\"a102\":\"102a\",\"a103\":\"103a\"}\n",
    "my_dict.pop(\"a102\")\n",
    "print(list(my_dict.items())[1][1])\n",
    "print(list(my_dict.values())[0])\n",
    "print(list(my_dict.keys())[1])"
   ]
  },
  {
   "cell_type": "code",
   "execution_count": 41,
   "id": "3d334d6e",
   "metadata": {},
   "outputs": [
    {
     "name": "stdout",
     "output_type": "stream",
     "text": [
      "{101: 'India'}\n"
     ]
    }
   ],
   "source": [
    "#popitem: popitem method will remove the data elements from the last. \n",
    "'''\n",
    "pop item method will not accept keys or values inside it to remove data records from the dict.\n",
    "It will remove the last record from the dictionary by itself.\n",
    "'''\n",
    "my_dict={101:\"India\",102:\"Aus\",103:\"UK\"}\n",
    "my_dict.popitem()\n",
    "my_dict.popitem()\n",
    "print(my_dict)"
   ]
  },
  {
   "cell_type": "code",
   "execution_count": 42,
   "id": "91953a2f",
   "metadata": {},
   "outputs": [
    {
     "name": "stdout",
     "output_type": "stream",
     "text": [
      "{103: 'UK'}\n"
     ]
    }
   ],
   "source": [
    "my_dict={101:\"India\",102:\"Aus\",103:\"UK\"}\n",
    "my_dict.pop(101)\n",
    "my_dict.pop(102)\n",
    "print(my_dict)"
   ]
  },
  {
   "cell_type": "code",
   "execution_count": 53,
   "id": "c3e18d60",
   "metadata": {},
   "outputs": [
    {
     "name": "stdout",
     "output_type": "stream",
     "text": [
      "{101: 'India', 102: 'Aus', 103: 'UK', 104: None}\n"
     ]
    }
   ],
   "source": [
    "# set default: Set default method is used to add the data records inside the dictionary using key and val\n",
    "'''\n",
    "If we pass only the key inside the set default method, then the defalut value will be set as none.\n",
    "If we pass both the key and value inside the set default method then the dictionary got updated.\n",
    "[Note: The key should be unique in nature and should not be present inside the dictionary.]\n",
    "'''\n",
    "my_dict={101:\"India\",102:\"Aus\",103:\"UK\"}\n",
    "my_dict.setdefault(104)\n",
    "print(my_dict)"
   ]
  },
  {
   "cell_type": "code",
   "execution_count": 52,
   "id": "40faa0d3",
   "metadata": {},
   "outputs": [
    {
     "name": "stdout",
     "output_type": "stream",
     "text": [
      "{101: 'Abhishek', 102: 'Rohit', 103: 'Simon', 105: 'Arg'}\n"
     ]
    }
   ],
   "source": [
    "my_dict={101:\"Abhishek\",102:\"Rohit\",103:\"Simon\"}\n",
    "my_dict.setdefault(105,\"Arg\")\n",
    "print(my_dict)"
   ]
  },
  {
   "cell_type": "code",
   "execution_count": 56,
   "id": "d4954671",
   "metadata": {},
   "outputs": [
    {
     "name": "stdout",
     "output_type": "stream",
     "text": [
      "{101: 'Abhishek', 102: 'Rohit', 103: 'Simon', 105: 'Andrew'}\n",
      "{101: 'Abhishek', 102: 'Rohit', 103: 'Simon', 105: 'Michael'}\n"
     ]
    }
   ],
   "source": [
    "# Update method: This method is used to add the data element or update the value of the dictionary.\n",
    "my_dict={101:\"Abhishek\",102:\"Rohit\",103:\"Simon\"}\n",
    "'''\n",
    "Add one more key value pair for this dict.\n",
    "'''\n",
    "my_dict.update({105:\"Andrew\"})\n",
    "print(my_dict)\n",
    "\n",
    "'''\n",
    "Update the dictionary in such a way that for key 105 the value should be michael\n",
    "'''\n",
    "my_dict.update({105:\"Michael\"})\n",
    "print(my_dict)"
   ]
  },
  {
   "cell_type": "code",
   "execution_count": 60,
   "id": "343a98f8",
   "metadata": {},
   "outputs": [
    {
     "name": "stdout",
     "output_type": "stream",
     "text": [
      "{101: 'India', 102: 'Aus', 103: 'Eng', 104: 'USA'}\n",
      "{101: 'India', 102: 'Aus', 103: 'Eng', 104: 'USA', 105: None}\n",
      "{101: 'India', 102: 'Aus', 103: 'Eng', 104: 'USA', 105: 'Dubai'}\n",
      "{101: 'India', 102: 'Aus', 103: 'Eng', 104: 'USA', 105: 'Dubai', 110: 'NZW'}\n"
     ]
    }
   ],
   "source": [
    "'''\n",
    "Design a datastructure:\n",
    "I have 5 keys and only 4 value for now.\n",
    "'''\n",
    "my_dict={101:\"India\",102:\"Aus\",103:\"Eng\",104:\"USA\"}\n",
    "print(my_dict)\n",
    "'''\n",
    "keep the key using the default value.\n",
    "'''\n",
    "my_dict.setdefault(105)\n",
    "print(my_dict)\n",
    "'''\n",
    "Good Job, you are able to add the key without the value.\n",
    "'''\n",
    "'''\n",
    "After 2 days, I got the value for the key 105, the value should be Dubai\n",
    "'''\n",
    "my_dict.update({105:\"Dubai\"})\n",
    "print(my_dict)\n",
    "\n",
    "'''\n",
    "After 5 days, Sorry I missed one more record. Can you add?\n",
    "Yes\n",
    "key should be 110 and value should be NZW\n",
    "'''\n",
    "my_dict.update({110:\"NZW\"})\n",
    "print(my_dict)"
   ]
  },
  {
   "cell_type": "markdown",
   "id": "98bee6c8",
   "metadata": {},
   "source": [
    "# Most Important properties of a dictionary:\n",
    "\n",
    "Dictionary don't support duplicate keys. It can have duplicate values."
   ]
  },
  {
   "cell_type": "code",
   "execution_count": 67,
   "id": "c3041eeb",
   "metadata": {},
   "outputs": [
    {
     "name": "stdout",
     "output_type": "stream",
     "text": [
      "{101: 'Banana'}\n"
     ]
    }
   ],
   "source": [
    "#dict wont have duplicate keys\n",
    "my_dict={101:\"Apple\",101:\"Banana\"}\n",
    "print(my_dict)"
   ]
  },
  {
   "cell_type": "code",
   "execution_count": 68,
   "id": "7fb12def",
   "metadata": {},
   "outputs": [
    {
     "name": "stdout",
     "output_type": "stream",
     "text": [
      "{101: 'Apple', 102: 'Apple'}\n"
     ]
    }
   ],
   "source": [
    "#dict can have duplicate values\n",
    "my_dict={101:\"Apple\",102:\"Apple\"}\n",
    "print(my_dict)"
   ]
  },
  {
   "cell_type": "code",
   "execution_count": 70,
   "id": "507defb2",
   "metadata": {},
   "outputs": [
    {
     "name": "stdout",
     "output_type": "stream",
     "text": [
      "{'Apple', 'Banana'}\n"
     ]
    }
   ],
   "source": [
    "# set wont have duplicate values.\n",
    "my_set={\"Apple\",\"Apple\",\"Banana\"}\n",
    "print(my_set)"
   ]
  },
  {
   "cell_type": "code",
   "execution_count": 17,
   "id": "324fb9d7",
   "metadata": {},
   "outputs": [
    {
     "name": "stdout",
     "output_type": "stream",
     "text": [
      "{101: 'Apple', 102: 'banana'}\n",
      "<class 'dict'>\n",
      "{'Apple', 'Banana'}\n",
      "<class 'set'>\n"
     ]
    }
   ],
   "source": [
    "'''\n",
    "When there is keys and values inside the curly braces then we can consider it as a dictionary.\n",
    "When there is no keys and only having values inside the curly braces, then we need to consider it as\n",
    "a set.\n",
    "'''\n",
    "dict_data={101:\"Apple\",102:\"banana\"}\n",
    "set_data={\"Apple\",\"Banana\"}\n",
    "print(dict_data)\n",
    "print(type(dict_data))\n",
    "print(set_data)\n",
    "print(type(set_data))"
   ]
  },
  {
   "cell_type": "code",
   "execution_count": 66,
   "id": "f2f8ac33",
   "metadata": {},
   "outputs": [
    {
     "name": "stdout",
     "output_type": "stream",
     "text": [
      "{1, 2, 3, 4, 5, 6}\n",
      "{1, 2, 3}\n",
      "{4, 5, 6}\n"
     ]
    }
   ],
   "source": [
    "# Doubt:\n",
    "\n",
    "'''\n",
    "Difference between union and union update in sets:\n",
    "'''\n",
    "set1={1,2,3}\n",
    "set2={4,5,6}\n",
    "set_updated=set1.union(set2)\n",
    "print(set_updated)\n",
    "print(set1)\n",
    "print(set2)"
   ]
  },
  {
   "cell_type": "code",
   "execution_count": 64,
   "id": "29038fa0",
   "metadata": {},
   "outputs": [
    {
     "name": "stdout",
     "output_type": "stream",
     "text": [
      "{1, 2, 3, 4, 5, 6}\n"
     ]
    }
   ],
   "source": [
    "set1={1,2,3}\n",
    "set2={4,5,6}\n",
    "set1.update(set2)\n",
    "print(set1)"
   ]
  },
  {
   "cell_type": "code",
   "execution_count": null,
   "id": "4cb564e5",
   "metadata": {},
   "outputs": [],
   "source": []
  }
 ],
 "metadata": {
  "kernelspec": {
   "display_name": "Python 3 (ipykernel)",
   "language": "python",
   "name": "python3"
  },
  "language_info": {
   "codemirror_mode": {
    "name": "ipython",
    "version": 3
   },
   "file_extension": ".py",
   "mimetype": "text/x-python",
   "name": "python",
   "nbconvert_exporter": "python",
   "pygments_lexer": "ipython3",
   "version": "3.11.5"
  }
 },
 "nbformat": 4,
 "nbformat_minor": 5
}
