{
 "cells": [
  {
   "cell_type": "markdown",
   "id": "92018148",
   "metadata": {},
   "source": [
    "# Map function in UDF(user defined function)"
   ]
  },
  {
   "cell_type": "code",
   "execution_count": 1,
   "id": "f2efba22",
   "metadata": {},
   "outputs": [
    {
     "data": {
      "text/plain": [
       "10"
      ]
     },
     "execution_count": 1,
     "metadata": {},
     "output_type": "execute_result"
    }
   ],
   "source": [
    "def add_numbers(x):\n",
    "    return x+5\n",
    "add_numbers(5)"
   ]
  },
  {
   "cell_type": "code",
   "execution_count": 12,
   "id": "c7cb5ce5",
   "metadata": {},
   "outputs": [
    {
     "data": {
      "text/plain": [
       "[8, 9, 10]"
      ]
     },
     "execution_count": 12,
     "metadata": {},
     "output_type": "execute_result"
    }
   ],
   "source": [
    "# Using map function we can pass multiple values at the same time and will get the result the function on each values.\n",
    "list(map(add_numbers,[3,4,5]))"
   ]
  },
  {
   "cell_type": "code",
   "execution_count": 13,
   "id": "57e8579c",
   "metadata": {},
   "outputs": [
    {
     "data": {
      "text/plain": [
       "[1, 3]"
      ]
     },
     "execution_count": 13,
     "metadata": {},
     "output_type": "execute_result"
    }
   ],
   "source": [
    "def odd_val(list_data): return list_data%2==1\n",
    "list(filter(odd_val,[1,2,3,4]))"
   ]
  },
  {
   "cell_type": "code",
   "execution_count": 14,
   "id": "66d6930a",
   "metadata": {},
   "outputs": [
    {
     "data": {
      "text/plain": [
       "[4, 16, 25, 36, 49, 64]"
      ]
     },
     "execution_count": 14,
     "metadata": {},
     "output_type": "execute_result"
    }
   ],
   "source": [
    "# WAF using map function which will result the square of each number despite of the length of the values passed to it.\n",
    "def do_square(x):\n",
    "    return x**2\n",
    "list(map(do_square,[2,4,5,6,7,8]))"
   ]
  },
  {
   "cell_type": "code",
   "execution_count": 17,
   "id": "b32de0c9",
   "metadata": {},
   "outputs": [
    {
     "name": "stdout",
     "output_type": "stream",
     "text": [
      "Do you want to add the element:- yes\n",
      "Enter the number:- 8\n",
      "Do you want to add the element:- yes\n",
      "Enter the number:- 27\n",
      "Do you want to add the element:- yes\n",
      "Enter the number:- 64\n",
      "Do you want to add the element:- yes\n",
      "Enter the number:- 81\n",
      "Do you want to add the element:- no\n"
     ]
    },
    {
     "data": {
      "text/plain": [
       "[2.0, 3.0, 3.9999999999999996, 4.3267487109222245]"
      ]
     },
     "execution_count": 17,
     "metadata": {},
     "output_type": "execute_result"
    }
   ],
   "source": [
    "# WAF using map function which will result the cube root of each number despite of the length of the values passed to it.\n",
    "def take_input():\n",
    "    a=0\n",
    "    list_of_data=[]\n",
    "    while a==0:\n",
    "        user_input=input(\"Do you want to add the element:- \")\n",
    "        if user_input==\"yes\":\n",
    "            val=int(input(\"Enter the number:- \"))\n",
    "            list_of_data.append(val)\n",
    "        else:\n",
    "            break\n",
    "    return list_of_data\n",
    "def do_cbrt(x):\n",
    "    return x**(1/3)\n",
    "list(map(do_cbrt,take_input()))"
   ]
  },
  {
   "cell_type": "code",
   "execution_count": 29,
   "id": "32d2b69d",
   "metadata": {},
   "outputs": [
    {
     "name": "stdout",
     "output_type": "stream",
     "text": [
      "Enter the range of the value:- 100\n"
     ]
    },
    {
     "data": {
      "text/plain": [
       "[1, 1, 3, 5, 13, 21, 55, 89]"
      ]
     },
     "execution_count": 29,
     "metadata": {},
     "output_type": "execute_result"
    }
   ],
   "source": [
    "# WAP that will return the list from 1 to 100 which are falling under  fibnacci series and return those values which are even \n",
    "#using filter function.\n",
    "'''\n",
    "[0,1,1,2,3,5,8,13,21,34,55,89]\n",
    "'''\n",
    "def find_fib(x):\n",
    "    list_fib=[]\n",
    "    for index,val in enumerate(range(0,x)):\n",
    "        if val==0 or val==1:\n",
    "            list_fib.append(val)\n",
    "        else:\n",
    "            list_fib.append(list_fib[-2]+list_fib[-1])\n",
    "    return [val for val in list_fib if val<100]\n",
    "\n",
    "def check_even(x):\n",
    "    return x%2!=0\n",
    "list(filter(check_even,find_fib(int(input(\"Enter the range of the value:- \")))))"
   ]
  },
  {
   "cell_type": "code",
   "execution_count": null,
   "id": "4044bab7",
   "metadata": {},
   "outputs": [],
   "source": [
    "# Assesment 1: WAP that will square the number which are even and left odd number as it is using list comprehension. [1,100]\n",
    "#The program should be one liner."
   ]
  },
  {
   "cell_type": "code",
   "execution_count": 36,
   "id": "5654683f",
   "metadata": {},
   "outputs": [
    {
     "name": "stdout",
     "output_type": "stream",
     "text": [
      "10\n"
     ]
    }
   ],
   "source": [
    "a=10\n",
    "print(a) if a==10 else a"
   ]
  },
  {
   "cell_type": "code",
   "execution_count": 37,
   "id": "9399e552",
   "metadata": {},
   "outputs": [
    {
     "name": "stdout",
     "output_type": "stream",
     "text": [
      "[1, 4, 3, 16, 5, 36, 7, 64, 9, 100, 11, 144, 13, 196, 15, 256, 17, 324, 19, 400, 21, 484, 23, 576, 25, 676, 27, 784, 29, 900, 31, 1024, 33, 1156, 35, 1296, 37, 1444, 39, 1600, 41, 1764, 43, 1936, 45, 2116, 47, 2304, 49, 2500, 51, 2704, 53, 2916, 55, 3136, 57, 3364, 59, 3600, 61, 3844, 63, 4096, 65, 4356, 67, 4624, 69, 4900, 71, 5184, 73, 5476, 75, 5776, 77, 6084, 79, 6400, 81, 6724, 83, 7056, 85, 7396, 87, 7744, 89, 8100, 91, 8464, 93, 8836, 95, 9216, 97, 9604, 99]\n"
     ]
    }
   ],
   "source": [
    "list_data=[val**2 if val%2==0 else val for val in range(1,100)]\n",
    "print(list_data)"
   ]
  },
  {
   "cell_type": "code",
   "execution_count": null,
   "id": "7eb7f842",
   "metadata": {},
   "outputs": [],
   "source": [
    "# Assesment 2: Write a program to reverse the order of the sentence.\n",
    "'''\n",
    "input: I am from USA\n",
    "output: USA from am I\n",
    "'''"
   ]
  },
  {
   "cell_type": "code",
   "execution_count": 38,
   "id": "a6b87813",
   "metadata": {},
   "outputs": [
    {
     "name": "stdout",
     "output_type": "stream",
     "text": [
      "Enter the string:- I am from USA\n"
     ]
    },
    {
     "data": {
      "text/plain": [
       "'USA from am I'"
      ]
     },
     "execution_count": 38,
     "metadata": {},
     "output_type": "execute_result"
    }
   ],
   "source": [
    "def reverse_string(val):\n",
    "    return \" \".join(val.split(\" \")[-1::-1])\n",
    "reverse_string(input(\"Enter the string:- \"))"
   ]
  },
  {
   "cell_type": "code",
   "execution_count": 39,
   "id": "cc35fd0b",
   "metadata": {},
   "outputs": [
    {
     "name": "stdout",
     "output_type": "stream",
     "text": [
      "Enter the string:- My name is Abhishek\n"
     ]
    },
    {
     "data": {
      "text/plain": [
       "['M', 'y', 'n', 'm', 's', 'b', 'h', 's', 'h', 'k']"
      ]
     },
     "execution_count": 39,
     "metadata": {},
     "output_type": "execute_result"
    }
   ],
   "source": [
    "# Assesment 3:\n",
    "'''\n",
    "WAF that will filter out all the consonant from the strings using filter function in UDF.\n",
    "'''\n",
    "def take_string():\n",
    "    string=input(\"Enter the string:- \")\n",
    "    return string\n",
    "def check_consonant(x):\n",
    "    list_ignore=[\"a\",\"e\",\"i\",\"o\",\"u\",\" \"]\n",
    "    list_consonant=[]\n",
    "    for val in x:\n",
    "        if val.lower() not in list_ignore:\n",
    "            list_consonant.append(val)\n",
    "    return list_consonant\n",
    "list(filter(check_consonant,take_string()))"
   ]
  },
  {
   "cell_type": "code",
   "execution_count": null,
   "id": "e9c5ca02",
   "metadata": {},
   "outputs": [],
   "source": []
  }
 ],
 "metadata": {
  "kernelspec": {
   "display_name": "Python 3 (ipykernel)",
   "language": "python",
   "name": "python3"
  },
  "language_info": {
   "codemirror_mode": {
    "name": "ipython",
    "version": 3
   },
   "file_extension": ".py",
   "mimetype": "text/x-python",
   "name": "python",
   "nbconvert_exporter": "python",
   "pygments_lexer": "ipython3",
   "version": "3.11.5"
  }
 },
 "nbformat": 4,
 "nbformat_minor": 5
}
