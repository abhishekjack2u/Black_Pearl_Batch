{
 "cells": [
  {
   "cell_type": "markdown",
   "id": "4b97198c",
   "metadata": {},
   "source": [
    "# While Loop:"
   ]
  },
  {
   "cell_type": "markdown",
   "id": "50bb09a9",
   "metadata": {},
   "source": [
    "While loop iterate on a specific condition."
   ]
  },
  {
   "cell_type": "code",
   "execution_count": 2,
   "id": "07e40413",
   "metadata": {},
   "outputs": [
    {
     "name": "stdout",
     "output_type": "stream",
     "text": [
      "hi\n",
      "hi\n",
      "hi\n",
      "hi\n",
      "hi\n"
     ]
    }
   ],
   "source": [
    "val=5\n",
    "a=0\n",
    "while a<5:\n",
    "    print(\"hi\")\n",
    "    a=a+1"
   ]
  },
  {
   "cell_type": "code",
   "execution_count": 8,
   "id": "06714fe5",
   "metadata": {},
   "outputs": [
    {
     "name": "stdout",
     "output_type": "stream",
     "text": [
      "1\n",
      "2\n",
      "3\n",
      "4\n"
     ]
    }
   ],
   "source": [
    "count=1\n",
    "while count < 5:\n",
    "    print(count)\n",
    "    count= count+1"
   ]
  },
  {
   "cell_type": "code",
   "execution_count": 11,
   "id": "999c37da",
   "metadata": {},
   "outputs": [
    {
     "name": "stdout",
     "output_type": "stream",
     "text": [
      "The sum_value is 55\n"
     ]
    }
   ],
   "source": [
    "num=10\n",
    "sum_var = 0\n",
    "i=1\n",
    "while i<=num:\n",
    "    sum_var=sum_var+i\n",
    "    i=i+1\n",
    "print(f\"The sum_value is {sum_var}\")"
   ]
  },
  {
   "cell_type": "code",
   "execution_count": 12,
   "id": "81b82a18",
   "metadata": {},
   "outputs": [
    {
     "name": "stdout",
     "output_type": "stream",
     "text": [
      "10\n",
      "8\n",
      "6\n",
      "4\n",
      "2\n",
      "The while loop is completed\n"
     ]
    }
   ],
   "source": [
    "value=10\n",
    "while value>0:\n",
    "    print(value)\n",
    "    value=value-2\n",
    "print(\"The while loop is completed\")"
   ]
  },
  {
   "cell_type": "code",
   "execution_count": 13,
   "id": "5977f48d",
   "metadata": {},
   "outputs": [
    {
     "name": "stdout",
     "output_type": "stream",
     "text": [
      "Total number of iteration 3\n"
     ]
    }
   ],
   "source": [
    "count=0\n",
    "number=180\n",
    "while number>10:\n",
    "    number=number/3\n",
    "    count=count+1\n",
    "print(\"Total number of iteration {count}\".format(count=count))"
   ]
  },
  {
   "cell_type": "code",
   "execution_count": 16,
   "id": "40c73f5e",
   "metadata": {},
   "outputs": [
    {
     "name": "stdout",
     "output_type": "stream",
     "text": [
      "*  \n",
      "* *  \n",
      "* * *  \n",
      "* * * *  \n",
      "* * * * *  \n",
      "* * * * * *  \n",
      "* * * * * * *  \n",
      "* * * * * * * *  \n",
      "* * * * * * * * *  \n",
      "* * * * * * * * * *  \n",
      "* * * * * * * * * * *  \n",
      "* * * * * * * * * * * *  \n",
      "* * * * * * * * * * * * *  \n",
      "* * * * * * * * * * * * * *  \n",
      "* * * * * * * * * * * * * * *  \n",
      "* * * * * * * * * * * * * * * *  \n",
      "* * * * * * * * * * * * * * * * *  \n",
      "* * * * * * * * * * * * * * * * * *  \n",
      "* * * * * * * * * * * * * * * * * * *  \n"
     ]
    }
   ],
   "source": [
    "# Draw a patter with the below example:\n",
    "'''\n",
    "*\n",
    "**\n",
    "***\n",
    "****\n",
    "*****\n",
    "'''\n",
    "i=1\n",
    "while i<20:\n",
    "    j=0\n",
    "    while j<i:\n",
    "        print(\"*\",end=' ')\n",
    "        j=j+1\n",
    "    print(\" \")\n",
    "    i=i+1"
   ]
  },
  {
   "cell_type": "code",
   "execution_count": null,
   "id": "32a733c0",
   "metadata": {},
   "outputs": [],
   "source": []
  }
 ],
 "metadata": {
  "kernelspec": {
   "display_name": "Python 3 (ipykernel)",
   "language": "python",
   "name": "python3"
  },
  "language_info": {
   "codemirror_mode": {
    "name": "ipython",
    "version": 3
   },
   "file_extension": ".py",
   "mimetype": "text/x-python",
   "name": "python",
   "nbconvert_exporter": "python",
   "pygments_lexer": "ipython3",
   "version": "3.11.5"
  }
 },
 "nbformat": 4,
 "nbformat_minor": 5
}
