{
 "cells": [
  {
   "cell_type": "markdown",
   "id": "29bf58af",
   "metadata": {},
   "source": [
    "# Properties of list:\n",
    "\n",
    "> List is mutuable. We can add or remove data elements from the list.\n",
    "\n",
    "> We can do indexing and slicing over a list.\n",
    "\n",
    "> It is ordered in nature. We have specific index for each data elements and we can use to retreive the data."
   ]
  },
  {
   "cell_type": "markdown",
   "id": "6ed661c0",
   "metadata": {},
   "source": [
    "# Tuples:\n",
    "\n",
    "Tuples is a type of data structure which is immutuable.\n",
    "\n",
    "## Properties of the Tuples:\n",
    "\n",
    "> Immutuable. It means we cannot add or remove data elements inside the tuples.\n",
    "\n",
    "> Yes, we can do indexing and slicing on the tuples.\n",
    "\n",
    "> It is ordered in nature."
   ]
  },
  {
   "cell_type": "code",
   "execution_count": 1,
   "id": "c6a86964",
   "metadata": {},
   "outputs": [
    {
     "name": "stdout",
     "output_type": "stream",
     "text": [
      "\n",
      "Welcome to Python 3.11's help utility!\n",
      "\n",
      "If this is your first time using Python, you should definitely check out\n",
      "the tutorial on the internet at https://docs.python.org/3.11/tutorial/.\n",
      "\n",
      "Enter the name of any module, keyword, or topic to get help on writing\n",
      "Python programs and using Python modules.  To quit this help utility and\n",
      "return to the interpreter, just type \"quit\".\n",
      "\n",
      "To get a list of available modules, keywords, symbols, or topics, type\n",
      "\"modules\", \"keywords\", \"symbols\", or \"topics\".  Each module also comes\n",
      "with a one-line summary of what it does; to list the modules whose name\n",
      "or summary contain a given string such as \"spam\", type \"modules spam\".\n",
      "\n",
      "help> tuples\n",
      "No Python documentation found for 'tuples'.\n",
      "Use help() to get the interactive help utility.\n",
      "Use help(str) for help on the str class.\n",
      "\n",
      "help> tuples\n",
      "No Python documentation found for 'tuples'.\n",
      "Use help() to get the interactive help utility.\n",
      "Use help(str) for help on the str class.\n",
      "\n",
      "help> tuple\n",
      "Help on class tuple in module builtins:\n",
      "\n",
      "class tuple(object)\n",
      " |  tuple(iterable=(), /)\n",
      " |  \n",
      " |  Built-in immutable sequence.\n",
      " |  \n",
      " |  If no argument is given, the constructor returns an empty tuple.\n",
      " |  If iterable is specified the tuple is initialized from iterable's items.\n",
      " |  \n",
      " |  If the argument is a tuple, the return value is the same object.\n",
      " |  \n",
      " |  Built-in subclasses:\n",
      " |      asyncgen_hooks\n",
      " |      UnraisableHookArgs\n",
      " |  \n",
      " |  Methods defined here:\n",
      " |  \n",
      " |  __add__(self, value, /)\n",
      " |      Return self+value.\n",
      " |  \n",
      " |  __contains__(self, key, /)\n",
      " |      Return key in self.\n",
      " |  \n",
      " |  __eq__(self, value, /)\n",
      " |      Return self==value.\n",
      " |  \n",
      " |  __ge__(self, value, /)\n",
      " |      Return self>=value.\n",
      " |  \n",
      " |  __getattribute__(self, name, /)\n",
      " |      Return getattr(self, name).\n",
      " |  \n",
      " |  __getitem__(self, key, /)\n",
      " |      Return self[key].\n",
      " |  \n",
      " |  __getnewargs__(self, /)\n",
      " |  \n",
      " |  __gt__(self, value, /)\n",
      " |      Return self>value.\n",
      " |  \n",
      " |  __hash__(self, /)\n",
      " |      Return hash(self).\n",
      " |  \n",
      " |  __iter__(self, /)\n",
      " |      Implement iter(self).\n",
      " |  \n",
      " |  __le__(self, value, /)\n",
      " |      Return self<=value.\n",
      " |  \n",
      " |  __len__(self, /)\n",
      " |      Return len(self).\n",
      " |  \n",
      " |  __lt__(self, value, /)\n",
      " |      Return self<value.\n",
      " |  \n",
      " |  __mul__(self, value, /)\n",
      " |      Return self*value.\n",
      " |  \n",
      " |  __ne__(self, value, /)\n",
      " |      Return self!=value.\n",
      " |  \n",
      " |  __repr__(self, /)\n",
      " |      Return repr(self).\n",
      " |  \n",
      " |  __rmul__(self, value, /)\n",
      " |      Return value*self.\n",
      " |  \n",
      " |  count(self, value, /)\n",
      " |      Return number of occurrences of value.\n",
      " |  \n",
      " |  index(self, value, start=0, stop=9223372036854775807, /)\n",
      " |      Return first index of value.\n",
      " |      \n",
      " |      Raises ValueError if the value is not present.\n",
      " |  \n",
      " |  ----------------------------------------------------------------------\n",
      " |  Class methods defined here:\n",
      " |  \n",
      " |  __class_getitem__(...) from builtins.type\n",
      " |      See PEP 585\n",
      " |  \n",
      " |  ----------------------------------------------------------------------\n",
      " |  Static methods defined here:\n",
      " |  \n",
      " |  __new__(*args, **kwargs) from builtins.type\n",
      " |      Create and return a new object.  See help(type) for accurate signature.\n",
      "\n",
      "\n",
      "You are now leaving help and returning to the Python interpreter.\n",
      "If you want to ask for help on a particular object directly from the\n",
      "interpreter, you can type \"help(object)\".  Executing \"help('string')\"\n",
      "has the same effect as typing a particular string at the help> prompt.\n"
     ]
    }
   ],
   "source": [
    "help()"
   ]
  },
  {
   "cell_type": "markdown",
   "id": "3bd63c4f",
   "metadata": {},
   "source": [
    "# count,index"
   ]
  },
  {
   "cell_type": "code",
   "execution_count": 2,
   "id": "037394e6",
   "metadata": {},
   "outputs": [
    {
     "name": "stdout",
     "output_type": "stream",
     "text": [
      "()\n",
      "<class 'tuple'>\n"
     ]
    }
   ],
   "source": [
    "empty_tuple=()# here blank parenthesis represent the empty tuples with no data elements in it.\n",
    "print(empty_tuple)\n",
    "print(type(empty_tuple))"
   ]
  },
  {
   "cell_type": "code",
   "execution_count": 5,
   "id": "63330639",
   "metadata": {},
   "outputs": [
    {
     "name": "stdout",
     "output_type": "stream",
     "text": [
      "('John', 101, 20000.0, 'HR', 'John')\n"
     ]
    }
   ],
   "source": [
    "# Tuple can hold heterogeneous data. It means it will mixed datatype elements.\n",
    "dummy_tuple=(\"John\",101,20000.00,\"HR\",\"John\")\n",
    "print(dummy_tuple)"
   ]
  },
  {
   "cell_type": "code",
   "execution_count": 7,
   "id": "35cc5eb0",
   "metadata": {},
   "outputs": [
    {
     "name": "stdout",
     "output_type": "stream",
     "text": [
      "2\n",
      "1\n"
     ]
    }
   ],
   "source": [
    "print(dummy_tuple.count(\"John\"))\n",
    "print(dummy_tuple.count(101))"
   ]
  },
  {
   "cell_type": "code",
   "execution_count": 9,
   "id": "5f9a3325",
   "metadata": {},
   "outputs": [
    {
     "name": "stdout",
     "output_type": "stream",
     "text": [
      "3\n"
     ]
    }
   ],
   "source": [
    "dummy_tuple=(\"John\",101,20000.00,\"HR\",\"John\")\n",
    "print(dummy_tuple.index(\"HR\"))"
   ]
  },
  {
   "cell_type": "code",
   "execution_count": 10,
   "id": "28fa1de2",
   "metadata": {},
   "outputs": [
    {
     "name": "stdout",
     "output_type": "stream",
     "text": [
      "0\n"
     ]
    }
   ],
   "source": [
    "dummy_tuple=(\"John\",101,20000.00,\"HR\",\"John\")\n",
    "print(dummy_tuple.index(\"John\"))"
   ]
  },
  {
   "cell_type": "code",
   "execution_count": 14,
   "id": "3c24914a",
   "metadata": {},
   "outputs": [
    {
     "name": "stdout",
     "output_type": "stream",
     "text": [
      "20000.0\n",
      "John\n"
     ]
    }
   ],
   "source": [
    "# Indexing:\n",
    "dummy_tuple=(\"John\",101,20000.00,\"HR\",\"John\")\n",
    "#forward indexing:\n",
    "print(dummy_tuple[2])\n",
    "#Reverse indexing:\n",
    "print(dummy_tuple[-1])"
   ]
  },
  {
   "cell_type": "code",
   "execution_count": 16,
   "id": "8fe9a8f9",
   "metadata": {},
   "outputs": [
    {
     "name": "stdout",
     "output_type": "stream",
     "text": [
      "(101, 'HR')\n",
      "('John', 20000.0)\n"
     ]
    }
   ],
   "source": [
    "# Slicing:\n",
    "dummy_tuple=(\"John\",101,20000.00,\"HR\",\"John\")\n",
    "#forward indexing:\n",
    "print(dummy_tuple[1:5:2])\n",
    "#Reverse indexing:\n",
    "print(dummy_tuple[-1:-4:-2])"
   ]
  },
  {
   "cell_type": "markdown",
   "id": "c1195d90",
   "metadata": {},
   "source": [
    "# Set:\n",
    "\n",
    "Set is a type of data structure which holds unordered data elements with no specific index.\n",
    "\n",
    "## Properties of the set:\n",
    "\n",
    "> Set is an unordered data structure.\n",
    "\n",
    "> We cannot do indexing or slicing on the set.\n",
    "\n",
    "> We can add data elements or remove data elements inside the set but it won't have any specific index.\n",
    "\n",
    "> We cannot sort the set.\n",
    "\n",
    "> It stores unique data elements. It won't support duplicacy of data elements inside it."
   ]
  },
  {
   "cell_type": "code",
   "execution_count": 18,
   "id": "95c91115",
   "metadata": {},
   "outputs": [
    {
     "name": "stdout",
     "output_type": "stream",
     "text": [
      "\n",
      "Welcome to Python 3.11's help utility!\n",
      "\n",
      "If this is your first time using Python, you should definitely check out\n",
      "the tutorial on the internet at https://docs.python.org/3.11/tutorial/.\n",
      "\n",
      "Enter the name of any module, keyword, or topic to get help on writing\n",
      "Python programs and using Python modules.  To quit this help utility and\n",
      "return to the interpreter, just type \"quit\".\n",
      "\n",
      "To get a list of available modules, keywords, symbols, or topics, type\n",
      "\"modules\", \"keywords\", \"symbols\", or \"topics\".  Each module also comes\n",
      "with a one-line summary of what it does; to list the modules whose name\n",
      "or summary contain a given string such as \"spam\", type \"modules spam\".\n",
      "\n",
      "help> set\n",
      "Help on class set in module builtins:\n",
      "\n",
      "class set(object)\n",
      " |  set() -> new empty set object\n",
      " |  set(iterable) -> new set object\n",
      " |  \n",
      " |  Build an unordered collection of unique elements.\n",
      " |  \n",
      " |  Methods defined here:\n",
      " |  \n",
      " |  __and__(self, value, /)\n",
      " |      Return self&value.\n",
      " |  \n",
      " |  __contains__(...)\n",
      " |      x.__contains__(y) <==> y in x.\n",
      " |  \n",
      " |  __eq__(self, value, /)\n",
      " |      Return self==value.\n",
      " |  \n",
      " |  __ge__(self, value, /)\n",
      " |      Return self>=value.\n",
      " |  \n",
      " |  __getattribute__(self, name, /)\n",
      " |      Return getattr(self, name).\n",
      " |  \n",
      " |  __gt__(self, value, /)\n",
      " |      Return self>value.\n",
      " |  \n",
      " |  __iand__(self, value, /)\n",
      " |      Return self&=value.\n",
      " |  \n",
      " |  __init__(self, /, *args, **kwargs)\n",
      " |      Initialize self.  See help(type(self)) for accurate signature.\n",
      " |  \n",
      " |  __ior__(self, value, /)\n",
      " |      Return self|=value.\n",
      " |  \n",
      " |  __isub__(self, value, /)\n",
      " |      Return self-=value.\n",
      " |  \n",
      " |  __iter__(self, /)\n",
      " |      Implement iter(self).\n",
      " |  \n",
      " |  __ixor__(self, value, /)\n",
      " |      Return self^=value.\n",
      " |  \n",
      " |  __le__(self, value, /)\n",
      " |      Return self<=value.\n",
      " |  \n",
      " |  __len__(self, /)\n",
      " |      Return len(self).\n",
      " |  \n",
      " |  __lt__(self, value, /)\n",
      " |      Return self<value.\n",
      " |  \n",
      " |  __ne__(self, value, /)\n",
      " |      Return self!=value.\n",
      " |  \n",
      " |  __or__(self, value, /)\n",
      " |      Return self|value.\n",
      " |  \n",
      " |  __rand__(self, value, /)\n",
      " |      Return value&self.\n",
      " |  \n",
      " |  __reduce__(...)\n",
      " |      Return state information for pickling.\n",
      " |  \n",
      " |  __repr__(self, /)\n",
      " |      Return repr(self).\n",
      " |  \n",
      " |  __ror__(self, value, /)\n",
      " |      Return value|self.\n",
      " |  \n",
      " |  __rsub__(self, value, /)\n",
      " |      Return value-self.\n",
      " |  \n",
      " |  __rxor__(self, value, /)\n",
      " |      Return value^self.\n",
      " |  \n",
      " |  __sizeof__(...)\n",
      " |      S.__sizeof__() -> size of S in memory, in bytes\n",
      " |  \n",
      " |  __sub__(self, value, /)\n",
      " |      Return self-value.\n",
      " |  \n",
      " |  __xor__(self, value, /)\n",
      " |      Return self^value.\n",
      " |  \n",
      " |  add(...)\n",
      " |      Add an element to a set.\n",
      " |      \n",
      " |      This has no effect if the element is already present.\n",
      " |  \n",
      " |  clear(...)\n",
      " |      Remove all elements from this set.\n",
      " |  \n",
      " |  copy(...)\n",
      " |      Return a shallow copy of a set.\n",
      " |  \n",
      " |  difference(...)\n",
      " |      Return the difference of two or more sets as a new set.\n",
      " |      \n",
      " |      (i.e. all elements that are in this set but not the others.)\n",
      " |  \n",
      " |  difference_update(...)\n",
      " |      Remove all elements of another set from this set.\n",
      " |  \n",
      " |  discard(...)\n",
      " |      Remove an element from a set if it is a member.\n",
      " |      \n",
      " |      Unlike set.remove(), the discard() method does not raise\n",
      " |      an exception when an element is missing from the set.\n",
      " |  \n",
      " |  intersection(...)\n",
      " |      Return the intersection of two sets as a new set.\n",
      " |      \n",
      " |      (i.e. all elements that are in both sets.)\n",
      " |  \n",
      " |  intersection_update(...)\n",
      " |      Update a set with the intersection of itself and another.\n",
      " |  \n",
      " |  isdisjoint(...)\n",
      " |      Return True if two sets have a null intersection.\n",
      " |  \n",
      " |  issubset(...)\n",
      " |      Report whether another set contains this set.\n",
      " |  \n",
      " |  issuperset(...)\n",
      " |      Report whether this set contains another set.\n",
      " |  \n",
      " |  pop(...)\n",
      " |      Remove and return an arbitrary set element.\n",
      " |      Raises KeyError if the set is empty.\n",
      " |  \n",
      " |  remove(...)\n",
      " |      Remove an element from a set; it must be a member.\n",
      " |      \n",
      " |      If the element is not a member, raise a KeyError.\n",
      " |  \n",
      " |  symmetric_difference(...)\n",
      " |      Return the symmetric difference of two sets as a new set.\n",
      " |      \n",
      " |      (i.e. all elements that are in exactly one of the sets.)\n",
      " |  \n",
      " |  symmetric_difference_update(...)\n",
      " |      Update a set with the symmetric difference of itself and another.\n",
      " |  \n",
      " |  union(...)\n",
      " |      Return the union of sets as a new set.\n",
      " |      \n",
      " |      (i.e. all elements that are in either set.)\n",
      " |  \n",
      " |  update(...)\n",
      " |      Update a set with the union of itself and others.\n",
      " |  \n",
      " |  ----------------------------------------------------------------------\n",
      " |  Class methods defined here:\n",
      " |  \n",
      " |  __class_getitem__(...) from builtins.type\n",
      " |      See PEP 585\n",
      " |  \n",
      " |  ----------------------------------------------------------------------\n",
      " |  Static methods defined here:\n",
      " |  \n",
      " |  __new__(*args, **kwargs) from builtins.type\n",
      " |      Create and return a new object.  See help(type) for accurate signature.\n",
      " |  \n",
      " |  ----------------------------------------------------------------------\n",
      " |  Data and other attributes defined here:\n",
      " |  \n",
      " |  __hash__ = None\n",
      "\n",
      "\n",
      "You are now leaving help and returning to the Python interpreter.\n",
      "If you want to ask for help on a particular object directly from the\n",
      "interpreter, you can type \"help(object)\".  Executing \"help('string')\"\n",
      "has the same effect as typing a particular string at the help> prompt.\n"
     ]
    }
   ],
   "source": [
    "help()"
   ]
  },
  {
   "cell_type": "code",
   "execution_count": 19,
   "id": "4a4ebe80",
   "metadata": {},
   "outputs": [],
   "source": [
    "# Functionalities of the set:add,clear,copy,difference,difference_update,discard,\n",
    "# intersection,intersection_update,isdisjoint,issubset,issuperset,pop,remove,symmetric_difference,\n",
    "#symmetric_difference_update,union,update"
   ]
  },
  {
   "cell_type": "code",
   "execution_count": 20,
   "id": "f478aa5d",
   "metadata": {},
   "outputs": [
    {
     "name": "stdout",
     "output_type": "stream",
     "text": [
      "{}\n",
      "<class 'dict'>\n"
     ]
    }
   ],
   "source": [
    "empty_set={}# here {} curly braces shows empty set with no data elements inside it.\n",
    "print(empty_set)\n",
    "print(type(empty_set))"
   ]
  },
  {
   "cell_type": "code",
   "execution_count": 23,
   "id": "bba260b9",
   "metadata": {},
   "outputs": [
    {
     "name": "stdout",
     "output_type": "stream",
     "text": [
      "{200000.0, 'ENG', 'Abhishek', 101}\n",
      "<class 'set'>\n"
     ]
    }
   ],
   "source": [
    "dummy_set={101,\"Abhishek\",200000.00,\"ENG\"}\n",
    "print(dummy_set)\n",
    "print(type(dummy_set))# so as the result the data is placed randomly inside the set(unordered)."
   ]
  },
  {
   "cell_type": "code",
   "execution_count": 26,
   "id": "0e2a940b",
   "metadata": {},
   "outputs": [
    {
     "ename": "TypeError",
     "evalue": "'set' object is not subscriptable",
     "output_type": "error",
     "traceback": [
      "\u001b[1;31m---------------------------------------------------------------------------\u001b[0m",
      "\u001b[1;31mTypeError\u001b[0m                                 Traceback (most recent call last)",
      "Cell \u001b[1;32mIn[26], line 2\u001b[0m\n\u001b[0;32m      1\u001b[0m \u001b[38;5;66;03m# Set do not support indexing and slicing:\u001b[39;00m\n\u001b[1;32m----> 2\u001b[0m \u001b[38;5;28mprint\u001b[39m(dummy_set[\u001b[38;5;241m0\u001b[39m]) \u001b[38;5;66;03m# it will throw error because set do not support indexing\u001b[39;00m\n\u001b[0;32m      3\u001b[0m \u001b[38;5;28mprint\u001b[39m(dummy_set[\u001b[38;5;241m-\u001b[39m\u001b[38;5;241m1\u001b[39m:\u001b[38;5;241m-\u001b[39m\u001b[38;5;241m3\u001b[39m:\u001b[38;5;241m-\u001b[39m\u001b[38;5;241m1\u001b[39m])\n",
      "\u001b[1;31mTypeError\u001b[0m: 'set' object is not subscriptable"
     ]
    }
   ],
   "source": [
    "# Set do not support indexing and slicing:\n",
    "print(dummy_set[0]) # it will throw error because set do not support indexing\n",
    "print(dummy_set[-1:-3:-1]) # it will throw error because set do not support slicing"
   ]
  },
  {
   "cell_type": "code",
   "execution_count": 27,
   "id": "b01ac670",
   "metadata": {},
   "outputs": [
    {
     "name": "stdout",
     "output_type": "stream",
     "text": [
      "{20000.0, 'India', 101, 102, 'Abhishek', 'Data Science', 'ENG'}\n"
     ]
    }
   ],
   "source": [
    "# how to add data elements inside the set:\n",
    "dummy_set={101,20000.00,\"Abhishek\",102,\"ENG\",\"India\"}\n",
    "dummy_set.add(\"Data Science\") # it will add or insert the data records at random position inside the set.\n",
    "print(dummy_set)"
   ]
  },
  {
   "cell_type": "code",
   "execution_count": 28,
   "id": "f451d800",
   "metadata": {},
   "outputs": [
    {
     "name": "stdout",
     "output_type": "stream",
     "text": [
      "set()\n"
     ]
    }
   ],
   "source": [
    "# clear: It removes all the data records from the set.\n",
    "dummy_set={101,20000.00,\"Abhishek\",102,\"ENG\",\"India\"}\n",
    "dummy_set.clear()\n",
    "print(dummy_set)"
   ]
  },
  {
   "cell_type": "code",
   "execution_count": 57,
   "id": "c1d2b5fa",
   "metadata": {},
   "outputs": [
    {
     "name": "stdout",
     "output_type": "stream",
     "text": [
      "{20000.0, 'India', 101, 102, 'Abhishek', 'Data Science', 'ENG'}\n"
     ]
    }
   ],
   "source": [
    "# copy: It will copy all the data elements from one set to another set.\n",
    "dummy_set={101,20000.00,\"Abhishek\",102,\"ENG\",\"India\"}\n",
    "dummy_set.add(\"Data Science\")\n",
    "updated_set=dummy_set.copy()\n",
    "print(updated_set)"
   ]
  },
  {
   "cell_type": "code",
   "execution_count": 33,
   "id": "8fff9c10",
   "metadata": {},
   "outputs": [
    {
     "data": {
      "text/plain": [
       "{20000.0, 'Abhishek', 'ENG', 'India'}"
      ]
     },
     "execution_count": 33,
     "metadata": {},
     "output_type": "execute_result"
    }
   ],
   "source": [
    "# difference: It will return those data elements which will not match between set 1 and set 2.\n",
    "dummy_set1={101,20000.00,\"Abhishek\",102,\"ENG\",\"India\"}\n",
    "dummy_set2={101,102,103}\n",
    "dummy_set1.difference(dummy_set2)"
   ]
  },
  {
   "cell_type": "code",
   "execution_count": 34,
   "id": "d3ad2650",
   "metadata": {},
   "outputs": [
    {
     "data": {
      "text/plain": [
       "{103}"
      ]
     },
     "execution_count": 34,
     "metadata": {},
     "output_type": "execute_result"
    }
   ],
   "source": [
    "dummy_set2.difference(dummy_set1)"
   ]
  },
  {
   "cell_type": "code",
   "execution_count": 36,
   "id": "c49db903",
   "metadata": {},
   "outputs": [
    {
     "name": "stdout",
     "output_type": "stream",
     "text": [
      "{20000.0, 'India', 'Abhishek', 'ENG'}\n"
     ]
    }
   ],
   "source": [
    "# difference_update: It will remove the values from the dummyset1 which were present in dummyset2.\n",
    "dummy_set1={101,20000.00,\"Abhishek\",102,\"ENG\",\"India\"}\n",
    "dummy_set2={101,102}\n",
    "dummy_set1.difference_update(dummy_set2)\n",
    "print(dummy_set1)"
   ]
  },
  {
   "cell_type": "code",
   "execution_count": 40,
   "id": "cda685cf",
   "metadata": {},
   "outputs": [
    {
     "name": "stdout",
     "output_type": "stream",
     "text": [
      "{20000.0, 'India', 102, 'Abhishek', 'ENG'}\n"
     ]
    }
   ],
   "source": [
    "# discard: It will remove the value from the set which is been passed inside the discard method.\n",
    "dummy_set1={101,20000.00,\"Abhishek\",102,\"ENG\",\"India\"}\n",
    "dummy_var=101\n",
    "dummy_set1.discard(dummy_var)\n",
    "print(dummy_set1)"
   ]
  },
  {
   "cell_type": "code",
   "execution_count": 44,
   "id": "bce46e95",
   "metadata": {},
   "outputs": [
    {
     "name": "stdout",
     "output_type": "stream",
     "text": [
      "{'India', 101, 102, 'Abhishek', 'ENG'}\n"
     ]
    }
   ],
   "source": [
    "# pop: It will randomly remove the data elements from the set without considering the index position.\n",
    "dummy_set1={101,20000.00,\"Abhishek\",102,\"ENG\",\"India\"}\n",
    "dummy_set1.pop()\n",
    "print(dummy_set1)"
   ]
  },
  {
   "cell_type": "code",
   "execution_count": 45,
   "id": "e397a831",
   "metadata": {},
   "outputs": [
    {
     "name": "stdout",
     "output_type": "stream",
     "text": [
      "{20000.0, 'India', 101, 102, 'Abhishek'}\n"
     ]
    }
   ],
   "source": [
    "# remove method: It will remove the data records which is passed inside the remove method.\n",
    "dummy_set1={101,20000.00,\"Abhishek\",102,\"ENG\",\"India\"}\n",
    "dummy_set1.remove(\"ENG\")\n",
    "print(dummy_set1)"
   ]
  },
  {
   "cell_type": "code",
   "execution_count": 51,
   "id": "11e3f8bd",
   "metadata": {},
   "outputs": [
    {
     "name": "stdout",
     "output_type": "stream",
     "text": [
      "{'A', 'C', 100, 'B'}\n",
      "{1, 2, 3, 100, 4, 'A', 'ENG', 'D', 'C', 'B'}\n"
     ]
    }
   ],
   "source": [
    "# Union: Union will combine two sets. It will also help us to add more than one data elements at a time.\n",
    "set1={\"A\",\"B\",\"C\",100}\n",
    "set2={1,2,3,\"ENG\",4,\"D\"}\n",
    "set1.union(set2)\n",
    "print(set1)\n",
    "set1=set1.union(set2)\n",
    "print(set1)"
   ]
  },
  {
   "cell_type": "code",
   "execution_count": 49,
   "id": "624f19bd",
   "metadata": {},
   "outputs": [],
   "source": [
    "# update method: Update will add more than one data records inside the set without using any variable.\n",
    "set1={\"A\",\"C\",\"B\"}\n",
    "set2={1,2,3}\n",
    "set1.update(set2)"
   ]
  },
  {
   "cell_type": "code",
   "execution_count": 50,
   "id": "9cba7e31",
   "metadata": {},
   "outputs": [
    {
     "name": "stdout",
     "output_type": "stream",
     "text": [
      "{1, 'C', 2, 3, 'B', 'A'}\n"
     ]
    }
   ],
   "source": [
    "print(set1)"
   ]
  },
  {
   "cell_type": "code",
   "execution_count": 52,
   "id": "f41cfe5c",
   "metadata": {},
   "outputs": [
    {
     "name": "stdout",
     "output_type": "stream",
     "text": [
      "{1, 2, 3, 4, 5, 6, 7, 8, 9}\n"
     ]
    }
   ],
   "source": [
    "# union with three sets\n",
    "set1={1,2,3}\n",
    "set2={4,5,6}\n",
    "set3={7,8,9}\n",
    "set1=set1.union(set2).union(set3)\n",
    "print(set1)"
   ]
  },
  {
   "cell_type": "code",
   "execution_count": 53,
   "id": "bc2b2127",
   "metadata": {},
   "outputs": [
    {
     "name": "stdout",
     "output_type": "stream",
     "text": [
      "{20000, 'Abhishek', 101}\n"
     ]
    }
   ],
   "source": [
    "# sets stores unique data elemets:\n",
    "set1={\"Abhishek\",\"Abhishek\",101,101,20000}\n",
    "print(set1)"
   ]
  },
  {
   "cell_type": "code",
   "execution_count": 54,
   "id": "0505f650",
   "metadata": {},
   "outputs": [
    {
     "name": "stdout",
     "output_type": "stream",
     "text": [
      "{1, 2, 3, 4, 5}\n"
     ]
    }
   ],
   "source": [
    "set1={1,1,1,1,1,2,2,3,3,4,5}\n",
    "print(set1)"
   ]
  },
  {
   "cell_type": "code",
   "execution_count": 55,
   "id": "72bb77fc",
   "metadata": {},
   "outputs": [
    {
     "name": "stdout",
     "output_type": "stream",
     "text": [
      "{1, 2, 3, 4, 5}\n"
     ]
    }
   ],
   "source": [
    "print({1,1,1,1,1,2,2,3,3,4,5})"
   ]
  },
  {
   "cell_type": "markdown",
   "id": "61864215",
   "metadata": {},
   "source": [
    "# Dictionary: \n",
    "Dictionary is a data structure which will have key and value. It will always come in pair of key-value.\n",
    " "
   ]
  },
  {
   "cell_type": "code",
   "execution_count": 61,
   "id": "23ea3f74",
   "metadata": {},
   "outputs": [
    {
     "name": "stdout",
     "output_type": "stream",
     "text": [
      "{}\n",
      "<class 'dict'>\n"
     ]
    }
   ],
   "source": [
    "empty_dict={}# curly braces is used to create the empty dict\n",
    "print(empty_dict)\n",
    "print(type(empty_dict))"
   ]
  },
  {
   "cell_type": "code",
   "execution_count": 63,
   "id": "f38d0e6b",
   "metadata": {},
   "outputs": [
    {
     "name": "stdout",
     "output_type": "stream",
     "text": [
      "{101: 'Apple', 102: 'Banana'}\n"
     ]
    }
   ],
   "source": [
    "'''\n",
    "Inside the dictionary the key and value will be separated by the colon(:) and two different dictionary\n",
    "data elements will be separated by the comma(,).\n",
    "'''\n",
    "dummy_dict={101:\"Apple\",102:\"Banana\"}\n",
    "# here 101 and 102 is the key and \"Apple\" and \"banana\" are the values.\n",
    "print(dummy_dict)"
   ]
  },
  {
   "cell_type": "code",
   "execution_count": 64,
   "id": "41a1dc4e",
   "metadata": {},
   "outputs": [
    {
     "name": "stdout",
     "output_type": "stream",
     "text": [
      "Apple\n"
     ]
    }
   ],
   "source": [
    "# how to retreive the data from the dictionary:\n",
    "'''\n",
    "We can retreive the data from the dictionary using the key because indexing is not allowed inside the \n",
    "dictionary.\n",
    "'''\n",
    "dummy_dict={101:\"Apple\",102:\"Banana\"}\n",
    "print(dummy_dict[101])"
   ]
  },
  {
   "cell_type": "code",
   "execution_count": 65,
   "id": "214f57f2",
   "metadata": {},
   "outputs": [
    {
     "name": "stdout",
     "output_type": "stream",
     "text": [
      "Banana\n"
     ]
    }
   ],
   "source": [
    "dummy_dict={101:\"Apple\",102:\"Banana\"}\n",
    "print(dummy_dict[102])"
   ]
  },
  {
   "cell_type": "code",
   "execution_count": 67,
   "id": "a20498b1",
   "metadata": {},
   "outputs": [
    {
     "name": "stdout",
     "output_type": "stream",
     "text": [
      "Apple\n"
     ]
    }
   ],
   "source": [
    "dummy_dict={101:\"Apple\",102:\"Banana\"}\n",
    "print(dummy_dict[101])"
   ]
  },
  {
   "cell_type": "code",
   "execution_count": null,
   "id": "d786cc0d",
   "metadata": {},
   "outputs": [],
   "source": []
  }
 ],
 "metadata": {
  "kernelspec": {
   "display_name": "Python 3 (ipykernel)",
   "language": "python",
   "name": "python3"
  },
  "language_info": {
   "codemirror_mode": {
    "name": "ipython",
    "version": 3
   },
   "file_extension": ".py",
   "mimetype": "text/x-python",
   "name": "python",
   "nbconvert_exporter": "python",
   "pygments_lexer": "ipython3",
   "version": "3.11.5"
  }
 },
 "nbformat": 4,
 "nbformat_minor": 5
}
