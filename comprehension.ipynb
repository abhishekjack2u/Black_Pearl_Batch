{
 "cells": [
  {
   "cell_type": "markdown",
   "id": "87cf05ec",
   "metadata": {},
   "source": [
    "# Comprehensions:\n",
    "\n",
    "Comprehensions are the single line code to iterate over the data structure."
   ]
  },
  {
   "cell_type": "code",
   "execution_count": 1,
   "id": "cf65cb6d",
   "metadata": {},
   "outputs": [
    {
     "name": "stdout",
     "output_type": "stream",
     "text": [
      "[2, 4, 6, 8, 10]\n"
     ]
    }
   ],
   "source": [
    "list_data=[1,2,3,4,5,6,7,8,9,10]\n",
    "empty_list=[]\n",
    "for val in list_data:\n",
    "    if val%2==0:\n",
    "        empty_list.append(val)\n",
    "    else:\n",
    "        pass\n",
    "print(empty_list)"
   ]
  },
  {
   "cell_type": "code",
   "execution_count": 2,
   "id": "f55f307a",
   "metadata": {},
   "outputs": [
    {
     "name": "stdout",
     "output_type": "stream",
     "text": [
      "[2, 4, 6, 8, 10]\n"
     ]
    }
   ],
   "source": [
    "'''\n",
    "In the above example we are iterating over the list and saving the desire result inside the list.\n",
    "This can be solved by the comprehsnion known as list comprehension.\n",
    "'''\n",
    "#Example of list comprehension\n",
    "list_data=[1,2,3,4,5,6,7,8,9,10]\n",
    "empty_list=[val for val in list_data if val%2==0]\n",
    "print(empty_list)"
   ]
  },
  {
   "cell_type": "code",
   "execution_count": 17,
   "id": "1f9cdc27",
   "metadata": {},
   "outputs": [
    {
     "name": "stdout",
     "output_type": "stream",
     "text": [
      "['malayalam', 'abcba']\n",
      "['malayalam', 'abcba']\n"
     ]
    }
   ],
   "source": [
    "# WAP to extract the list of pallindrome from the below list.[Use list comprehension]\n",
    "list_data=[\"malayalam\",\"banana\",\"apple\",\"abcba\"]\n",
    "empty_list=[]\n",
    "for val in list_data:\n",
    "    if val==val[-1::-1]:\n",
    "        empty_list.append(val)\n",
    "    else:\n",
    "        pass\n",
    "print(empty_list)\n",
    "\n",
    "#using list comprehension:\n",
    "comprehension_list=[val for val in list_data if val==val[-1::-1]]\n",
    "print(comprehension_list)"
   ]
  },
  {
   "cell_type": "code",
   "execution_count": 24,
   "id": "c1c4a076",
   "metadata": {},
   "outputs": [
    {
     "name": "stdout",
     "output_type": "stream",
     "text": [
      "[1, 4, 9, 16, 25, 36, 49]\n",
      "[1, 8, 27, 64, 125, 216, 343]\n",
      "[2.0, 3.0, 4.0, 5.0, 6.0, 7.0, 8.0, 9.0]\n",
      "[3.0, 3.9999999999999996, 5.0, 5.999999999999999, 6.999999999999999]\n"
     ]
    }
   ],
   "source": [
    "# WAP to do the square of each element of the list.\n",
    "list_data=[1,2,3,4,5,6,7]\n",
    "exptected_list=[val**2 for val in list_data]\n",
    "print(exptected_list)\n",
    "# WAP to do cube of each element of the list.\n",
    "list_data=[1,2,3,4,5,6,7]\n",
    "excepected_list=[val**3 for val in list_data]\n",
    "print(excepected_list)\n",
    "# WAP to do square root of each element from the list.\n",
    "list_data=[4,9,16,25,36,49,64,81]\n",
    "output_list=[val**(1/2) for val in list_data]\n",
    "print(output_list)\n",
    "# WAP to do cube root of each element from the list.\n",
    "list_data=[27,64,125,216,343]\n",
    "output_list=[val**(1/3) for val in list_data]\n",
    "print(output_list)"
   ]
  },
  {
   "cell_type": "markdown",
   "id": "79143376",
   "metadata": {},
   "source": [
    "# Syntax for the list comprehension:\n",
    "output_list=[output_exp for val in input_list if condition]"
   ]
  },
  {
   "cell_type": "markdown",
   "id": "e27bc09a",
   "metadata": {},
   "source": [
    "# Dictionary comprehension:"
   ]
  },
  {
   "cell_type": "code",
   "execution_count": 26,
   "id": "a2cc4fd6",
   "metadata": {},
   "outputs": [
    {
     "name": "stdout",
     "output_type": "stream",
     "text": [
      "{102: 'Banana', 104: 'Orange'}\n",
      "{102: 'Banana', 104: 'Orange'}\n"
     ]
    }
   ],
   "source": [
    "dict_data={101:\"Apple\",102:\"Banana\",103:\"Kiwi\",104:\"Orange\"}\n",
    "# WAP to return the fruits with key whose key is an even number.\n",
    "# For loop menthod conventional method\n",
    "empty_dict=dict()\n",
    "for key,val in dict_data.items():\n",
    "    if key%2==0:\n",
    "        empty_dict.update({key:val})\n",
    "    else:\n",
    "        pass\n",
    "print(empty_dict)\n",
    "\n",
    "# Using dictionary comprehension:\n",
    "output_dict={key:val for key,val in dict_data.items() if key%2==0}\n",
    "print(output_dict)"
   ]
  },
  {
   "cell_type": "code",
   "execution_count": 29,
   "id": "b4829f91",
   "metadata": {},
   "outputs": [
    {
     "name": "stdout",
     "output_type": "stream",
     "text": [
      "{'Apple': 101, 'Banana': 102, 'Kiwi': 103}\n",
      "{'Apple': 101, 'Banana': 102, 'Kiwi': 103}\n"
     ]
    }
   ],
   "source": [
    "# WAP to switch the key and value of the dictionary.\n",
    "dict_data={101:\"Apple\",102:\"Banana\",103:\"Kiwi\"}\n",
    "# Expected_output= {\"Apple\":101,\"Banana\":102,\"Kiwi\":103}\n",
    "empty_dict=dict()\n",
    "# Conventional method:\n",
    "for key,val in dict_data.items():\n",
    "    empty_dict.update({val:key})\n",
    "print(empty_dict)\n",
    "\n",
    "#dictionary comprehension\n",
    "empty_dict={val:key for key,val in dict_data.items()}\n",
    "print(empty_dict)"
   ]
  },
  {
   "cell_type": "code",
   "execution_count": 33,
   "id": "55dba52d",
   "metadata": {},
   "outputs": [
    {
     "name": "stdout",
     "output_type": "stream",
     "text": [
      "{101: 'Apple', 102: 'Banana', 103: 'Kiwi'}\n",
      "{101: 'Apple', 102: 'Banana', 103: 'Kiwi'}\n"
     ]
    }
   ],
   "source": [
    "# WAP to make key from list1 and value from list 2 inside a new dictionary.\n",
    "list_data1=[101,102,103]\n",
    "list_data2=[\"Apple\",\"Banana\",\"Kiwi\"]\n",
    "#expected_output={101:\"Apple\",102:\"Banana\",103:\"Kiwi\"}\n",
    "\n",
    "#conventional_method\n",
    "empty_dict=dict()\n",
    "for val1,val2 in zip(list_data1,list_data2):\n",
    "    empty_dict.update({val1:val2})\n",
    "print(empty_dict)\n",
    "\n",
    "#using dictionary comprehension\n",
    "empty_dict={val1:val2 for val1,val2 in zip(list_data1,list_data2)}\n",
    "print(empty_dict)"
   ]
  },
  {
   "cell_type": "code",
   "execution_count": 38,
   "id": "39c822d6",
   "metadata": {},
   "outputs": [
    {
     "name": "stdout",
     "output_type": "stream",
     "text": [
      "{7: 'Apple', 14: 'Banana', 21: 'Kiwi', 35: 'Orange'}\n",
      "{7: 'Apple', 14: 'Banana', 21: 'Kiwi', 35: 'Orange'}\n"
     ]
    }
   ],
   "source": [
    "# WAP to make key from list1 if its divisible by 7 and value from list 2 inside a new dictionary.\n",
    "list_data1=[7,14,21,35,33,54]\n",
    "list_data2=[\"Apple\",\"Banana\",\"Kiwi\",\"Orange\"]\n",
    "#expected_output: {7:\"Apple\",14:\"banana\",21:\"Kiwi\",35:\"Orange\"}\n",
    "# Conventional method\n",
    "empty_dict=dict()\n",
    "for val1,val2 in zip(list_data1,list_data2):\n",
    "    if val1%7==0:\n",
    "        empty_dict.update({val1:val2})\n",
    "    else:\n",
    "        pass\n",
    "print(empty_dict)\n",
    "#dictionary comprehension\n",
    "empty_dict={val1:val2 for val1,val2 in zip(list_data1,list_data2) if val1%7==0}\n",
    "print(empty_dict)"
   ]
  },
  {
   "cell_type": "code",
   "execution_count": 43,
   "id": "23333d2c",
   "metadata": {},
   "outputs": [
    {
     "name": "stdout",
     "output_type": "stream",
     "text": [
      "{9, 3, 6}\n",
      "{9, 3, 6}\n"
     ]
    }
   ],
   "source": [
    "# Set comprehension:\n",
    "set_data={2,3,4,5,6,7,8,9,10}\n",
    "#WAP that will return a set and it will have records which are divisble by 3\n",
    "#conventional method\n",
    "empty_set=set()\n",
    "for val in set_data:\n",
    "    if val%3==0:\n",
    "        empty_set.add(val)\n",
    "    else:\n",
    "        pass\n",
    "print(empty_set)\n",
    "\n",
    "#using the set comprehension\n",
    "empty_set={val for val in set_data if val%3==0}\n",
    "print(empty_set)"
   ]
  },
  {
   "cell_type": "code",
   "execution_count": 48,
   "id": "ae598e04",
   "metadata": {},
   "outputs": [
    {
     "name": "stdout",
     "output_type": "stream",
     "text": [
      "{101: 'Apple', 102: 'Banana', 103: 'Kiwi', 104: 'Orange', 105: 'Guava'}\n",
      "{101: 'Apple', 102: 'Banana', 103: 'Kiwi', 104: 'Orange', 105: 'Guava'}\n"
     ]
    }
   ],
   "source": [
    "list_data1=[101,102,103,104,105]\n",
    "list_data2=[\"Apple\",\"Banana\",\"Kiwi\",\"Orange\",\"Guava\"]\n",
    "\n",
    "#Using comprehension\n",
    "empty_dict=dict([(val1,val2) for val1,val2 in zip(list_data1,list_data2)])\n",
    "print(empty_dict)\n",
    "\n",
    "# conventional method\n",
    "empty_list=[]\n",
    "for val1,val2 in zip(list_data1,list_data2):\n",
    "    empty_list.append((val1,val2))\n",
    "empty_dict=dict(empty_list)\n",
    "print(empty_dict)"
   ]
  },
  {
   "cell_type": "code",
   "execution_count": null,
   "id": "f0c675a2",
   "metadata": {},
   "outputs": [],
   "source": []
  }
 ],
 "metadata": {
  "kernelspec": {
   "display_name": "Python 3 (ipykernel)",
   "language": "python",
   "name": "python3"
  },
  "language_info": {
   "codemirror_mode": {
    "name": "ipython",
    "version": 3
   },
   "file_extension": ".py",
   "mimetype": "text/x-python",
   "name": "python",
   "nbconvert_exporter": "python",
   "pygments_lexer": "ipython3",
   "version": "3.11.5"
  }
 },
 "nbformat": 4,
 "nbformat_minor": 5
}
